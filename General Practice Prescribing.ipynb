{
 "cells": [
  {
   "cell_type": "markdown",
   "metadata": {},
   "source": [
    "January 2019"
   ]
  },
  {
   "cell_type": "markdown",
   "metadata": {},
   "source": [
    "## General Practice Prescribing Analysis\n",
    "\n",
    "### Introduction\n",
    "This is an analysis of prescribing in general practice across England for the month of April 2018 that I carried out as part of my Masters in Health Data Science at UCL.   Datasets are freely available from NHS Digital \n",
    "<a href='https://digital.nhs.uk/data-and-information/publications/statistical/practice-level-prescribing-data/april-2018'>here</a> and <a href='https://digital.nhs.uk/data-and-information/publications/statistical/patients-registered-at-a-gp-practice/patients-registered-at-a-gp-practice-april-2018-special-topic---registered-patients-compared-to-the-projected-resident-population-in-england'>here.</a>\n",
    "There are three principle databases of interest:\n",
    "<ul>\n",
    "    <li>Registrations database: Details the number of patients registered at each GP practice (identified by a a practice code)</li>\n",
    "    <li>Practice database: Details the practice name and address for each practice code</li>\n",
    "    <li>Prescribing database: This is a very large file (1.4 GB) which contains information on all medicines, dressings and appliances prescribed by all practices.</li>\n",
    "    <li>Pharmacy database: Links nine character stems of BNF codes to the drug name</li>\n",
    "</ul>\n",
    "<p>The prescription processing activity is internally audited to 97.5% accuracy (meaning at least 97.5% of prescriptions are recorded accurately)</p>\n",
    "<p>I will be using Pandas and other standard modules to analysis the data.</p>"
   ]
  },
  {
   "cell_type": "code",
   "execution_count": 2,
   "metadata": {},
   "outputs": [],
   "source": [
    "#preliminaries\n",
    "import pandas as pd\n",
    "import re\n",
    "import numpy as np\n",
    "import math\n",
    "from scipy.stats import norm\n",
    "import matplotlib.pyplot as plot\n",
    "%matplotlib inline"
   ]
  },
  {
   "cell_type": "code",
   "execution_count": 3,
   "metadata": {},
   "outputs": [],
   "source": [
    "# Import data sets\n",
    "local_path = \"/Users/tom/Documents/datasci/DMHR/Assignment/\"\n",
    "\n",
    "registration_file = 'gp-reg-pat-prac-all.csv'\n",
    "practice_file = 'T201804ADDR+BNFT.CSV'\n",
    "prescribing_file = 'T201804PDPI+BNFT.CSV'\n",
    "pharm_file = 'T201804CHEM+SUBS.CSV'\n",
    "\n",
    "reg_url = 'https://files.digital.nhs.uk/71/B59D99/'\n",
    "pract_url = 'https://files.digital.nhs.uk/20/09E30B/'\n",
    "presc_url = 'https://files.digital.nhs.uk/38/03EC1C/'\n",
    "pharm_url = 'https://files.digital.nhs.uk/79/6D58A8/'\n",
    "\n",
    "prescribing_cols = ['sha', 'pct', 'practice_code', 'bnf_code', 'bnf_name', 'items', 'nic', 'act_cost', \\\n",
    "                    'quantity', 'period']\n",
    "practice_cols = ['time_period', 'practice_code', 'practice_name', 'practice_organization', 'street', 'city', \n",
    "    'area', 'postcode']\n",
    "pharm_cols = ['chem_sub','name','drop1','drop2']\n",
    "\n",
    "# To load locally saved files, they should be saved in path set with 'local_path' and with the default file names\n",
    "try:\n",
    "    registrations_df = pd.read_csv(local_path+registration_file, index_col= False)\n",
    "    practice_df = pd.read_csv(local_path+practice_file, header=None, names=practice_cols, index_col=False)\n",
    "    prescribing_df = pd.read_csv(local_path+prescribing_file, names=prescribing_cols, skiprows=1, index_col= False)\n",
    "    pharm_df = pd.read_csv(local_path+pharm_file, skiprows=1, names=pharm_cols, index_col=False)\n",
    "\n",
    "    \n",
    "except FileNotFoundError:\n",
    "    registrations_df = pd.read_csv(reg_url+registration_file, index_col= False)\n",
    "    practice_df =      pd.read_csv(pract_url+practice_file, header=None, names=practice_cols, index_col=False)\n",
    "    prescribing_df =   pd.read_csv(presc_url+prescribing_file, names=prescribing_cols, skiprows=1, index_col= False)\n",
    "    pharm_df = pd.read_csv(phrm_url+pharm_file, skiprows=1, names=pharm_cols, index_col=False)"
   ]
  },
  {
   "cell_type": "markdown",
   "metadata": {},
   "source": [
    "After importing the databases, they require some reformatting.  Column names are standardized and white space around the textual data is stripped."
   ]
  },
  {
   "cell_type": "code",
   "execution_count": 4,
   "metadata": {},
   "outputs": [
    {
     "name": "stdout",
     "output_type": "stream",
     "text": [
      "Before processing, data appears as:'HARTLEPOOL               '\n"
     ]
    }
   ],
   "source": [
    "#rename columns with lower case indexes.  rename code to practice_code\n",
    "registrations_df.columns = registrations_df.columns.str.lower()\n",
    "registrations_df.rename(columns={'code':'practice_code'},inplace = True)\n",
    "\n",
    "print(\"Before processing, data appears as:'\"+practice_df['city'][50]+\"'\" )"
   ]
  },
  {
   "cell_type": "code",
   "execution_count": 5,
   "metadata": {
    "scrolled": false
   },
   "outputs": [
    {
     "name": "stdout",
     "output_type": "stream",
     "text": [
      "After processing, data appears as:'Hartlepool'\n"
     ]
    }
   ],
   "source": [
    "# Strip white space from data in all columns of type object (ie strings)\n",
    "for column in prescribing_df.columns:\n",
    "    if prescribing_df[column].dtype == 'object':\n",
    "        prescribing_df[column] = prescribing_df[column].str.strip()\n",
    "for column in practice_df.columns:\n",
    "    if practice_df[column].dtype == 'object':\n",
    "        practice_df[column] = practice_df[column].str.strip()\n",
    "        if practice_df[column].name == 'postcode':\n",
    "            practice_df[column] = practice_df[column].str.upper()\n",
    "        else:\n",
    "            practice_df[column] = practice_df[column].str.title()\n",
    "print(\"After processing, data appears as:'\"+practice_df['city'][50]+\"'\" )\n",
    "\n",
    "pharm_df.columns = ['chem_sub','name','drop1','drop2']\n",
    "pharm_df = pharm_df.drop(['drop1','drop2'], axis=1)\n",
    "pharm_df.name = pharm_df.name.str.strip(' .')"
   ]
  },
  {
   "cell_type": "markdown",
   "metadata": {},
   "source": [
    "The databases now look like this:"
   ]
  },
  {
   "cell_type": "code",
   "execution_count": 6,
   "metadata": {},
   "outputs": [
    {
     "data": {
      "text/html": [
       "<div>\n",
       "<style scoped>\n",
       "    .dataframe tbody tr th:only-of-type {\n",
       "        vertical-align: middle;\n",
       "    }\n",
       "\n",
       "    .dataframe tbody tr th {\n",
       "        vertical-align: top;\n",
       "    }\n",
       "\n",
       "    .dataframe thead th {\n",
       "        text-align: right;\n",
       "    }\n",
       "</style>\n",
       "<table border=\"1\" class=\"dataframe\">\n",
       "  <thead>\n",
       "    <tr style=\"text-align: right;\">\n",
       "      <th></th>\n",
       "      <th>publication</th>\n",
       "      <th>extract_date</th>\n",
       "      <th>type</th>\n",
       "      <th>ccg_code</th>\n",
       "      <th>ons_ccg_code</th>\n",
       "      <th>practice_code</th>\n",
       "      <th>postcode</th>\n",
       "      <th>sex</th>\n",
       "      <th>age</th>\n",
       "      <th>number_of_patients</th>\n",
       "    </tr>\n",
       "  </thead>\n",
       "  <tbody>\n",
       "    <tr>\n",
       "      <th>0</th>\n",
       "      <td>GP_PRAC_PAT_LIST</td>\n",
       "      <td>01APR2018</td>\n",
       "      <td>GP</td>\n",
       "      <td>00C</td>\n",
       "      <td>E38000042</td>\n",
       "      <td>A83005</td>\n",
       "      <td>DL1 3RT</td>\n",
       "      <td>ALL</td>\n",
       "      <td>ALL</td>\n",
       "      <td>11826</td>\n",
       "    </tr>\n",
       "    <tr>\n",
       "      <th>1</th>\n",
       "      <td>GP_PRAC_PAT_LIST</td>\n",
       "      <td>01APR2018</td>\n",
       "      <td>GP</td>\n",
       "      <td>00C</td>\n",
       "      <td>E38000042</td>\n",
       "      <td>A83006</td>\n",
       "      <td>DL3 6HZ</td>\n",
       "      <td>ALL</td>\n",
       "      <td>ALL</td>\n",
       "      <td>8044</td>\n",
       "    </tr>\n",
       "    <tr>\n",
       "      <th>2</th>\n",
       "      <td>GP_PRAC_PAT_LIST</td>\n",
       "      <td>01APR2018</td>\n",
       "      <td>GP</td>\n",
       "      <td>00C</td>\n",
       "      <td>E38000042</td>\n",
       "      <td>A83010</td>\n",
       "      <td>DL3 9JP</td>\n",
       "      <td>ALL</td>\n",
       "      <td>ALL</td>\n",
       "      <td>14070</td>\n",
       "    </tr>\n",
       "    <tr>\n",
       "      <th>3</th>\n",
       "      <td>GP_PRAC_PAT_LIST</td>\n",
       "      <td>01APR2018</td>\n",
       "      <td>GP</td>\n",
       "      <td>00C</td>\n",
       "      <td>E38000042</td>\n",
       "      <td>A83013</td>\n",
       "      <td>DL1 4YL</td>\n",
       "      <td>ALL</td>\n",
       "      <td>ALL</td>\n",
       "      <td>11298</td>\n",
       "    </tr>\n",
       "    <tr>\n",
       "      <th>4</th>\n",
       "      <td>GP_PRAC_PAT_LIST</td>\n",
       "      <td>01APR2018</td>\n",
       "      <td>GP</td>\n",
       "      <td>00C</td>\n",
       "      <td>E38000042</td>\n",
       "      <td>A83031</td>\n",
       "      <td>DL3 8SQ</td>\n",
       "      <td>ALL</td>\n",
       "      <td>ALL</td>\n",
       "      <td>10109</td>\n",
       "    </tr>\n",
       "  </tbody>\n",
       "</table>\n",
       "</div>"
      ],
      "text/plain": [
       "        publication extract_date type ccg_code ons_ccg_code practice_code  \\\n",
       "0  GP_PRAC_PAT_LIST    01APR2018   GP      00C    E38000042        A83005   \n",
       "1  GP_PRAC_PAT_LIST    01APR2018   GP      00C    E38000042        A83006   \n",
       "2  GP_PRAC_PAT_LIST    01APR2018   GP      00C    E38000042        A83010   \n",
       "3  GP_PRAC_PAT_LIST    01APR2018   GP      00C    E38000042        A83013   \n",
       "4  GP_PRAC_PAT_LIST    01APR2018   GP      00C    E38000042        A83031   \n",
       "\n",
       "  postcode  sex  age  number_of_patients  \n",
       "0  DL1 3RT  ALL  ALL               11826  \n",
       "1  DL3 6HZ  ALL  ALL                8044  \n",
       "2  DL3 9JP  ALL  ALL               14070  \n",
       "3  DL1 4YL  ALL  ALL               11298  \n",
       "4  DL3 8SQ  ALL  ALL               10109  "
      ]
     },
     "execution_count": 6,
     "metadata": {},
     "output_type": "execute_result"
    }
   ],
   "source": [
    "registrations_df.head()"
   ]
  },
  {
   "cell_type": "code",
   "execution_count": 7,
   "metadata": {},
   "outputs": [
    {
     "data": {
      "text/html": [
       "<div>\n",
       "<style scoped>\n",
       "    .dataframe tbody tr th:only-of-type {\n",
       "        vertical-align: middle;\n",
       "    }\n",
       "\n",
       "    .dataframe tbody tr th {\n",
       "        vertical-align: top;\n",
       "    }\n",
       "\n",
       "    .dataframe thead th {\n",
       "        text-align: right;\n",
       "    }\n",
       "</style>\n",
       "<table border=\"1\" class=\"dataframe\">\n",
       "  <thead>\n",
       "    <tr style=\"text-align: right;\">\n",
       "      <th></th>\n",
       "      <th>time_period</th>\n",
       "      <th>practice_code</th>\n",
       "      <th>practice_name</th>\n",
       "      <th>practice_organization</th>\n",
       "      <th>street</th>\n",
       "      <th>city</th>\n",
       "      <th>area</th>\n",
       "      <th>postcode</th>\n",
       "    </tr>\n",
       "  </thead>\n",
       "  <tbody>\n",
       "    <tr>\n",
       "      <th>0</th>\n",
       "      <td>201804</td>\n",
       "      <td>A81001</td>\n",
       "      <td>The Densham Surgery</td>\n",
       "      <td>The Health Centre</td>\n",
       "      <td>Lawson Street</td>\n",
       "      <td>Stockton-On-Tees</td>\n",
       "      <td>Cleveland</td>\n",
       "      <td>TS18 1HU</td>\n",
       "    </tr>\n",
       "    <tr>\n",
       "      <th>1</th>\n",
       "      <td>201804</td>\n",
       "      <td>A81002</td>\n",
       "      <td>Queens Park Medical Centre</td>\n",
       "      <td>Queens Park Medical Ctr</td>\n",
       "      <td>Farrer Street</td>\n",
       "      <td>Stockton On Tees</td>\n",
       "      <td>Cleveland</td>\n",
       "      <td>TS18 2AW</td>\n",
       "    </tr>\n",
       "    <tr>\n",
       "      <th>2</th>\n",
       "      <td>201804</td>\n",
       "      <td>A81004</td>\n",
       "      <td>Bluebell Medical Centre</td>\n",
       "      <td>Trimdon Avenue</td>\n",
       "      <td>Acklam</td>\n",
       "      <td>Middlesbrough</td>\n",
       "      <td></td>\n",
       "      <td>TS5 8SB</td>\n",
       "    </tr>\n",
       "    <tr>\n",
       "      <th>3</th>\n",
       "      <td>201804</td>\n",
       "      <td>A81005</td>\n",
       "      <td>Springwood Surgery</td>\n",
       "      <td>Springwood Surgery</td>\n",
       "      <td>Rectory Lane</td>\n",
       "      <td>Guisborough</td>\n",
       "      <td></td>\n",
       "      <td>TS14 7DJ</td>\n",
       "    </tr>\n",
       "    <tr>\n",
       "      <th>4</th>\n",
       "      <td>201804</td>\n",
       "      <td>A81006</td>\n",
       "      <td>Tennant Street Medical Practice</td>\n",
       "      <td>Tennant St Medical Pract</td>\n",
       "      <td>Tennant Street</td>\n",
       "      <td>Stockton-On-Tees</td>\n",
       "      <td>Cleveland</td>\n",
       "      <td>TS18 2AT</td>\n",
       "    </tr>\n",
       "  </tbody>\n",
       "</table>\n",
       "</div>"
      ],
      "text/plain": [
       "   time_period practice_code                    practice_name  \\\n",
       "0       201804        A81001              The Densham Surgery   \n",
       "1       201804        A81002       Queens Park Medical Centre   \n",
       "2       201804        A81004          Bluebell Medical Centre   \n",
       "3       201804        A81005               Springwood Surgery   \n",
       "4       201804        A81006  Tennant Street Medical Practice   \n",
       "\n",
       "      practice_organization          street              city       area  \\\n",
       "0         The Health Centre   Lawson Street  Stockton-On-Tees  Cleveland   \n",
       "1   Queens Park Medical Ctr   Farrer Street  Stockton On Tees  Cleveland   \n",
       "2            Trimdon Avenue          Acklam     Middlesbrough              \n",
       "3        Springwood Surgery    Rectory Lane       Guisborough              \n",
       "4  Tennant St Medical Pract  Tennant Street  Stockton-On-Tees  Cleveland   \n",
       "\n",
       "   postcode  \n",
       "0  TS18 1HU  \n",
       "1  TS18 2AW  \n",
       "2   TS5 8SB  \n",
       "3  TS14 7DJ  \n",
       "4  TS18 2AT  "
      ]
     },
     "execution_count": 7,
     "metadata": {},
     "output_type": "execute_result"
    }
   ],
   "source": [
    "practice_df.head()"
   ]
  },
  {
   "cell_type": "code",
   "execution_count": 8,
   "metadata": {},
   "outputs": [
    {
     "data": {
      "text/html": [
       "<div>\n",
       "<style scoped>\n",
       "    .dataframe tbody tr th:only-of-type {\n",
       "        vertical-align: middle;\n",
       "    }\n",
       "\n",
       "    .dataframe tbody tr th {\n",
       "        vertical-align: top;\n",
       "    }\n",
       "\n",
       "    .dataframe thead th {\n",
       "        text-align: right;\n",
       "    }\n",
       "</style>\n",
       "<table border=\"1\" class=\"dataframe\">\n",
       "  <thead>\n",
       "    <tr style=\"text-align: right;\">\n",
       "      <th></th>\n",
       "      <th>sha</th>\n",
       "      <th>pct</th>\n",
       "      <th>practice_code</th>\n",
       "      <th>bnf_code</th>\n",
       "      <th>bnf_name</th>\n",
       "      <th>items</th>\n",
       "      <th>nic</th>\n",
       "      <th>act_cost</th>\n",
       "      <th>quantity</th>\n",
       "      <th>period</th>\n",
       "    </tr>\n",
       "  </thead>\n",
       "  <tbody>\n",
       "    <tr>\n",
       "      <th>0</th>\n",
       "      <td>Q44</td>\n",
       "      <td>RTV</td>\n",
       "      <td>Y04937</td>\n",
       "      <td>0401010Z0AAAAAA</td>\n",
       "      <td>Zopiclone_Tab 7.5mg</td>\n",
       "      <td>6</td>\n",
       "      <td>1.56</td>\n",
       "      <td>2.12</td>\n",
       "      <td>63</td>\n",
       "      <td>201804</td>\n",
       "    </tr>\n",
       "    <tr>\n",
       "      <th>1</th>\n",
       "      <td>Q44</td>\n",
       "      <td>RTV</td>\n",
       "      <td>Y04937</td>\n",
       "      <td>0401020K0AAAHAH</td>\n",
       "      <td>Diazepam_Tab 2mg</td>\n",
       "      <td>4</td>\n",
       "      <td>0.87</td>\n",
       "      <td>1.15</td>\n",
       "      <td>73</td>\n",
       "      <td>201804</td>\n",
       "    </tr>\n",
       "    <tr>\n",
       "      <th>2</th>\n",
       "      <td>Q44</td>\n",
       "      <td>RTV</td>\n",
       "      <td>Y04937</td>\n",
       "      <td>0401020K0AAAIAI</td>\n",
       "      <td>Diazepam_Tab 5mg</td>\n",
       "      <td>2</td>\n",
       "      <td>0.46</td>\n",
       "      <td>0.56</td>\n",
       "      <td>35</td>\n",
       "      <td>201804</td>\n",
       "    </tr>\n",
       "    <tr>\n",
       "      <th>3</th>\n",
       "      <td>Q44</td>\n",
       "      <td>RTV</td>\n",
       "      <td>Y04937</td>\n",
       "      <td>0402010ABAAABAB</td>\n",
       "      <td>Quetiapine_Tab 25mg</td>\n",
       "      <td>1</td>\n",
       "      <td>2.60</td>\n",
       "      <td>2.52</td>\n",
       "      <td>14</td>\n",
       "      <td>201804</td>\n",
       "    </tr>\n",
       "    <tr>\n",
       "      <th>4</th>\n",
       "      <td>Q44</td>\n",
       "      <td>RTV</td>\n",
       "      <td>Y04937</td>\n",
       "      <td>0402010ADAAAAAA</td>\n",
       "      <td>Aripiprazole_Tab 10mg</td>\n",
       "      <td>1</td>\n",
       "      <td>1.53</td>\n",
       "      <td>1.53</td>\n",
       "      <td>14</td>\n",
       "      <td>201804</td>\n",
       "    </tr>\n",
       "  </tbody>\n",
       "</table>\n",
       "</div>"
      ],
      "text/plain": [
       "   sha  pct practice_code         bnf_code               bnf_name  items  \\\n",
       "0  Q44  RTV        Y04937  0401010Z0AAAAAA    Zopiclone_Tab 7.5mg      6   \n",
       "1  Q44  RTV        Y04937  0401020K0AAAHAH       Diazepam_Tab 2mg      4   \n",
       "2  Q44  RTV        Y04937  0401020K0AAAIAI       Diazepam_Tab 5mg      2   \n",
       "3  Q44  RTV        Y04937  0402010ABAAABAB    Quetiapine_Tab 25mg      1   \n",
       "4  Q44  RTV        Y04937  0402010ADAAAAAA  Aripiprazole_Tab 10mg      1   \n",
       "\n",
       "    nic  act_cost  quantity  period  \n",
       "0  1.56      2.12        63  201804  \n",
       "1  0.87      1.15        73  201804  \n",
       "2  0.46      0.56        35  201804  \n",
       "3  2.60      2.52        14  201804  \n",
       "4  1.53      1.53        14  201804  "
      ]
     },
     "execution_count": 8,
     "metadata": {},
     "output_type": "execute_result"
    }
   ],
   "source": [
    "prescribing_df.head()"
   ]
  },
  {
   "cell_type": "markdown",
   "metadata": {},
   "source": [
    "These column names refer to the following fields:\n",
    "- sha: code of the Strategic Health Authority in which the practice resides\n",
    "- pct: code of the Primary Care Trust in which the practice resides\n",
    "- practice code:  this is the GP practice code which can be used to linked to other data\n",
    "- bnf_code: BNF code for each drug (characters 1 and 2 show the BNF chapter,3 and 4 show the BNF section)\n",
    "- bnf_name:  individual preparation name, which may be proprietary or generic, followed by form and strength\n",
    "- items: the number of items for this presentation that were dispensed in April. ie number of prescriptions\n",
    "- nic: Net ingredient cost. This is the basic cost of a drug (list price excluding VAT)\n",
    "- act_cost: the actual cost charged back to practices from all dispensed prescriptions\n",
    "- quantity: The quantity of a drug dispensed for all prescriptions (measured in units depending on the formulation of the product: a number for tablets, capsules, ampoules, vials etc; millilitres for liquids; grams for solids (such as cream, gel, ointment))\n",
    "- period: This period is April 2018"
   ]
  },
  {
   "cell_type": "code",
   "execution_count": 9,
   "metadata": {},
   "outputs": [
    {
     "data": {
      "text/html": [
       "<div>\n",
       "<style scoped>\n",
       "    .dataframe tbody tr th:only-of-type {\n",
       "        vertical-align: middle;\n",
       "    }\n",
       "\n",
       "    .dataframe tbody tr th {\n",
       "        vertical-align: top;\n",
       "    }\n",
       "\n",
       "    .dataframe thead th {\n",
       "        text-align: right;\n",
       "    }\n",
       "</style>\n",
       "<table border=\"1\" class=\"dataframe\">\n",
       "  <thead>\n",
       "    <tr style=\"text-align: right;\">\n",
       "      <th></th>\n",
       "      <th>chem_sub</th>\n",
       "      <th>name</th>\n",
       "    </tr>\n",
       "  </thead>\n",
       "  <tbody>\n",
       "    <tr>\n",
       "      <th>0</th>\n",
       "      <td>0101010A0</td>\n",
       "      <td>Alexitol Sodium</td>\n",
       "    </tr>\n",
       "    <tr>\n",
       "      <th>1</th>\n",
       "      <td>0101010B0</td>\n",
       "      <td>Almasilate</td>\n",
       "    </tr>\n",
       "    <tr>\n",
       "      <th>2</th>\n",
       "      <td>0101010C0</td>\n",
       "      <td>Aluminium Hydroxide</td>\n",
       "    </tr>\n",
       "    <tr>\n",
       "      <th>3</th>\n",
       "      <td>0101010D0</td>\n",
       "      <td>Aluminium Hydroxide With Magnesium</td>\n",
       "    </tr>\n",
       "    <tr>\n",
       "      <th>4</th>\n",
       "      <td>0101010E0</td>\n",
       "      <td>Hydrotalcite</td>\n",
       "    </tr>\n",
       "  </tbody>\n",
       "</table>\n",
       "</div>"
      ],
      "text/plain": [
       "    chem_sub                                name\n",
       "0  0101010A0                     Alexitol Sodium\n",
       "1  0101010B0                          Almasilate\n",
       "2  0101010C0                 Aluminium Hydroxide\n",
       "3  0101010D0  Aluminium Hydroxide With Magnesium\n",
       "4  0101010E0                        Hydrotalcite"
      ]
     },
     "execution_count": 9,
     "metadata": {},
     "output_type": "execute_result"
    }
   ],
   "source": [
    "pharm_df.head()"
   ]
  },
  {
   "cell_type": "markdown",
   "metadata": {},
   "source": [
    "## Missing values"
   ]
  },
  {
   "cell_type": "code",
   "execution_count": 10,
   "metadata": {
    "scrolled": true
   },
   "outputs": [
    {
     "data": {
      "text/plain": [
       "time_period                 0\n",
       "practice_code               0\n",
       "practice_name               0\n",
       "practice_organization       4\n",
       "street                    688\n",
       "city                      363\n",
       "area                     1918\n",
       "postcode                    0\n",
       "dtype: int64"
      ]
     },
     "execution_count": 10,
     "metadata": {},
     "output_type": "execute_result"
    }
   ],
   "source": [
    "practice_df[practice_df=='']=np.nan\n",
    "practice_df.isnull().sum()"
   ]
  },
  {
   "cell_type": "markdown",
   "metadata": {},
   "source": [
    "The practice database (containing address information)  has missing data in four columns.  Inspecting this below revelas that there are inconsistencies with how address information is stored.  For example, 'city' may be stored in the 'city' column, but it could also appear in the 'street' column, or 'area' column.  There are no missing values for postcode (including postcodes starting with 'Z' which could be used to indicate 'missingness'."
   ]
  },
  {
   "cell_type": "code",
   "execution_count": 11,
   "metadata": {
    "scrolled": true
   },
   "outputs": [
    {
     "data": {
      "text/html": [
       "<div>\n",
       "<style scoped>\n",
       "    .dataframe tbody tr th:only-of-type {\n",
       "        vertical-align: middle;\n",
       "    }\n",
       "\n",
       "    .dataframe tbody tr th {\n",
       "        vertical-align: top;\n",
       "    }\n",
       "\n",
       "    .dataframe thead th {\n",
       "        text-align: right;\n",
       "    }\n",
       "</style>\n",
       "<table border=\"1\" class=\"dataframe\">\n",
       "  <thead>\n",
       "    <tr style=\"text-align: right;\">\n",
       "      <th></th>\n",
       "      <th>time_period</th>\n",
       "      <th>practice_code</th>\n",
       "      <th>practice_name</th>\n",
       "      <th>practice_organization</th>\n",
       "      <th>street</th>\n",
       "      <th>city</th>\n",
       "      <th>area</th>\n",
       "      <th>postcode</th>\n",
       "    </tr>\n",
       "  </thead>\n",
       "  <tbody>\n",
       "    <tr>\n",
       "      <th>6878</th>\n",
       "      <td>201804</td>\n",
       "      <td>N83638</td>\n",
       "      <td>St Helens Nhs Wic</td>\n",
       "      <td>Bickerstaffe Street</td>\n",
       "      <td>St Helens</td>\n",
       "      <td>NaN</td>\n",
       "      <td>NaN</td>\n",
       "      <td>WA10 1DH</td>\n",
       "    </tr>\n",
       "    <tr>\n",
       "      <th>6899</th>\n",
       "      <td>201804</td>\n",
       "      <td>C87621</td>\n",
       "      <td>Broom Valley Road Surgery</td>\n",
       "      <td>102-104 Broom Valley Road</td>\n",
       "      <td>Rotherham</td>\n",
       "      <td>NaN</td>\n",
       "      <td>NaN</td>\n",
       "      <td>S60 2QY</td>\n",
       "    </tr>\n",
       "    <tr>\n",
       "      <th>7029</th>\n",
       "      <td>201804</td>\n",
       "      <td>Y00175</td>\n",
       "      <td>Soho Walk In Centre (Wic)</td>\n",
       "      <td>1 Frith Street</td>\n",
       "      <td>London</td>\n",
       "      <td>NaN</td>\n",
       "      <td>NaN</td>\n",
       "      <td>W1D 3QS</td>\n",
       "    </tr>\n",
       "    <tr>\n",
       "      <th>7050</th>\n",
       "      <td>201804</td>\n",
       "      <td>Y00233</td>\n",
       "      <td>The Parallel</td>\n",
       "      <td>9A Churchgate</td>\n",
       "      <td>Bolton</td>\n",
       "      <td>NaN</td>\n",
       "      <td>NaN</td>\n",
       "      <td>BL1 1HU</td>\n",
       "    </tr>\n",
       "    <tr>\n",
       "      <th>7062</th>\n",
       "      <td>201804</td>\n",
       "      <td>Y00280</td>\n",
       "      <td>Belgrave Surgery (Sv Bapodra)</td>\n",
       "      <td>13 Loughborough Road</td>\n",
       "      <td>Leicester</td>\n",
       "      <td>NaN</td>\n",
       "      <td>NaN</td>\n",
       "      <td>LE4 5LJ</td>\n",
       "    </tr>\n",
       "    <tr>\n",
       "      <th>7476</th>\n",
       "      <td>201804</td>\n",
       "      <td>Y02158</td>\n",
       "      <td>Gpsi Dermatology Heavitree Hc</td>\n",
       "      <td>The Heavitree Practice</td>\n",
       "      <td>Heavitree Hc Sth Lawn Tce</td>\n",
       "      <td>NaN</td>\n",
       "      <td>NaN</td>\n",
       "      <td>EX1 2RX</td>\n",
       "    </tr>\n",
       "    <tr>\n",
       "      <th>8845</th>\n",
       "      <td>201804</td>\n",
       "      <td>Y04975</td>\n",
       "      <td>Oadby Urgent Care Centre (Nduc) Ooh</td>\n",
       "      <td>Oadby Ucc</td>\n",
       "      <td>The Parade Oadby</td>\n",
       "      <td>NaN</td>\n",
       "      <td>NaN</td>\n",
       "      <td>LE2 5BJ</td>\n",
       "    </tr>\n",
       "    <tr>\n",
       "      <th>9051</th>\n",
       "      <td>201804</td>\n",
       "      <td>Y05281</td>\n",
       "      <td>Whants Comm Ent</td>\n",
       "      <td>Unit 10.1.1 Leathermarket</td>\n",
       "      <td>11-13 Weston Street</td>\n",
       "      <td>NaN</td>\n",
       "      <td>NaN</td>\n",
       "      <td>SE1 3ER</td>\n",
       "    </tr>\n",
       "    <tr>\n",
       "      <th>9186</th>\n",
       "      <td>201804</td>\n",
       "      <td>Y05473</td>\n",
       "      <td>T &amp; G Adult Adhd Service</td>\n",
       "      <td>Outram Rd</td>\n",
       "      <td>Dukinfield</td>\n",
       "      <td>NaN</td>\n",
       "      <td>NaN</td>\n",
       "      <td>SK16 4XE</td>\n",
       "    </tr>\n",
       "  </tbody>\n",
       "</table>\n",
       "</div>"
      ],
      "text/plain": [
       "      time_period practice_code                        practice_name  \\\n",
       "6878       201804        N83638                    St Helens Nhs Wic   \n",
       "6899       201804        C87621            Broom Valley Road Surgery   \n",
       "7029       201804        Y00175            Soho Walk In Centre (Wic)   \n",
       "7050       201804        Y00233                         The Parallel   \n",
       "7062       201804        Y00280        Belgrave Surgery (Sv Bapodra)   \n",
       "7476       201804        Y02158        Gpsi Dermatology Heavitree Hc   \n",
       "8845       201804        Y04975  Oadby Urgent Care Centre (Nduc) Ooh   \n",
       "9051       201804        Y05281                      Whants Comm Ent   \n",
       "9186       201804        Y05473             T & G Adult Adhd Service   \n",
       "\n",
       "          practice_organization                     street city area  postcode  \n",
       "6878        Bickerstaffe Street                  St Helens  NaN  NaN  WA10 1DH  \n",
       "6899  102-104 Broom Valley Road                  Rotherham  NaN  NaN   S60 2QY  \n",
       "7029             1 Frith Street                     London  NaN  NaN   W1D 3QS  \n",
       "7050              9A Churchgate                     Bolton  NaN  NaN   BL1 1HU  \n",
       "7062       13 Loughborough Road                  Leicester  NaN  NaN   LE4 5LJ  \n",
       "7476     The Heavitree Practice  Heavitree Hc Sth Lawn Tce  NaN  NaN   EX1 2RX  \n",
       "8845                  Oadby Ucc           The Parade Oadby  NaN  NaN   LE2 5BJ  \n",
       "9051  Unit 10.1.1 Leathermarket        11-13 Weston Street  NaN  NaN   SE1 3ER  \n",
       "9186                  Outram Rd                 Dukinfield  NaN  NaN  SK16 4XE  "
      ]
     },
     "execution_count": 11,
     "metadata": {},
     "output_type": "execute_result"
    }
   ],
   "source": [
    "practice_df[practice_df.city.isnull() & practice_df.area.isnull()]"
   ]
  },
  {
   "cell_type": "code",
   "execution_count": 12,
   "metadata": {
    "scrolled": true
   },
   "outputs": [
    {
     "data": {
      "text/html": [
       "<div>\n",
       "<style scoped>\n",
       "    .dataframe tbody tr th:only-of-type {\n",
       "        vertical-align: middle;\n",
       "    }\n",
       "\n",
       "    .dataframe tbody tr th {\n",
       "        vertical-align: top;\n",
       "    }\n",
       "\n",
       "    .dataframe thead th {\n",
       "        text-align: right;\n",
       "    }\n",
       "</style>\n",
       "<table border=\"1\" class=\"dataframe\">\n",
       "  <thead>\n",
       "    <tr style=\"text-align: right;\">\n",
       "      <th></th>\n",
       "      <th>time_period</th>\n",
       "      <th>practice_code</th>\n",
       "      <th>practice_name</th>\n",
       "      <th>practice_organization</th>\n",
       "      <th>street</th>\n",
       "      <th>city</th>\n",
       "      <th>area</th>\n",
       "      <th>postcode</th>\n",
       "    </tr>\n",
       "  </thead>\n",
       "  <tbody>\n",
       "    <tr>\n",
       "      <th>1936</th>\n",
       "      <td>201804</td>\n",
       "      <td>E84015</td>\n",
       "      <td>Willow Tree Family Doctors</td>\n",
       "      <td>343B Stag Lane</td>\n",
       "      <td>NaN</td>\n",
       "      <td>NaN</td>\n",
       "      <td>London</td>\n",
       "      <td>NW9 9AD</td>\n",
       "    </tr>\n",
       "    <tr>\n",
       "      <th>1973</th>\n",
       "      <td>201804</td>\n",
       "      <td>E84076</td>\n",
       "      <td>Oxgate Gardens Surgery</td>\n",
       "      <td>81 Oxgate Gardens</td>\n",
       "      <td>NaN</td>\n",
       "      <td>NaN</td>\n",
       "      <td>London</td>\n",
       "      <td>NW2 6EA</td>\n",
       "    </tr>\n",
       "    <tr>\n",
       "      <th>2169</th>\n",
       "      <td>201804</td>\n",
       "      <td>E87007</td>\n",
       "      <td>Westbourne Grove Medical Centre</td>\n",
       "      <td>241 Westbourne Grove</td>\n",
       "      <td>NaN</td>\n",
       "      <td>NaN</td>\n",
       "      <td>London</td>\n",
       "      <td>W11 2SE</td>\n",
       "    </tr>\n",
       "    <tr>\n",
       "      <th>2174</th>\n",
       "      <td>201804</td>\n",
       "      <td>E87013</td>\n",
       "      <td>Stanhope Mews Surgery</td>\n",
       "      <td>7 Stanhope Mews West</td>\n",
       "      <td>NaN</td>\n",
       "      <td>NaN</td>\n",
       "      <td>London</td>\n",
       "      <td>SW7 5RB</td>\n",
       "    </tr>\n",
       "    <tr>\n",
       "      <th>2176</th>\n",
       "      <td>201804</td>\n",
       "      <td>E87021</td>\n",
       "      <td>Shirland Road Medical Centre</td>\n",
       "      <td>321 Shirland Road</td>\n",
       "      <td>NaN</td>\n",
       "      <td>NaN</td>\n",
       "      <td>London</td>\n",
       "      <td>W9 3JJ</td>\n",
       "    </tr>\n",
       "  </tbody>\n",
       "</table>\n",
       "</div>"
      ],
      "text/plain": [
       "      time_period practice_code                    practice_name  \\\n",
       "1936       201804        E84015       Willow Tree Family Doctors   \n",
       "1973       201804        E84076           Oxgate Gardens Surgery   \n",
       "2169       201804        E87007  Westbourne Grove Medical Centre   \n",
       "2174       201804        E87013            Stanhope Mews Surgery   \n",
       "2176       201804        E87021     Shirland Road Medical Centre   \n",
       "\n",
       "     practice_organization street city    area postcode  \n",
       "1936        343B Stag Lane    NaN  NaN  London  NW9 9AD  \n",
       "1973     81 Oxgate Gardens    NaN  NaN  London  NW2 6EA  \n",
       "2169  241 Westbourne Grove    NaN  NaN  London  W11 2SE  \n",
       "2174  7 Stanhope Mews West    NaN  NaN  London  SW7 5RB  \n",
       "2176     321 Shirland Road    NaN  NaN  London   W9 3JJ  "
      ]
     },
     "execution_count": 12,
     "metadata": {},
     "output_type": "execute_result"
    }
   ],
   "source": [
    "practice_df[practice_df.city.isnull() & practice_df.street.isnull()].head()"
   ]
  },
  {
   "cell_type": "code",
   "execution_count": 13,
   "metadata": {},
   "outputs": [
    {
     "data": {
      "text/plain": [
       "0"
      ]
     },
     "execution_count": 13,
     "metadata": {},
     "output_type": "execute_result"
    }
   ],
   "source": [
    "#Count instances with data missing from street, city and area\n",
    "practice_df[practice_df.street.isnull() & practice_df.area.isnull()& practice_df.city.isnull()].shape[0]"
   ]
  },
  {
   "cell_type": "code",
   "execution_count": 14,
   "metadata": {},
   "outputs": [
    {
     "data": {
      "text/plain": [
       "0"
      ]
     },
     "execution_count": 14,
     "metadata": {},
     "output_type": "execute_result"
    }
   ],
   "source": [
    "#Count postcodes starting with 'Z' - may indicate missing values\n",
    "practice_df[practice_df.postcode.str.startswith('Z')].shape[0]"
   ]
  },
  {
   "cell_type": "code",
   "execution_count": 15,
   "metadata": {
    "scrolled": true
   },
   "outputs": [
    {
     "name": "stdout",
     "output_type": "stream",
     "text": [
      "There are 0 missing values in the registations and prescribing databases\n"
     ]
    }
   ],
   "source": [
    "registrations_df[registrations_df=='']=np.nan\n",
    "prescribing_df[prescribing_df=='']=np.nan\n",
    "missing_values = registrations_df.isnull().sum().sum() + prescribing_df.isnull().sum().sum()\n",
    "print('There are %s missing values in the registations and prescribing databases'%(missing_values))"
   ]
  },
  {
   "cell_type": "code",
   "execution_count": 16,
   "metadata": {
    "scrolled": true
   },
   "outputs": [
    {
     "name": "stdout",
     "output_type": "stream",
     "text": [
      "<class 'pandas.core.frame.DataFrame'>\n",
      "RangeIndex: 3496 entries, 0 to 3495\n",
      "Data columns (total 2 columns):\n",
      "chem_sub    3496 non-null object\n",
      "name        3496 non-null object\n",
      "dtypes: object(2)\n",
      "memory usage: 54.7+ KB\n"
     ]
    }
   ],
   "source": [
    "pharm_df.info()"
   ]
  },
  {
   "cell_type": "markdown",
   "metadata": {},
   "source": [
    "There are no missing values in the pharmacy database"
   ]
  },
  {
   "cell_type": "markdown",
   "metadata": {},
   "source": [
    "## Descriptive statistics"
   ]
  },
  {
   "cell_type": "code",
   "execution_count": 17,
   "metadata": {
    "scrolled": true
   },
   "outputs": [
    {
     "name": "stdout",
     "output_type": "stream",
     "text": [
      "The registrations database gives information of 59039595 patients registered at 7241 practices.\n",
      "The number of patients registered ranges from 1 to 72227 and the mean number of patients registered is 8153.\n"
     ]
    },
    {
     "data": {
      "text/html": [
       "<div>\n",
       "<style scoped>\n",
       "    .dataframe tbody tr th:only-of-type {\n",
       "        vertical-align: middle;\n",
       "    }\n",
       "\n",
       "    .dataframe tbody tr th {\n",
       "        vertical-align: top;\n",
       "    }\n",
       "\n",
       "    .dataframe thead th {\n",
       "        text-align: right;\n",
       "    }\n",
       "</style>\n",
       "<table border=\"1\" class=\"dataframe\">\n",
       "  <thead>\n",
       "    <tr style=\"text-align: right;\">\n",
       "      <th></th>\n",
       "      <th>number_of_patients</th>\n",
       "    </tr>\n",
       "  </thead>\n",
       "  <tbody>\n",
       "    <tr>\n",
       "      <th>count</th>\n",
       "      <td>7241.000000</td>\n",
       "    </tr>\n",
       "    <tr>\n",
       "      <th>mean</th>\n",
       "      <td>8153.514017</td>\n",
       "    </tr>\n",
       "    <tr>\n",
       "      <th>std</th>\n",
       "      <td>5184.888435</td>\n",
       "    </tr>\n",
       "    <tr>\n",
       "      <th>min</th>\n",
       "      <td>1.000000</td>\n",
       "    </tr>\n",
       "    <tr>\n",
       "      <th>25%</th>\n",
       "      <td>4501.000000</td>\n",
       "    </tr>\n",
       "    <tr>\n",
       "      <th>50%</th>\n",
       "      <td>7235.000000</td>\n",
       "    </tr>\n",
       "    <tr>\n",
       "      <th>75%</th>\n",
       "      <td>10711.000000</td>\n",
       "    </tr>\n",
       "    <tr>\n",
       "      <th>max</th>\n",
       "      <td>72227.000000</td>\n",
       "    </tr>\n",
       "  </tbody>\n",
       "</table>\n",
       "</div>"
      ],
      "text/plain": [
       "       number_of_patients\n",
       "count         7241.000000\n",
       "mean          8153.514017\n",
       "std           5184.888435\n",
       "min              1.000000\n",
       "25%           4501.000000\n",
       "50%           7235.000000\n",
       "75%          10711.000000\n",
       "max          72227.000000"
      ]
     },
     "execution_count": 17,
     "metadata": {},
     "output_type": "execute_result"
    }
   ],
   "source": [
    "#Calculate some statistics about patient registartions\n",
    "tot_pts = registrations_df.number_of_patients.sum()\n",
    "num_registartions = str(registrations_df.shape[0])\n",
    "\n",
    "print('The registrations database gives information of '+str(tot_pts)+ ' patients registered at '+num_registartions+'\\\n",
    " practices.')\n",
    "\n",
    "min_reg = np.min(registrations_df.number_of_patients)\n",
    "max_reg = np.max(registrations_df.number_of_patients)\n",
    "mean_reg = np.mean(registrations_df.number_of_patients)\n",
    "\n",
    "print('The number of patients registered ranges from '+str(min_reg)+' to '+str(max_reg)+' and the mean number of \\\n",
    "patients registered is '+str(int(mean_reg))+'.')\n",
    "\n",
    "registrations_df.describe()"
   ]
  },
  {
   "cell_type": "code",
   "execution_count": 18,
   "metadata": {},
   "outputs": [
    {
     "name": "stdout",
     "output_type": "stream",
     "text": [
      "There are 9578 practices with address information\n"
     ]
    }
   ],
   "source": [
    "num_practices =  practice_df.shape[0]\n",
    "print('There are %s practices with address information'%(num_practices))"
   ]
  },
  {
   "cell_type": "code",
   "execution_count": 19,
   "metadata": {},
   "outputs": [
    {
     "name": "stdout",
     "output_type": "stream",
     "text": [
      "This means there are 2387 practices who do not appear in the registration database.  This may be because they are an emergency care centre with no patients registered, or because they are part of a group of practices, where all patients are registered at one practice\n"
     ]
    }
   ],
   "source": [
    "#Find practices which have an address but no patient registration information\n",
    "missing_practices = practice_df[(~practice_df['practice_code'].isin(registrations_df['practice_code']))].shape[0]\n",
    "print('This means there are %s practices who do not appear in the registration database.  This may be because they \\\n",
    "are an emergency care centre with no patients registered, or because they are part of a group of practices, where \\\n",
    "all patients are registered at one practice'%(missing_practices))"
   ]
  },
  {
   "cell_type": "markdown",
   "metadata": {},
   "source": [
    "### Question 1\n",
    " <b>Identify all GP practices located in London. For those practices, describe:\n",
    " <ul>\n",
    "    <li>the total number of patients registered</li>\n",
    "    <li>the total number of prescriptions</li>\n",
    "    <li>the total actual cost of these prescriptions (using the ACT COST column)</li>\n",
    "    <li>the top 10 most frequent drugs prescribed</li>\n",
    "    <li>the bottom 10 less frequent drugs prescribed</li>\n",
    "</ul></b>\n",
    "\n",
    "To identify all GP practices located in London, I will use the Practice Code, Name and Address dataset.  Since I know that there is some variation in this dataset from earlier exploration, I will search for London recorded in 'city', 'area' and 'street'."
   ]
  },
  {
   "cell_type": "code",
   "execution_count": 20,
   "metadata": {},
   "outputs": [
    {
     "name": "stdout",
     "output_type": "stream",
     "text": [
      "There are 930 practices within London\n"
     ]
    }
   ],
   "source": [
    "#Create a subset of the practice_df for london practices\n",
    "lond_practice_df = practice_df[(practice_df['city']==\"London\")|(practice_df['area']==\"London\")|(practice_df['street']==\"London\")]\n",
    "num_lond_pracs = lond_practice_df.shape[0]\n",
    "print(\"There are %s practices within London\" %(num_lond_pracs))"
   ]
  },
  {
   "cell_type": "code",
   "execution_count": 21,
   "metadata": {},
   "outputs": [
    {
     "name": "stdout",
     "output_type": "stream",
     "text": [
      "Of these 930 practices, 747 have patients registered.\n",
      "This totals 5841956 patients in London\n"
     ]
    }
   ],
   "source": [
    "#Create a subset of the registrations_df where practice_code is in london\n",
    "lond_registrations_df = registrations_df[registrations_df['practice_code'].isin(lond_practice_df['practice_code'])]\n",
    "num_lond_pracs_reg = lond_registrations_df.shape[0]\n",
    "tot_lond_pts = lond_registrations_df['number_of_patients'].sum()\n",
    "print('Of these %s practices, %s have patients registered.\\nThis totals %s patients in London'%(num_lond_pracs, num_lond_pracs_reg, tot_lond_pts))"
   ]
  },
  {
   "cell_type": "code",
   "execution_count": 22,
   "metadata": {},
   "outputs": [],
   "source": [
    "#Create a BNF_stem column in the prescribing database (first 9 characters of code)\n",
    "prescribing_df['bnf_stem'] = prescribing_df['bnf_code'].str[:9]"
   ]
  },
  {
   "cell_type": "code",
   "execution_count": 23,
   "metadata": {
    "scrolled": true
   },
   "outputs": [
    {
     "data": {
      "text/html": [
       "<div>\n",
       "<style scoped>\n",
       "    .dataframe tbody tr th:only-of-type {\n",
       "        vertical-align: middle;\n",
       "    }\n",
       "\n",
       "    .dataframe tbody tr th {\n",
       "        vertical-align: top;\n",
       "    }\n",
       "\n",
       "    .dataframe thead th {\n",
       "        text-align: right;\n",
       "    }\n",
       "</style>\n",
       "<table border=\"1\" class=\"dataframe\">\n",
       "  <thead>\n",
       "    <tr style=\"text-align: right;\">\n",
       "      <th></th>\n",
       "      <th>sha</th>\n",
       "      <th>pct</th>\n",
       "      <th>practice_code</th>\n",
       "      <th>bnf_code</th>\n",
       "      <th>bnf_name</th>\n",
       "      <th>items</th>\n",
       "      <th>nic</th>\n",
       "      <th>act_cost</th>\n",
       "      <th>quantity</th>\n",
       "      <th>period</th>\n",
       "      <th>bnf_stem</th>\n",
       "    </tr>\n",
       "  </thead>\n",
       "  <tbody>\n",
       "    <tr>\n",
       "      <th>5336654</th>\n",
       "      <td>Q58</td>\n",
       "      <td>06N</td>\n",
       "      <td>Y04681</td>\n",
       "      <td>0101021B0BEADAJ</td>\n",
       "      <td>Gaviscon Infant_Sach 2g (Dual Pack) S/F</td>\n",
       "      <td>1</td>\n",
       "      <td>4.82</td>\n",
       "      <td>4.48</td>\n",
       "      <td>15</td>\n",
       "      <td>201804</td>\n",
       "      <td>0101021B0</td>\n",
       "    </tr>\n",
       "    <tr>\n",
       "      <th>5336655</th>\n",
       "      <td>Q58</td>\n",
       "      <td>06N</td>\n",
       "      <td>Y04681</td>\n",
       "      <td>0106040M0BBAAAA</td>\n",
       "      <td>Movicol_Pdr Sach 13.8g (Lem &amp; Lim)</td>\n",
       "      <td>1</td>\n",
       "      <td>5.41</td>\n",
       "      <td>5.13</td>\n",
       "      <td>20</td>\n",
       "      <td>201804</td>\n",
       "      <td>0106040M0</td>\n",
       "    </tr>\n",
       "    <tr>\n",
       "      <th>5336656</th>\n",
       "      <td>Q58</td>\n",
       "      <td>06N</td>\n",
       "      <td>Y04681</td>\n",
       "      <td>0106040M0BBAJAB</td>\n",
       "      <td>Movicol_Paed Pdr Sach 6.9g (Choc)</td>\n",
       "      <td>1</td>\n",
       "      <td>4.38</td>\n",
       "      <td>4.07</td>\n",
       "      <td>30</td>\n",
       "      <td>201804</td>\n",
       "      <td>0106040M0</td>\n",
       "    </tr>\n",
       "    <tr>\n",
       "      <th>5336657</th>\n",
       "      <td>Q58</td>\n",
       "      <td>06N</td>\n",
       "      <td>Y04681</td>\n",
       "      <td>0106040N0AAABAB</td>\n",
       "      <td>Phos Enem_(For B) 128ml Stnd Tube</td>\n",
       "      <td>1</td>\n",
       "      <td>39.80</td>\n",
       "      <td>36.92</td>\n",
       "      <td>10</td>\n",
       "      <td>201804</td>\n",
       "      <td>0106040N0</td>\n",
       "    </tr>\n",
       "    <tr>\n",
       "      <th>5336658</th>\n",
       "      <td>Q58</td>\n",
       "      <td>06N</td>\n",
       "      <td>Y04681</td>\n",
       "      <td>0106040R0BBAAAF</td>\n",
       "      <td>Micralax_Micro-Enem 5ml</td>\n",
       "      <td>1</td>\n",
       "      <td>4.06</td>\n",
       "      <td>3.88</td>\n",
       "      <td>10</td>\n",
       "      <td>201804</td>\n",
       "      <td>0106040R0</td>\n",
       "    </tr>\n",
       "  </tbody>\n",
       "</table>\n",
       "</div>"
      ],
      "text/plain": [
       "         sha  pct practice_code         bnf_code  \\\n",
       "5336654  Q58  06N        Y04681  0101021B0BEADAJ   \n",
       "5336655  Q58  06N        Y04681  0106040M0BBAAAA   \n",
       "5336656  Q58  06N        Y04681  0106040M0BBAJAB   \n",
       "5336657  Q58  06N        Y04681  0106040N0AAABAB   \n",
       "5336658  Q58  06N        Y04681  0106040R0BBAAAF   \n",
       "\n",
       "                                        bnf_name  items    nic  act_cost  \\\n",
       "5336654  Gaviscon Infant_Sach 2g (Dual Pack) S/F      1   4.82      4.48   \n",
       "5336655       Movicol_Pdr Sach 13.8g (Lem & Lim)      1   5.41      5.13   \n",
       "5336656        Movicol_Paed Pdr Sach 6.9g (Choc)      1   4.38      4.07   \n",
       "5336657        Phos Enem_(For B) 128ml Stnd Tube      1  39.80     36.92   \n",
       "5336658                  Micralax_Micro-Enem 5ml      1   4.06      3.88   \n",
       "\n",
       "         quantity  period   bnf_stem  \n",
       "5336654        15  201804  0101021B0  \n",
       "5336655        20  201804  0106040M0  \n",
       "5336656        30  201804  0106040M0  \n",
       "5336657        10  201804  0106040N0  \n",
       "5336658        10  201804  0106040R0  "
      ]
     },
     "execution_count": 23,
     "metadata": {},
     "output_type": "execute_result"
    }
   ],
   "source": [
    "# Create a subset of the prescribing_df for london practices\n",
    "lond_prescribing_df = prescribing_df[prescribing_df['practice_code'].isin(lond_practice_df['practice_code'])]\n",
    "lond_prescribing_df.head()"
   ]
  },
  {
   "cell_type": "code",
   "execution_count": 24,
   "metadata": {},
   "outputs": [
    {
     "name": "stdout",
     "output_type": "stream",
     "text": [
      "5881715 prescriptions have been dispesed in London in April 2018, with an actual cost of £43326121.52\n"
     ]
    }
   ],
   "source": [
    "#Add up all the prescriptions (ie. items)\n",
    "num_lond_prescriptions = lond_prescribing_df['items'].sum()\n",
    "\n",
    "#Add up the actual cost of all these prescriptions\n",
    "act_cost_lond = lond_prescribing_df['act_cost'].sum()\n",
    "\n",
    "print(\"%s prescriptions have been dispesed in London in April 2018, with an actual cost of £%s\"\\\n",
    "     %(num_lond_prescriptions,act_cost_lond))"
   ]
  },
  {
   "cell_type": "markdown",
   "metadata": {},
   "source": [
    "To calculate the most frequently prescribed medicines across all London practices, 'bnf_code' should be converted to the stem of the bnf code, so that all formulations of each drug are counted as one group."
   ]
  },
  {
   "cell_type": "code",
   "execution_count": 30,
   "metadata": {
    "scrolled": true
   },
   "outputs": [
    {
     "name": "stdout",
     "output_type": "stream",
     "text": [
      "The ten most frequently prescribed drugs in London:\n"
     ]
    },
    {
     "data": {
      "text/html": [
       "<div>\n",
       "<style scoped>\n",
       "    .dataframe tbody tr th:only-of-type {\n",
       "        vertical-align: middle;\n",
       "    }\n",
       "\n",
       "    .dataframe tbody tr th {\n",
       "        vertical-align: top;\n",
       "    }\n",
       "\n",
       "    .dataframe thead th {\n",
       "        text-align: right;\n",
       "    }\n",
       "</style>\n",
       "<table border=\"1\" class=\"dataframe\">\n",
       "  <thead>\n",
       "    <tr style=\"text-align: right;\">\n",
       "      <th></th>\n",
       "      <th>bnf_stem</th>\n",
       "      <th>name</th>\n",
       "      <th>items</th>\n",
       "      <th>act_cost</th>\n",
       "    </tr>\n",
       "  </thead>\n",
       "  <tbody>\n",
       "    <tr>\n",
       "      <th>239</th>\n",
       "      <td>0212000B0</td>\n",
       "      <td>Atorvastatin</td>\n",
       "      <td>256040</td>\n",
       "      <td>291103.90</td>\n",
       "    </tr>\n",
       "    <tr>\n",
       "      <th>190</th>\n",
       "      <td>0206020A0</td>\n",
       "      <td>Amlodipine</td>\n",
       "      <td>199598</td>\n",
       "      <td>378318.04</td>\n",
       "    </tr>\n",
       "    <tr>\n",
       "      <th>651</th>\n",
       "      <td>0601022B0</td>\n",
       "      <td>Metformin Hydrochloride</td>\n",
       "      <td>169509</td>\n",
       "      <td>667425.65</td>\n",
       "    </tr>\n",
       "    <tr>\n",
       "      <th>952</th>\n",
       "      <td>0906040G0</td>\n",
       "      <td>Colecalciferol</td>\n",
       "      <td>169470</td>\n",
       "      <td>623988.65</td>\n",
       "    </tr>\n",
       "    <tr>\n",
       "      <th>687</th>\n",
       "      <td>0602010V0</td>\n",
       "      <td>Levothyroxine Sodium</td>\n",
       "      <td>145568</td>\n",
       "      <td>323465.74</td>\n",
       "    </tr>\n",
       "    <tr>\n",
       "      <th>164</th>\n",
       "      <td>0205051R0</td>\n",
       "      <td>Ramipril</td>\n",
       "      <td>145056</td>\n",
       "      <td>175530.53</td>\n",
       "    </tr>\n",
       "    <tr>\n",
       "      <th>38</th>\n",
       "      <td>0103050P0</td>\n",
       "      <td>Omeprazole</td>\n",
       "      <td>140286</td>\n",
       "      <td>186069.37</td>\n",
       "    </tr>\n",
       "    <tr>\n",
       "      <th>37</th>\n",
       "      <td>0103050L0</td>\n",
       "      <td>Lansoprazole</td>\n",
       "      <td>130832</td>\n",
       "      <td>129467.01</td>\n",
       "    </tr>\n",
       "    <tr>\n",
       "      <th>225</th>\n",
       "      <td>0209000A0</td>\n",
       "      <td>Aspirin</td>\n",
       "      <td>125009</td>\n",
       "      <td>66139.43</td>\n",
       "    </tr>\n",
       "    <tr>\n",
       "      <th>248</th>\n",
       "      <td>0212000Y0</td>\n",
       "      <td>Simvastatin</td>\n",
       "      <td>112806</td>\n",
       "      <td>83656.07</td>\n",
       "    </tr>\n",
       "  </tbody>\n",
       "</table>\n",
       "</div>"
      ],
      "text/plain": [
       "      bnf_stem                     name   items   act_cost\n",
       "239  0212000B0             Atorvastatin  256040  291103.90\n",
       "190  0206020A0               Amlodipine  199598  378318.04\n",
       "651  0601022B0  Metformin Hydrochloride  169509  667425.65\n",
       "952  0906040G0           Colecalciferol  169470  623988.65\n",
       "687  0602010V0     Levothyroxine Sodium  145568  323465.74\n",
       "164  0205051R0                 Ramipril  145056  175530.53\n",
       "38   0103050P0               Omeprazole  140286  186069.37\n",
       "37   0103050L0             Lansoprazole  130832  129467.01\n",
       "225  0209000A0                  Aspirin  125009   66139.43\n",
       "248  0212000Y0              Simvastatin  112806   83656.07"
      ]
     },
     "execution_count": 30,
     "metadata": {},
     "output_type": "execute_result"
    }
   ],
   "source": [
    "# Create a dataframe just with columns of interest\n",
    "lond_totals = lond_prescribing_df[['bnf_stem','items','act_cost']]\n",
    "\n",
    "lond_totals = pd.merge(lond_prescribing_df[['bnf_stem','items','act_cost']], pharm_df, left_on='bnf_stem',\\\n",
    "                       right_on='chem_sub').drop('chem_sub', axis=1)\n",
    "\n",
    "# # Calculate total items\n",
    "lond_totals = lond_totals.groupby(['bnf_stem','name']).sum().reset_index()\n",
    "\n",
    "# #sort by total items\n",
    "lond_totals = lond_totals.sort_values(by='items',ascending=False)\n",
    "lond_top_ten = list(lond_totals.name[0:10])\n",
    "print('The ten most frequently prescribed drugs in London:')\n",
    "lond_totals.head(10)"
   ]
  },
  {
   "cell_type": "code",
   "execution_count": 36,
   "metadata": {},
   "outputs": [
    {
     "name": "stdout",
     "output_type": "stream",
     "text": [
      "The ten most frequently prescribed medicines in London 2018 are: Atorvastatin, Amlodipine, Metformin Hydrochloride, Colecalciferol, Levothyroxine Sodium, Ramipril, Omeprazole, Lansoprazole, Aspirin, Simvastatin.\n"
     ]
    }
   ],
   "source": [
    "print(\"The ten most frequently prescribed medicines in London 2018 are: \"+\", \".join(lond_top_ten)+\".\")"
   ]
  },
  {
   "cell_type": "code",
   "execution_count": 37,
   "metadata": {},
   "outputs": [
    {
     "name": "stdout",
     "output_type": "stream",
     "text": [
      "82 drugs have been prescribed only once in London April 2018\n"
     ]
    }
   ],
   "source": [
    "num_lond_once = lond_totals[lond_totals['items']==1].shape[0]\n",
    "print(\"%s drugs have been prescribed only once in London April 2018\"%(num_lond_once))"
   ]
  },
  {
   "cell_type": "markdown",
   "metadata": {},
   "source": [
    "The list of the most commonly prescribed drugs seems true to my clinical experience, and reflects the most common medical conditions."
   ]
  },
  {
   "cell_type": "markdown",
   "metadata": {},
   "source": [
    "### Question 2\n",
    "I will now repeat the above analysis for the city of Cambridge."
   ]
  },
  {
   "cell_type": "code",
   "execution_count": 39,
   "metadata": {},
   "outputs": [],
   "source": [
    "#Create a subset of the practice_df for Cambridge practices\n",
    "camb_practice_df = practice_df[(practice_df['city']==\"Cambridge\")|(practice_df['area']==\"Cambridge\")|\\\n",
    "                               (practice_df['street']==\"Cambridge\")]"
   ]
  },
  {
   "cell_type": "code",
   "execution_count": 40,
   "metadata": {},
   "outputs": [
    {
     "data": {
      "text/plain": [
       "(31, 10)"
      ]
     },
     "execution_count": 40,
     "metadata": {},
     "output_type": "execute_result"
    }
   ],
   "source": [
    "#Create a subset of the registrations_df where practice_code is in Cambridge\n",
    "camb_registrations_df = registrations_df[registrations_df['practice_code'].isin(camb_practice_df['practice_code'])]\n",
    "camb_registrations_df.shape"
   ]
  },
  {
   "cell_type": "code",
   "execution_count": 41,
   "metadata": {},
   "outputs": [
    {
     "data": {
      "text/plain": [
       "311579"
      ]
     },
     "execution_count": 41,
     "metadata": {},
     "output_type": "execute_result"
    }
   ],
   "source": [
    "#Calculate total number of patients registered in Cambridge\n",
    "num_camb_registrations = camb_registrations_df['number_of_patients'].sum()\n",
    "num_camb_registrations"
   ]
  },
  {
   "cell_type": "code",
   "execution_count": 42,
   "metadata": {
    "scrolled": true
   },
   "outputs": [],
   "source": [
    "# Create a subset of the prescribing_df for Cambridge practices\n",
    "camb_prescribing_df = prescribing_df[prescribing_df['practice_code'].isin(camb_practice_df['practice_code'])]"
   ]
  },
  {
   "cell_type": "code",
   "execution_count": 43,
   "metadata": {},
   "outputs": [
    {
     "data": {
      "text/plain": [
       "345532"
      ]
     },
     "execution_count": 43,
     "metadata": {},
     "output_type": "execute_result"
    }
   ],
   "source": [
    "#Add up all the prescriptions (ie. items)\n",
    "num_camb_prescriptions = camb_prescribing_df['items'].sum()\n",
    "num_camb_prescriptions"
   ]
  },
  {
   "cell_type": "code",
   "execution_count": 44,
   "metadata": {},
   "outputs": [
    {
     "data": {
      "text/plain": [
       "2434403.94"
      ]
     },
     "execution_count": 44,
     "metadata": {},
     "output_type": "execute_result"
    }
   ],
   "source": [
    "#Add up the actual cost of all these prescriptions\n",
    "act_cost_camb = camb_prescribing_df['act_cost'].sum()\n",
    "act_cost_camb"
   ]
  },
  {
   "cell_type": "markdown",
   "metadata": {},
   "source": [
    "There are fewer people in Cabridge, with 311,579 patients registered at 31 practices. 345532 prescriptions have been dispensed in Cambridge in April 2018, with an actual cost of £2,434,403.94.  In order to make comparisons on prescribing patterns, it will be interesting to know prescriptions per person, and money spent per person."
   ]
  },
  {
   "cell_type": "code",
   "execution_count": 48,
   "metadata": {},
   "outputs": [
    {
     "data": {
      "text/plain": [
       "1.0068057684789136"
      ]
     },
     "execution_count": 48,
     "metadata": {},
     "output_type": "execute_result"
    }
   ],
   "source": [
    "#calculate prescriptions per person registered in london\n",
    "lond_prescriptions_pp = num_lond_prescriptions/tot_lond_pts\n",
    "lond_prescriptions_pp"
   ]
  },
  {
   "cell_type": "code",
   "execution_count": 49,
   "metadata": {},
   "outputs": [
    {
     "data": {
      "text/plain": [
       "1.1089707586198043"
      ]
     },
     "execution_count": 49,
     "metadata": {},
     "output_type": "execute_result"
    }
   ],
   "source": [
    "#calculate prescriptions per person registered in cambridge\n",
    "camb_prescriptions_pp= num_camb_prescriptions/num_camb_registrations\n",
    "camb_prescriptions_pp"
   ]
  },
  {
   "cell_type": "code",
   "execution_count": 51,
   "metadata": {},
   "outputs": [
    {
     "data": {
      "text/plain": [
       "7.416372447858218"
      ]
     },
     "execution_count": 51,
     "metadata": {},
     "output_type": "execute_result"
    }
   ],
   "source": [
    "#calculate cost per person registered in london\n",
    "london_cost_pp = act_cost_lond/tot_lond_pts\n",
    "london_cost_pp"
   ]
  },
  {
   "cell_type": "code",
   "execution_count": 52,
   "metadata": {},
   "outputs": [
    {
     "data": {
      "text/plain": [
       "7.81311943359469"
      ]
     },
     "execution_count": 52,
     "metadata": {},
     "output_type": "execute_result"
    }
   ],
   "source": [
    "#calculate cost per person registered in Cambridge\n",
    "camb_cost_pp = act_cost_camb/num_camb_registrations\n",
    "camb_cost_pp"
   ]
  },
  {
   "cell_type": "markdown",
   "metadata": {},
   "source": [
    "Cambridge has slightly more prescriptions per person than London (1.1 compared to 1.0) and spends 40p more per person (£7.81 compared to £7.41).  This may reflect that Cambridge has a slightly older population, which could be checked by downloading the age-grouped practice registration information (But I will not do that in this analysis)"
   ]
  },
  {
   "cell_type": "code",
   "execution_count": 55,
   "metadata": {
    "scrolled": true
   },
   "outputs": [
    {
     "data": {
      "text/html": [
       "<div>\n",
       "<style scoped>\n",
       "    .dataframe tbody tr th:only-of-type {\n",
       "        vertical-align: middle;\n",
       "    }\n",
       "\n",
       "    .dataframe tbody tr th {\n",
       "        vertical-align: top;\n",
       "    }\n",
       "\n",
       "    .dataframe thead th {\n",
       "        text-align: right;\n",
       "    }\n",
       "</style>\n",
       "<table border=\"1\" class=\"dataframe\">\n",
       "  <thead>\n",
       "    <tr style=\"text-align: right;\">\n",
       "      <th></th>\n",
       "      <th>bnf_stem</th>\n",
       "      <th>items</th>\n",
       "      <th>act_cost</th>\n",
       "    </tr>\n",
       "  </thead>\n",
       "  <tbody>\n",
       "    <tr>\n",
       "      <th>30</th>\n",
       "      <td>0103050P0</td>\n",
       "      <td>12720</td>\n",
       "      <td>12164.00</td>\n",
       "    </tr>\n",
       "    <tr>\n",
       "      <th>191</th>\n",
       "      <td>0212000B0</td>\n",
       "      <td>12338</td>\n",
       "      <td>12740.15</td>\n",
       "    </tr>\n",
       "    <tr>\n",
       "      <th>535</th>\n",
       "      <td>0602010V0</td>\n",
       "      <td>11586</td>\n",
       "      <td>18460.45</td>\n",
       "    </tr>\n",
       "    <tr>\n",
       "      <th>151</th>\n",
       "      <td>0206020A0</td>\n",
       "      <td>8732</td>\n",
       "      <td>14557.66</td>\n",
       "    </tr>\n",
       "    <tr>\n",
       "      <th>718</th>\n",
       "      <td>0906040G0</td>\n",
       "      <td>8550</td>\n",
       "      <td>34838.62</td>\n",
       "    </tr>\n",
       "    <tr>\n",
       "      <th>180</th>\n",
       "      <td>0209000A0</td>\n",
       "      <td>7747</td>\n",
       "      <td>3412.61</td>\n",
       "    </tr>\n",
       "    <tr>\n",
       "      <th>126</th>\n",
       "      <td>0205051L0</td>\n",
       "      <td>7735</td>\n",
       "      <td>5087.81</td>\n",
       "    </tr>\n",
       "    <tr>\n",
       "      <th>200</th>\n",
       "      <td>0212000Y0</td>\n",
       "      <td>7590</td>\n",
       "      <td>4623.76</td>\n",
       "    </tr>\n",
       "    <tr>\n",
       "      <th>103</th>\n",
       "      <td>0204000H0</td>\n",
       "      <td>7178</td>\n",
       "      <td>3549.38</td>\n",
       "    </tr>\n",
       "    <tr>\n",
       "      <th>203</th>\n",
       "      <td>0301011R0</td>\n",
       "      <td>5860</td>\n",
       "      <td>12685.83</td>\n",
       "    </tr>\n",
       "  </tbody>\n",
       "</table>\n",
       "</div>"
      ],
      "text/plain": [
       "      bnf_stem  items  act_cost\n",
       "30   0103050P0  12720  12164.00\n",
       "191  0212000B0  12338  12740.15\n",
       "535  0602010V0  11586  18460.45\n",
       "151  0206020A0   8732  14557.66\n",
       "718  0906040G0   8550  34838.62\n",
       "180  0209000A0   7747   3412.61\n",
       "126  0205051L0   7735   5087.81\n",
       "200  0212000Y0   7590   4623.76\n",
       "103  0204000H0   7178   3549.38\n",
       "203  0301011R0   5860  12685.83"
      ]
     },
     "execution_count": 55,
     "metadata": {},
     "output_type": "execute_result"
    }
   ],
   "source": [
    "# Create a dataframe just with columns of interest\n",
    "camb_totals = pd.merge(camb_prescribing_df[['bnf_stem','items','act_cost']],pharm_df, left_on='bnf_stem',\\\n",
    "                       right_on='chem_sub').drop('chem_sub', axis=1)\n",
    "\n",
    "# Calculate total items\n",
    "camb_totals = camb_totals.groupby(['bnf_stem']).sum().reset_index()\n",
    "\n",
    "#sort by total items\n",
    "camb_totals = camb_totals.sort_values(by='items',ascending=False)\n",
    "camb_totals.head(10)"
   ]
  },
  {
   "cell_type": "code",
   "execution_count": 635,
   "metadata": {},
   "outputs": [
    {
     "data": {
      "text/html": [
       "<div>\n",
       "<style scoped>\n",
       "    .dataframe tbody tr th:only-of-type {\n",
       "        vertical-align: middle;\n",
       "    }\n",
       "\n",
       "    .dataframe tbody tr th {\n",
       "        vertical-align: top;\n",
       "    }\n",
       "\n",
       "    .dataframe thead th {\n",
       "        text-align: right;\n",
       "    }\n",
       "</style>\n",
       "<table border=\"1\" class=\"dataframe\">\n",
       "  <thead>\n",
       "    <tr style=\"text-align: right;\">\n",
       "      <th></th>\n",
       "      <th>bnf_name</th>\n",
       "      <th>items</th>\n",
       "      <th>act_cost</th>\n",
       "    </tr>\n",
       "  </thead>\n",
       "  <tbody>\n",
       "    <tr>\n",
       "      <th>2386</th>\n",
       "      <td>HBvaxPRO_Vac 40mcg/ml 1ml Vl</td>\n",
       "      <td>1</td>\n",
       "      <td>25.60</td>\n",
       "    </tr>\n",
       "    <tr>\n",
       "      <th>2387</th>\n",
       "      <td>HPV (Type 6 11 16 18)_Vac 0.5ml Pfs</td>\n",
       "      <td>1</td>\n",
       "      <td>80.22</td>\n",
       "    </tr>\n",
       "    <tr>\n",
       "      <th>2388</th>\n",
       "      <td>Haddenham Acc For Veni MTO 5cm Strong Pl</td>\n",
       "      <td>1</td>\n",
       "      <td>0.00</td>\n",
       "    </tr>\n",
       "    <tr>\n",
       "      <th>2389</th>\n",
       "      <td>Haddenham Acc For Veni MTO Non-Stnd Colr</td>\n",
       "      <td>1</td>\n",
       "      <td>0.00</td>\n",
       "    </tr>\n",
       "    <tr>\n",
       "      <th>4406</th>\n",
       "      <td>Regurin_Tab 20mg</td>\n",
       "      <td>1</td>\n",
       "      <td>24.12</td>\n",
       "    </tr>\n",
       "    <tr>\n",
       "      <th>2390</th>\n",
       "      <td>Haddenham Acc For Veni MTO Short Foot</td>\n",
       "      <td>1</td>\n",
       "      <td>0.00</td>\n",
       "    </tr>\n",
       "    <tr>\n",
       "      <th>2391</th>\n",
       "      <td>Haddenham Acc For Veni MTO Short Leg</td>\n",
       "      <td>1</td>\n",
       "      <td>0.00</td>\n",
       "    </tr>\n",
       "    <tr>\n",
       "      <th>2392</th>\n",
       "      <td>Haddenham Custom Goldpunkt L/Limb Acc Sl</td>\n",
       "      <td>1</td>\n",
       "      <td>28.97</td>\n",
       "    </tr>\n",
       "    <tr>\n",
       "      <th>2395</th>\n",
       "      <td>Haddenham Custom Pertex L/Limb Acc Slc G</td>\n",
       "      <td>1</td>\n",
       "      <td>28.97</td>\n",
       "    </tr>\n",
       "    <tr>\n",
       "      <th>0</th>\n",
       "      <td>365 Strips Skin Closure Strips Ster Surg</td>\n",
       "      <td>1</td>\n",
       "      <td>4.85</td>\n",
       "    </tr>\n",
       "  </tbody>\n",
       "</table>\n",
       "</div>"
      ],
      "text/plain": [
       "                                      bnf_name  items  act_cost\n",
       "2386              HBvaxPRO_Vac 40mcg/ml 1ml Vl      1     25.60\n",
       "2387       HPV (Type 6 11 16 18)_Vac 0.5ml Pfs      1     80.22\n",
       "2388  Haddenham Acc For Veni MTO 5cm Strong Pl      1      0.00\n",
       "2389  Haddenham Acc For Veni MTO Non-Stnd Colr      1      0.00\n",
       "4406                          Regurin_Tab 20mg      1     24.12\n",
       "2390     Haddenham Acc For Veni MTO Short Foot      1      0.00\n",
       "2391      Haddenham Acc For Veni MTO Short Leg      1      0.00\n",
       "2392  Haddenham Custom Goldpunkt L/Limb Acc Sl      1     28.97\n",
       "2395  Haddenham Custom Pertex L/Limb Acc Slc G      1     28.97\n",
       "0     365 Strips Skin Closure Strips Ster Surg      1      4.85"
      ]
     },
     "execution_count": 635,
     "metadata": {},
     "output_type": "execute_result"
    }
   ],
   "source": [
    "camb_totals.tail(10)"
   ]
  },
  {
   "cell_type": "code",
   "execution_count": 637,
   "metadata": {
    "scrolled": true
   },
   "outputs": [
    {
     "data": {
      "text/plain": [
       "(1434, 3)"
      ]
     },
     "execution_count": 637,
     "metadata": {},
     "output_type": "execute_result"
    }
   ],
   "source": [
    "camb_totals[camb_totals['items']==1].shape"
   ]
  },
  {
   "cell_type": "markdown",
   "metadata": {},
   "source": [
    "Cambridge has a very similar list of medicines in the top 10 most frequently prescribed as London.  Interestingly, levothyroxine appears twice in the top 10, which may reflect a higher prevalence of hypothyroidism than in London."
   ]
  },
  {
   "cell_type": "markdown",
   "metadata": {},
   "source": [
    "If I were to do this analysis again, it would make sense to define a function to extract the information for a city, so that the analysis can easily be repeated for many cities."
   ]
  },
  {
   "cell_type": "markdown",
   "metadata": {},
   "source": [
    "### Question 3\n",
    "I will now look at the total number of prescriptions and actual cost for all practices for cardiovascular disease drugs (BNF Chapter 02) and antidepressants (BNF Chapter 4, Section 3)"
   ]
  },
  {
   "cell_type": "code",
   "execution_count": 638,
   "metadata": {},
   "outputs": [],
   "source": [
    "#function to return prescribing data for a chapter/section of the BNF\n",
    "def prescriptions_by_bnf(chapter):\n",
    "    \"\"\"chapter as a string of numbers representing chapter then section\"\"\"\n",
    "    global prescribing_df\n",
    "    chapter_df = prescribing_df[prescribing_df['bnf_code'].str.startswith(chapter)]\n",
    "    return chapter_df"
   ]
  },
  {
   "cell_type": "code",
   "execution_count": 818,
   "metadata": {},
   "outputs": [
    {
     "data": {
      "text/html": [
       "<div>\n",
       "<style scoped>\n",
       "    .dataframe tbody tr th:only-of-type {\n",
       "        vertical-align: middle;\n",
       "    }\n",
       "\n",
       "    .dataframe tbody tr th {\n",
       "        vertical-align: top;\n",
       "    }\n",
       "\n",
       "    .dataframe thead th {\n",
       "        text-align: right;\n",
       "    }\n",
       "</style>\n",
       "<table border=\"1\" class=\"dataframe\">\n",
       "  <thead>\n",
       "    <tr style=\"text-align: right;\">\n",
       "      <th></th>\n",
       "      <th>sha</th>\n",
       "      <th>pct</th>\n",
       "      <th>practice_code</th>\n",
       "      <th>bnf_code</th>\n",
       "      <th>bnf_name</th>\n",
       "      <th>items</th>\n",
       "      <th>nic</th>\n",
       "      <th>act_cost</th>\n",
       "      <th>quantity</th>\n",
       "      <th>period</th>\n",
       "    </tr>\n",
       "  </thead>\n",
       "  <tbody>\n",
       "    <tr>\n",
       "      <th>28</th>\n",
       "      <td>Q44</td>\n",
       "      <td>RTV</td>\n",
       "      <td>Y05294</td>\n",
       "      <td>0204000R0AAAHAH</td>\n",
       "      <td>Propranolol HCl_Tab 10mg</td>\n",
       "      <td>4</td>\n",
       "      <td>7.12</td>\n",
       "      <td>6.65</td>\n",
       "      <td>224</td>\n",
       "      <td>201804</td>\n",
       "    </tr>\n",
       "    <tr>\n",
       "      <th>29</th>\n",
       "      <td>Q44</td>\n",
       "      <td>RTV</td>\n",
       "      <td>Y05294</td>\n",
       "      <td>0204000R0AAAJAJ</td>\n",
       "      <td>Propranolol HCl_Tab 40mg</td>\n",
       "      <td>3</td>\n",
       "      <td>1.35</td>\n",
       "      <td>1.59</td>\n",
       "      <td>42</td>\n",
       "      <td>201804</td>\n",
       "    </tr>\n",
       "    <tr>\n",
       "      <th>337</th>\n",
       "      <td>Q44</td>\n",
       "      <td>RXA</td>\n",
       "      <td>Y00327</td>\n",
       "      <td>0202020D0AAAEAE</td>\n",
       "      <td>Bumetanide_Tab 1mg</td>\n",
       "      <td>1</td>\n",
       "      <td>0.26</td>\n",
       "      <td>0.35</td>\n",
       "      <td>6</td>\n",
       "      <td>201804</td>\n",
       "    </tr>\n",
       "    <tr>\n",
       "      <th>338</th>\n",
       "      <td>Q44</td>\n",
       "      <td>RXA</td>\n",
       "      <td>Y00327</td>\n",
       "      <td>0202020L0AABBBB</td>\n",
       "      <td>Furosemide_Tab 20mg</td>\n",
       "      <td>1</td>\n",
       "      <td>0.13</td>\n",
       "      <td>0.23</td>\n",
       "      <td>10</td>\n",
       "      <td>201804</td>\n",
       "    </tr>\n",
       "    <tr>\n",
       "      <th>339</th>\n",
       "      <td>Q44</td>\n",
       "      <td>RXA</td>\n",
       "      <td>Y00327</td>\n",
       "      <td>0202020L0AABDBD</td>\n",
       "      <td>Furosemide_Tab 40mg</td>\n",
       "      <td>1</td>\n",
       "      <td>0.17</td>\n",
       "      <td>0.27</td>\n",
       "      <td>14</td>\n",
       "      <td>201804</td>\n",
       "    </tr>\n",
       "  </tbody>\n",
       "</table>\n",
       "</div>"
      ],
      "text/plain": [
       "     sha  pct practice_code         bnf_code                  bnf_name  items  \\\n",
       "28   Q44  RTV        Y05294  0204000R0AAAHAH  Propranolol HCl_Tab 10mg      4   \n",
       "29   Q44  RTV        Y05294  0204000R0AAAJAJ  Propranolol HCl_Tab 40mg      3   \n",
       "337  Q44  RXA        Y00327  0202020D0AAAEAE        Bumetanide_Tab 1mg      1   \n",
       "338  Q44  RXA        Y00327  0202020L0AABBBB       Furosemide_Tab 20mg      1   \n",
       "339  Q44  RXA        Y00327  0202020L0AABDBD       Furosemide_Tab 40mg      1   \n",
       "\n",
       "      nic  act_cost  quantity  period  \n",
       "28   7.12      6.65       224  201804  \n",
       "29   1.35      1.59        42  201804  \n",
       "337  0.26      0.35         6  201804  \n",
       "338  0.13      0.23        10  201804  \n",
       "339  0.17      0.27        14  201804  "
      ]
     },
     "execution_count": 818,
     "metadata": {},
     "output_type": "execute_result"
    }
   ],
   "source": [
    "#find all prescriptions for Cardiovascular drugs (Chapter 2)\n",
    "cvd_prescriptions_df = prescriptions_by_bnf('02')\n",
    "cvd_prescriptions_df.head()"
   ]
  },
  {
   "cell_type": "code",
   "execution_count": 819,
   "metadata": {},
   "outputs": [
    {
     "data": {
      "text/html": [
       "<div>\n",
       "<style scoped>\n",
       "    .dataframe tbody tr th:only-of-type {\n",
       "        vertical-align: middle;\n",
       "    }\n",
       "\n",
       "    .dataframe tbody tr th {\n",
       "        vertical-align: top;\n",
       "    }\n",
       "\n",
       "    .dataframe thead th {\n",
       "        text-align: right;\n",
       "    }\n",
       "</style>\n",
       "<table border=\"1\" class=\"dataframe\">\n",
       "  <thead>\n",
       "    <tr style=\"text-align: right;\">\n",
       "      <th></th>\n",
       "      <th>sha</th>\n",
       "      <th>pct</th>\n",
       "      <th>practice_code</th>\n",
       "      <th>bnf_code</th>\n",
       "      <th>bnf_name</th>\n",
       "      <th>items</th>\n",
       "      <th>nic</th>\n",
       "      <th>act_cost</th>\n",
       "      <th>quantity</th>\n",
       "      <th>period</th>\n",
       "    </tr>\n",
       "  </thead>\n",
       "  <tbody>\n",
       "    <tr>\n",
       "      <th>9</th>\n",
       "      <td>Q44</td>\n",
       "      <td>RTV</td>\n",
       "      <td>Y04937</td>\n",
       "      <td>0403010X0AAAAAA</td>\n",
       "      <td>Trazodone HCl_Cap 50mg</td>\n",
       "      <td>1</td>\n",
       "      <td>1.19</td>\n",
       "      <td>1.22</td>\n",
       "      <td>14</td>\n",
       "      <td>201804</td>\n",
       "    </tr>\n",
       "    <tr>\n",
       "      <th>10</th>\n",
       "      <td>Q44</td>\n",
       "      <td>RTV</td>\n",
       "      <td>Y04937</td>\n",
       "      <td>0403030D0AAAAAA</td>\n",
       "      <td>Citalopram Hydrob_Tab 20mg</td>\n",
       "      <td>1</td>\n",
       "      <td>1.17</td>\n",
       "      <td>1.20</td>\n",
       "      <td>14</td>\n",
       "      <td>201804</td>\n",
       "    </tr>\n",
       "    <tr>\n",
       "      <th>11</th>\n",
       "      <td>Q44</td>\n",
       "      <td>RTV</td>\n",
       "      <td>Y04937</td>\n",
       "      <td>0403030D0AAABAB</td>\n",
       "      <td>Citalopram Hydrob_Tab 10mg</td>\n",
       "      <td>1</td>\n",
       "      <td>0.76</td>\n",
       "      <td>0.82</td>\n",
       "      <td>14</td>\n",
       "      <td>201804</td>\n",
       "    </tr>\n",
       "    <tr>\n",
       "      <th>12</th>\n",
       "      <td>Q44</td>\n",
       "      <td>RTV</td>\n",
       "      <td>Y04937</td>\n",
       "      <td>0403030P0AAAGAG</td>\n",
       "      <td>Paroxetine HCl_Oral Soln 10mg/5ml S/F</td>\n",
       "      <td>1</td>\n",
       "      <td>15.99</td>\n",
       "      <td>14.94</td>\n",
       "      <td>263</td>\n",
       "      <td>201804</td>\n",
       "    </tr>\n",
       "    <tr>\n",
       "      <th>13</th>\n",
       "      <td>Q44</td>\n",
       "      <td>RTV</td>\n",
       "      <td>Y04937</td>\n",
       "      <td>0403030P0AAAKAK</td>\n",
       "      <td>Paroxetine HCl_Tab 10mg</td>\n",
       "      <td>1</td>\n",
       "      <td>16.50</td>\n",
       "      <td>15.41</td>\n",
       "      <td>49</td>\n",
       "      <td>201804</td>\n",
       "    </tr>\n",
       "  </tbody>\n",
       "</table>\n",
       "</div>"
      ],
      "text/plain": [
       "    sha  pct practice_code         bnf_code  \\\n",
       "9   Q44  RTV        Y04937  0403010X0AAAAAA   \n",
       "10  Q44  RTV        Y04937  0403030D0AAAAAA   \n",
       "11  Q44  RTV        Y04937  0403030D0AAABAB   \n",
       "12  Q44  RTV        Y04937  0403030P0AAAGAG   \n",
       "13  Q44  RTV        Y04937  0403030P0AAAKAK   \n",
       "\n",
       "                                 bnf_name  items    nic  act_cost  quantity  \\\n",
       "9                  Trazodone HCl_Cap 50mg      1   1.19      1.22        14   \n",
       "10             Citalopram Hydrob_Tab 20mg      1   1.17      1.20        14   \n",
       "11             Citalopram Hydrob_Tab 10mg      1   0.76      0.82        14   \n",
       "12  Paroxetine HCl_Oral Soln 10mg/5ml S/F      1  15.99     14.94       263   \n",
       "13                Paroxetine HCl_Tab 10mg      1  16.50     15.41        49   \n",
       "\n",
       "    period  \n",
       "9   201804  \n",
       "10  201804  \n",
       "11  201804  \n",
       "12  201804  \n",
       "13  201804  "
      ]
     },
     "execution_count": 819,
     "metadata": {},
     "output_type": "execute_result"
    }
   ],
   "source": [
    "#find all prescriptions for Anti-depressant drugs (Chapter 4, Section 3)\n",
    "ad_prescriptions_df = prescriptions_by_bnf('0403')\n",
    "ad_prescriptions_df.head()"
   ]
  },
  {
   "cell_type": "code",
   "execution_count": 816,
   "metadata": {},
   "outputs": [],
   "source": [
    "#Count the total number of prescriptions (items)\n",
    "num_cvd_prescriptions = cvd_prescriptions_df['items'].sum()\n",
    "num_ad_prescriptions = ad_prescriptions_df['items'].sum()"
   ]
  },
  {
   "cell_type": "code",
   "execution_count": 817,
   "metadata": {
    "scrolled": true
   },
   "outputs": [],
   "source": [
    "#Sum the total cost\n",
    "cost_cvd_prescriptions = cvd_prescriptions_df['act_cost'].sum()\n",
    "cost_ad_prescriptions = ad_prescriptions_df['act_cost'].sum()"
   ]
  },
  {
   "cell_type": "code",
   "execution_count": 677,
   "metadata": {},
   "outputs": [
    {
     "data": {
      "text/html": [
       "<div>\n",
       "<style scoped>\n",
       "    .dataframe tbody tr th:only-of-type {\n",
       "        vertical-align: middle;\n",
       "    }\n",
       "\n",
       "    .dataframe tbody tr th {\n",
       "        vertical-align: top;\n",
       "    }\n",
       "\n",
       "    .dataframe thead th {\n",
       "        text-align: right;\n",
       "    }\n",
       "</style>\n",
       "<table border=\"1\" class=\"dataframe\">\n",
       "  <thead>\n",
       "    <tr style=\"text-align: right;\">\n",
       "      <th></th>\n",
       "      <th>num_prescriptions</th>\n",
       "      <th>cost</th>\n",
       "      <th>cost_per_prescription</th>\n",
       "    </tr>\n",
       "  </thead>\n",
       "  <tbody>\n",
       "    <tr>\n",
       "      <th>Cardiovascular disease drugs</th>\n",
       "      <td>26449832</td>\n",
       "      <td>90193834.02</td>\n",
       "      <td>3.409996</td>\n",
       "    </tr>\n",
       "    <tr>\n",
       "      <th>Anti-depressants</th>\n",
       "      <td>5715873</td>\n",
       "      <td>16853470.86</td>\n",
       "      <td>2.948538</td>\n",
       "    </tr>\n",
       "  </tbody>\n",
       "</table>\n",
       "</div>"
      ],
      "text/plain": [
       "                              num_prescriptions         cost  \\\n",
       "Cardiovascular disease drugs           26449832  90193834.02   \n",
       "Anti-depressants                        5715873  16853470.86   \n",
       "\n",
       "                              cost_per_prescription  \n",
       "Cardiovascular disease drugs               3.409996  \n",
       "Anti-depressants                           2.948538  "
      ]
     },
     "execution_count": 677,
     "metadata": {},
     "output_type": "execute_result"
    }
   ],
   "source": [
    "# Create a table to diplay this information and calculate cost-per-precription\n",
    "prescriptions = pd.DataFrame({'num_prescriptions':[num_cvd_prescriptions,num_ad_prescriptions],\n",
    "                             'cost':[cost_cvd_prescriptions,cost_ad_prescriptions]}, \\\n",
    "                             index=['Cardiovascular disease drugs','Anti-depressants'])\n",
    "prescriptions['cost_per_prescription']=prescriptions['cost']/prescriptions['num_prescriptions']\n",
    "prescriptions"
   ]
  },
  {
   "cell_type": "code",
   "execution_count": 670,
   "metadata": {},
   "outputs": [
    {
     "data": {
      "text/plain": [
       "4.6274352141833806"
      ]
     },
     "execution_count": 670,
     "metadata": {},
     "output_type": "execute_result"
    }
   ],
   "source": [
    "num_cvd_prescriptions/num_ad_prescriptions"
   ]
  },
  {
   "cell_type": "code",
   "execution_count": 672,
   "metadata": {},
   "outputs": [
    {
     "data": {
      "text/plain": [
       "5.3516474303264046"
      ]
     },
     "execution_count": 672,
     "metadata": {},
     "output_type": "execute_result"
    }
   ],
   "source": [
    "cost_cvd_prescriptions/cost_ad_prescriptions"
   ]
  },
  {
   "cell_type": "markdown",
   "metadata": {},
   "source": [
    "Across all practices in England, there are almost 4.6 times as many prescriptions for cardiovascular disease drugs compared to anti-depressants.  These precriptions tend to be more expensive per prescription (£3.41 vs £2.94), and so the total spending on cardiovascular disease drugs is 5.35 times higher than for anti-depressants."
   ]
  },
  {
   "cell_type": "code",
   "execution_count": 822,
   "metadata": {},
   "outputs": [
    {
     "data": {
      "image/png": "[encoded data removed]",
      "text/plain": [
       "<Figure size 864x288 with 2 Axes>"
      ]
     },
     "metadata": {
      "needs_background": "light"
     },
     "output_type": "display_data"
    }
   ],
   "source": [
    "#Plot this information to show it visually\n",
    "fig = plt.figure(figsize=(12,4))\n",
    "plt1 = fig.add_subplot(121)\n",
    "plt2 = fig.add_subplot(122)\n",
    "\n",
    "# plotting points on each subplot\n",
    "plt1.bar(prescriptions.index, prescriptions['num_prescriptions'],color=['blue','orange'])\n",
    "plt1.set_title('Number of prescriptions')\n",
    "plt1.set_ylabel('Number')\n",
    " \n",
    "plt2.bar(prescriptions.index, prescriptions['cost'],color=['blue','orange'])\n",
    "plt2.set_title('Cost of prescriptions')\n",
    "plt2.set_ylabel('Cost (£)')\n",
    "\n",
    "# adjusting space between subplots\n",
    "fig.subplots_adjust(hspace=.5,wspace=0.5)\n",
    "\n",
    "plt.show()\n",
    "plt.close()"
   ]
  },
  {
   "cell_type": "markdown",
   "metadata": {},
   "source": [
    "## Question 4\n",
    "I will now look at total spending and the relatives cost per patient across all practices in England.  First I will create a data frame with the total actual cost and number of registered patients per practice, then I will plot the information in a scatter plot."
   ]
  },
  {
   "cell_type": "code",
   "execution_count": 723,
   "metadata": {
    "scrolled": true
   },
   "outputs": [
    {
     "data": {
      "text/html": [
       "<div>\n",
       "<style scoped>\n",
       "    .dataframe tbody tr th:only-of-type {\n",
       "        vertical-align: middle;\n",
       "    }\n",
       "\n",
       "    .dataframe tbody tr th {\n",
       "        vertical-align: top;\n",
       "    }\n",
       "\n",
       "    .dataframe thead th {\n",
       "        text-align: right;\n",
       "    }\n",
       "</style>\n",
       "<table border=\"1\" class=\"dataframe\">\n",
       "  <thead>\n",
       "    <tr style=\"text-align: right;\">\n",
       "      <th></th>\n",
       "      <th>practice_code</th>\n",
       "      <th>act_cost</th>\n",
       "      <th>number_of_patients</th>\n",
       "    </tr>\n",
       "  </thead>\n",
       "  <tbody>\n",
       "    <tr>\n",
       "      <th>0</th>\n",
       "      <td>A81001</td>\n",
       "      <td>52194.63</td>\n",
       "      <td>4086</td>\n",
       "    </tr>\n",
       "    <tr>\n",
       "      <th>1</th>\n",
       "      <td>A81002</td>\n",
       "      <td>268607.26</td>\n",
       "      <td>19906</td>\n",
       "    </tr>\n",
       "    <tr>\n",
       "      <th>2</th>\n",
       "      <td>A81004</td>\n",
       "      <td>139115.40</td>\n",
       "      <td>10165</td>\n",
       "    </tr>\n",
       "    <tr>\n",
       "      <th>3</th>\n",
       "      <td>A81005</td>\n",
       "      <td>102914.06</td>\n",
       "      <td>8016</td>\n",
       "    </tr>\n",
       "    <tr>\n",
       "      <th>4</th>\n",
       "      <td>A81006</td>\n",
       "      <td>183226.79</td>\n",
       "      <td>14497</td>\n",
       "    </tr>\n",
       "  </tbody>\n",
       "</table>\n",
       "</div>"
      ],
      "text/plain": [
       "  practice_code   act_cost  number_of_patients\n",
       "0        A81001   52194.63                4086\n",
       "1        A81002  268607.26               19906\n",
       "2        A81004  139115.40               10165\n",
       "3        A81005  102914.06                8016\n",
       "4        A81006  183226.79               14497"
      ]
     },
     "execution_count": 723,
     "metadata": {},
     "output_type": "execute_result"
    }
   ],
   "source": [
    "# Create database of practices and total act_cost\n",
    "practice_prescribing_df = prescribing_df[['practice_code','act_cost']].groupby('practice_code').sum().reset_index()\n",
    "#Add column of number of patients\n",
    "practice_prescribing_df = pd.merge(practice_prescribing_df, registrations_df[['practice_code','number_of_patients']],\\\n",
    "                                   on='practice_code')\n",
    "practice_prescribing_df.head()"
   ]
  },
  {
   "cell_type": "code",
   "execution_count": 726,
   "metadata": {},
   "outputs": [
    {
     "data": {
      "image/png": "[encoded data removed]",
      "text/plain": [
       "<Figure size 432x288 with 1 Axes>"
      ]
     },
     "metadata": {
      "needs_background": "light"
     },
     "output_type": "display_data"
    }
   ],
   "source": [
    "#Set x and y values\n",
    "x = practice_prescribing_df['number_of_patients']\n",
    "y = practice_prescribing_df['act_cost']\n",
    "#create a plot\n",
    "plt.scatter(x,y)\n",
    "#label the plot\n",
    "plt.title('Spending for all practices in April 2018')\n",
    "plt.xlabel('Number of patients')\n",
    "plt.ylabel('Total Spending (£)')\n",
    "#add a trend line\n",
    "fit = np.polyfit(x, y, deg=1)\n",
    "plt.plot(x, fit[0] * x + fit[1], color='red')\n",
    "plt.show()"
   ]
  },
  {
   "cell_type": "markdown",
   "metadata": {},
   "source": [
    "There is a positive association between number of patients and total spending at a GP practice.  Most practices have less than 300,000 people and spend less than £400,000/month.  There is considerable spread of practices around the trend line.  Next I will calculate the relative spending (ie. spending per patient) and plot this."
   ]
  },
  {
   "cell_type": "code",
   "execution_count": 730,
   "metadata": {},
   "outputs": [
    {
     "data": {
      "text/html": [
       "<div>\n",
       "<style scoped>\n",
       "    .dataframe tbody tr th:only-of-type {\n",
       "        vertical-align: middle;\n",
       "    }\n",
       "\n",
       "    .dataframe tbody tr th {\n",
       "        vertical-align: top;\n",
       "    }\n",
       "\n",
       "    .dataframe thead th {\n",
       "        text-align: right;\n",
       "    }\n",
       "</style>\n",
       "<table border=\"1\" class=\"dataframe\">\n",
       "  <thead>\n",
       "    <tr style=\"text-align: right;\">\n",
       "      <th></th>\n",
       "      <th>act_cost</th>\n",
       "      <th>number_of_patients</th>\n",
       "      <th>relative_spending</th>\n",
       "    </tr>\n",
       "  </thead>\n",
       "  <tbody>\n",
       "    <tr>\n",
       "      <th>count</th>\n",
       "      <td>7191.000000</td>\n",
       "      <td>7191.000000</td>\n",
       "      <td>7191.000000</td>\n",
       "    </tr>\n",
       "    <tr>\n",
       "      <th>mean</th>\n",
       "      <td>87842.769907</td>\n",
       "      <td>8207.557224</td>\n",
       "      <td>11.606497</td>\n",
       "    </tr>\n",
       "    <tr>\n",
       "      <th>std</th>\n",
       "      <td>59133.286587</td>\n",
       "      <td>5161.846053</td>\n",
       "      <td>38.868946</td>\n",
       "    </tr>\n",
       "    <tr>\n",
       "      <th>min</th>\n",
       "      <td>3.250000</td>\n",
       "      <td>3.000000</td>\n",
       "      <td>0.001724</td>\n",
       "    </tr>\n",
       "    <tr>\n",
       "      <th>25%</th>\n",
       "      <td>45118.630000</td>\n",
       "      <td>4557.000000</td>\n",
       "      <td>8.875578</td>\n",
       "    </tr>\n",
       "    <tr>\n",
       "      <th>50%</th>\n",
       "      <td>76206.840000</td>\n",
       "      <td>7278.000000</td>\n",
       "      <td>10.914659</td>\n",
       "    </tr>\n",
       "    <tr>\n",
       "      <th>75%</th>\n",
       "      <td>117871.110000</td>\n",
       "      <td>10742.500000</td>\n",
       "      <td>12.690038</td>\n",
       "    </tr>\n",
       "    <tr>\n",
       "      <th>max</th>\n",
       "      <td>842838.180000</td>\n",
       "      <td>72227.000000</td>\n",
       "      <td>2830.020000</td>\n",
       "    </tr>\n",
       "  </tbody>\n",
       "</table>\n",
       "</div>"
      ],
      "text/plain": [
       "            act_cost  number_of_patients  relative_spending\n",
       "count    7191.000000         7191.000000        7191.000000\n",
       "mean    87842.769907         8207.557224          11.606497\n",
       "std     59133.286587         5161.846053          38.868946\n",
       "min         3.250000            3.000000           0.001724\n",
       "25%     45118.630000         4557.000000           8.875578\n",
       "50%     76206.840000         7278.000000          10.914659\n",
       "75%    117871.110000        10742.500000          12.690038\n",
       "max    842838.180000        72227.000000        2830.020000"
      ]
     },
     "execution_count": 730,
     "metadata": {},
     "output_type": "execute_result"
    }
   ],
   "source": [
    "#Calculate relative spending\n",
    "practice_prescribing_df['relative_spending']= practice_prescribing_df['act_cost']/\\\n",
    "practice_prescribing_df['number_of_patients']\n",
    "\n",
    "#Look at some secriptive stats\n",
    "practice_prescribing_df.describe()"
   ]
  },
  {
   "cell_type": "markdown",
   "metadata": {},
   "source": [
    "There are some extreme outliers which will distort the data, so I have decided to remove the top and bottom 0.05% of GP practices for spending per patients, leaving practices with £1 - £21/patient"
   ]
  },
  {
   "cell_type": "code",
   "execution_count": 762,
   "metadata": {},
   "outputs": [
    {
     "data": {
      "text/plain": [
       "(1, 21)"
      ]
     },
     "execution_count": 762,
     "metadata": {},
     "output_type": "execute_result"
    }
   ],
   "source": [
    "#remove outliers\n",
    "min_x = math.floor(practice_prescribing_df['relative_spending'].quantile(.005))\n",
    "max_x = math.floor(practice_prescribing_df['relative_spending'].quantile(.995))\n",
    "practice_prescribing_limited = practice_prescribing_df[practice_prescribing_df['relative_spending'].between(min_x,max_x)]\n",
    "min_x,max_x"
   ]
  },
  {
   "cell_type": "code",
   "execution_count": 770,
   "metadata": {},
   "outputs": [
    {
     "data": {
      "image/png": "[encoded data removed]",
      "text/plain": [
       "<Figure size 432x288 with 1 Axes>"
      ]
     },
     "metadata": {
      "needs_background": "light"
     },
     "output_type": "display_data"
    }
   ],
   "source": [
    "# Use the data without extreme outliers\n",
    "data = practice_prescribing_limited['relative_spending']\n",
    "\n",
    "# Calculate mean and standard deviation for the data\n",
    "mu, std = norm.fit(data)\n",
    "\n",
    "# Plot the histogram.\n",
    "plt.hist(data, bins=20, density=True)\n",
    "\n",
    "# Plot the PDF.\n",
    "xmin, xmax = plt.xlim()\n",
    "x = np.linspace(xmin, xmax, 100)\n",
    "p = norm.pdf(x, mu, std)\n",
    "plt.plot(x, p, 'k', linewidth=2)\n",
    "plt.title(\"GP Practice Relative Spending April 2018 (mean = %.2f std = %.2f)\" % (mu, std))\n",
    "plt.xlabel(\"Prescription spending per patient (£/pt)\")\n",
    "plt.ylabel(\"Frequency\")\n",
    "\n",
    "plt.show()"
   ]
  },
  {
   "cell_type": "markdown",
   "metadata": {},
   "source": [
    "Spending per patients is normally distributed amongst GP Practices.  In order to target efforts to make efficiency savings, GP practices who have both high total expenditure and high spending per patient can be identified."
   ]
  }
 ],
 "metadata": {
  "kernelspec": {
   "display_name": "Python 3",
   "language": "python",
   "name": "python3"
  },
  "language_info": {
   "codemirror_mode": {
    "name": "ipython",
    "version": 3
   },
   "file_extension": ".py",
   "mimetype": "text/x-python",
   "name": "python",
   "nbconvert_exporter": "python",
   "pygments_lexer": "ipython3",
   "version": "3.7.1"
  }
 },
 "nbformat": 4,
 "nbformat_minor": 2
}
