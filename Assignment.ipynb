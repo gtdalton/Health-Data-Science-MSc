{
 "cells": [
  {
   "cell_type": "markdown",
   "metadata": {},
   "source": [
    "Up to date version of this document is available at https://github.com/zlcc9/dmhr"
   ]
  },
  {
   "cell_type": "markdown",
   "metadata": {},
   "source": [
    "## Assignment A\n",
    "\n",
    "### Introduction\n",
    "This analysis will use datasets from NHS Digital for the month of April 2018 available \n",
    "<a href='https://digital.nhs.uk/data-and-information/publications/statistical/practice-level-prescribing-data/april-2018'>here</a> and <a href='https://digital.nhs.uk/data-and-information/publications/statistical/patients-registered-at-a-gp-practice/patients-registered-at-a-gp-practice-april-2018-special-topic---registered-patients-compared-to-the-projected-resident-population-in-england'>here.</a>\n",
    "<p> I will be using Pandas and other standard modules to analysis the data</p>"
   ]
  },
  {
   "cell_type": "code",
   "execution_count": 771,
   "metadata": {},
   "outputs": [],
   "source": [
    "#preliminaries\n",
    "import pandas as pd\n",
    "import re\n",
    "import numpy as np\n",
    "import math\n",
    "from scipy.stats import norm\n",
    "import matplotlib.pyplot as plot\n",
    "%matplotlib inline"
   ]
  },
  {
   "cell_type": "markdown",
   "metadata": {},
   "source": [
    "I will first explore the datasets that are available.  There are three datasets which I shall use (I have downloaded these files and saved them locally):\n",
    "#### 1. Patients Registered at a GP Practice"
   ]
  },
  {
   "cell_type": "code",
   "execution_count": 494,
   "metadata": {},
   "outputs": [
    {
     "data": {
      "text/html": [
       "<div>\n",
       "<style scoped>\n",
       "    .dataframe tbody tr th:only-of-type {\n",
       "        vertical-align: middle;\n",
       "    }\n",
       "\n",
       "    .dataframe tbody tr th {\n",
       "        vertical-align: top;\n",
       "    }\n",
       "\n",
       "    .dataframe thead th {\n",
       "        text-align: right;\n",
       "    }\n",
       "</style>\n",
       "<table border=\"1\" class=\"dataframe\">\n",
       "  <thead>\n",
       "    <tr style=\"text-align: right;\">\n",
       "      <th></th>\n",
       "      <th>PUBLICATION</th>\n",
       "      <th>EXTRACT_DATE</th>\n",
       "      <th>TYPE</th>\n",
       "      <th>CCG_CODE</th>\n",
       "      <th>ONS_CCG_CODE</th>\n",
       "      <th>CODE</th>\n",
       "      <th>POSTCODE</th>\n",
       "      <th>SEX</th>\n",
       "      <th>AGE</th>\n",
       "      <th>NUMBER_OF_PATIENTS</th>\n",
       "    </tr>\n",
       "  </thead>\n",
       "  <tbody>\n",
       "    <tr>\n",
       "      <th>0</th>\n",
       "      <td>GP_PRAC_PAT_LIST</td>\n",
       "      <td>01APR2018</td>\n",
       "      <td>GP</td>\n",
       "      <td>00C</td>\n",
       "      <td>E38000042</td>\n",
       "      <td>A83005</td>\n",
       "      <td>DL1 3RT</td>\n",
       "      <td>ALL</td>\n",
       "      <td>ALL</td>\n",
       "      <td>11826</td>\n",
       "    </tr>\n",
       "    <tr>\n",
       "      <th>1</th>\n",
       "      <td>GP_PRAC_PAT_LIST</td>\n",
       "      <td>01APR2018</td>\n",
       "      <td>GP</td>\n",
       "      <td>00C</td>\n",
       "      <td>E38000042</td>\n",
       "      <td>A83006</td>\n",
       "      <td>DL3 6HZ</td>\n",
       "      <td>ALL</td>\n",
       "      <td>ALL</td>\n",
       "      <td>8044</td>\n",
       "    </tr>\n",
       "    <tr>\n",
       "      <th>2</th>\n",
       "      <td>GP_PRAC_PAT_LIST</td>\n",
       "      <td>01APR2018</td>\n",
       "      <td>GP</td>\n",
       "      <td>00C</td>\n",
       "      <td>E38000042</td>\n",
       "      <td>A83010</td>\n",
       "      <td>DL3 9JP</td>\n",
       "      <td>ALL</td>\n",
       "      <td>ALL</td>\n",
       "      <td>14070</td>\n",
       "    </tr>\n",
       "    <tr>\n",
       "      <th>3</th>\n",
       "      <td>GP_PRAC_PAT_LIST</td>\n",
       "      <td>01APR2018</td>\n",
       "      <td>GP</td>\n",
       "      <td>00C</td>\n",
       "      <td>E38000042</td>\n",
       "      <td>A83013</td>\n",
       "      <td>DL1 4YL</td>\n",
       "      <td>ALL</td>\n",
       "      <td>ALL</td>\n",
       "      <td>11298</td>\n",
       "    </tr>\n",
       "    <tr>\n",
       "      <th>4</th>\n",
       "      <td>GP_PRAC_PAT_LIST</td>\n",
       "      <td>01APR2018</td>\n",
       "      <td>GP</td>\n",
       "      <td>00C</td>\n",
       "      <td>E38000042</td>\n",
       "      <td>A83031</td>\n",
       "      <td>DL3 8SQ</td>\n",
       "      <td>ALL</td>\n",
       "      <td>ALL</td>\n",
       "      <td>10109</td>\n",
       "    </tr>\n",
       "  </tbody>\n",
       "</table>\n",
       "</div>"
      ],
      "text/plain": [
       "        PUBLICATION EXTRACT_DATE TYPE CCG_CODE ONS_CCG_CODE    CODE POSTCODE  \\\n",
       "0  GP_PRAC_PAT_LIST    01APR2018   GP      00C    E38000042  A83005  DL1 3RT   \n",
       "1  GP_PRAC_PAT_LIST    01APR2018   GP      00C    E38000042  A83006  DL3 6HZ   \n",
       "2  GP_PRAC_PAT_LIST    01APR2018   GP      00C    E38000042  A83010  DL3 9JP   \n",
       "3  GP_PRAC_PAT_LIST    01APR2018   GP      00C    E38000042  A83013  DL1 4YL   \n",
       "4  GP_PRAC_PAT_LIST    01APR2018   GP      00C    E38000042  A83031  DL3 8SQ   \n",
       "\n",
       "   SEX  AGE  NUMBER_OF_PATIENTS  \n",
       "0  ALL  ALL               11826  \n",
       "1  ALL  ALL                8044  \n",
       "2  ALL  ALL               14070  \n",
       "3  ALL  ALL               11298  \n",
       "4  ALL  ALL               10109  "
      ]
     },
     "execution_count": 494,
     "metadata": {},
     "output_type": "execute_result"
    }
   ],
   "source": [
    "# Try importing a local file, if not, download and import\n",
    "try:\n",
    "    registrations_df = pd.read_csv('gp-reg-pat-prac-all.csv', index_col= False)\n",
    "except FileNotFoundError:\n",
    "    registrations_df = pd.read_csv('https://files.digital.nhs.uk/71/B59D99/gp-reg-pat-prac-all.csv', index_col= False)\n",
    "registrations_df.head()"
   ]
  },
  {
   "cell_type": "markdown",
   "metadata": {},
   "source": [
    "The key information in this data set is the GP practice code (identified by CODE) and the number patients registered on the 1st April 2018.  Postcode may also be useful.  Information here is for all patients; separate data sets are avaialble for break down by age (both single year of age and 5-year age bands, both of which finish at 95+) and by gender, if required."
   ]
  },
  {
   "cell_type": "markdown",
   "metadata": {},
   "source": [
    "I will change the column names to standardize them with other data sets"
   ]
  },
  {
   "cell_type": "code",
   "execution_count": 820,
   "metadata": {
    "scrolled": true
   },
   "outputs": [
    {
     "data": {
      "text/html": [
       "<div>\n",
       "<style scoped>\n",
       "    .dataframe tbody tr th:only-of-type {\n",
       "        vertical-align: middle;\n",
       "    }\n",
       "\n",
       "    .dataframe tbody tr th {\n",
       "        vertical-align: top;\n",
       "    }\n",
       "\n",
       "    .dataframe thead th {\n",
       "        text-align: right;\n",
       "    }\n",
       "</style>\n",
       "<table border=\"1\" class=\"dataframe\">\n",
       "  <thead>\n",
       "    <tr style=\"text-align: right;\">\n",
       "      <th></th>\n",
       "      <th>publication</th>\n",
       "      <th>extract_date</th>\n",
       "      <th>type</th>\n",
       "      <th>ccg_code</th>\n",
       "      <th>ons_ccg_code</th>\n",
       "      <th>practice_code</th>\n",
       "      <th>postcode</th>\n",
       "      <th>sex</th>\n",
       "      <th>age</th>\n",
       "      <th>number_of_patients</th>\n",
       "    </tr>\n",
       "  </thead>\n",
       "  <tbody>\n",
       "    <tr>\n",
       "      <th>0</th>\n",
       "      <td>GP_PRAC_PAT_LIST</td>\n",
       "      <td>01APR2018</td>\n",
       "      <td>GP</td>\n",
       "      <td>00C</td>\n",
       "      <td>E38000042</td>\n",
       "      <td>A83005</td>\n",
       "      <td>DL1 3RT</td>\n",
       "      <td>ALL</td>\n",
       "      <td>ALL</td>\n",
       "      <td>11826</td>\n",
       "    </tr>\n",
       "    <tr>\n",
       "      <th>1</th>\n",
       "      <td>GP_PRAC_PAT_LIST</td>\n",
       "      <td>01APR2018</td>\n",
       "      <td>GP</td>\n",
       "      <td>00C</td>\n",
       "      <td>E38000042</td>\n",
       "      <td>A83006</td>\n",
       "      <td>DL3 6HZ</td>\n",
       "      <td>ALL</td>\n",
       "      <td>ALL</td>\n",
       "      <td>8044</td>\n",
       "    </tr>\n",
       "    <tr>\n",
       "      <th>2</th>\n",
       "      <td>GP_PRAC_PAT_LIST</td>\n",
       "      <td>01APR2018</td>\n",
       "      <td>GP</td>\n",
       "      <td>00C</td>\n",
       "      <td>E38000042</td>\n",
       "      <td>A83010</td>\n",
       "      <td>DL3 9JP</td>\n",
       "      <td>ALL</td>\n",
       "      <td>ALL</td>\n",
       "      <td>14070</td>\n",
       "    </tr>\n",
       "    <tr>\n",
       "      <th>3</th>\n",
       "      <td>GP_PRAC_PAT_LIST</td>\n",
       "      <td>01APR2018</td>\n",
       "      <td>GP</td>\n",
       "      <td>00C</td>\n",
       "      <td>E38000042</td>\n",
       "      <td>A83013</td>\n",
       "      <td>DL1 4YL</td>\n",
       "      <td>ALL</td>\n",
       "      <td>ALL</td>\n",
       "      <td>11298</td>\n",
       "    </tr>\n",
       "    <tr>\n",
       "      <th>4</th>\n",
       "      <td>GP_PRAC_PAT_LIST</td>\n",
       "      <td>01APR2018</td>\n",
       "      <td>GP</td>\n",
       "      <td>00C</td>\n",
       "      <td>E38000042</td>\n",
       "      <td>A83031</td>\n",
       "      <td>DL3 8SQ</td>\n",
       "      <td>ALL</td>\n",
       "      <td>ALL</td>\n",
       "      <td>10109</td>\n",
       "    </tr>\n",
       "  </tbody>\n",
       "</table>\n",
       "</div>"
      ],
      "text/plain": [
       "        publication extract_date type ccg_code ons_ccg_code practice_code  \\\n",
       "0  GP_PRAC_PAT_LIST    01APR2018   GP      00C    E38000042        A83005   \n",
       "1  GP_PRAC_PAT_LIST    01APR2018   GP      00C    E38000042        A83006   \n",
       "2  GP_PRAC_PAT_LIST    01APR2018   GP      00C    E38000042        A83010   \n",
       "3  GP_PRAC_PAT_LIST    01APR2018   GP      00C    E38000042        A83013   \n",
       "4  GP_PRAC_PAT_LIST    01APR2018   GP      00C    E38000042        A83031   \n",
       "\n",
       "  postcode  sex  age  number_of_patients  \n",
       "0  DL1 3RT  ALL  ALL               11826  \n",
       "1  DL3 6HZ  ALL  ALL                8044  \n",
       "2  DL3 9JP  ALL  ALL               14070  \n",
       "3  DL1 4YL  ALL  ALL               11298  \n",
       "4  DL3 8SQ  ALL  ALL               10109  "
      ]
     },
     "execution_count": 820,
     "metadata": {},
     "output_type": "execute_result"
    }
   ],
   "source": [
    "#rename columns with lower case indexes.  rename code to practice_code\n",
    "registrations_df.columns = registrations_df.columns.str.lower()\n",
    "registrations_df.rename(columns={'code':'practice_code'},inplace = True)\n",
    "registrations_df.head()"
   ]
  },
  {
   "cell_type": "code",
   "execution_count": 524,
   "metadata": {
    "scrolled": true
   },
   "outputs": [
    {
     "data": {
      "text/plain": [
       "(7241, 10)"
      ]
     },
     "execution_count": 524,
     "metadata": {},
     "output_type": "execute_result"
    }
   ],
   "source": [
    "#count the number of rows\n",
    "registrations_df.shape"
   ]
  },
  {
   "cell_type": "markdown",
   "metadata": {},
   "source": [
    "There is information for number of patients on 7241 Practices in England."
   ]
  },
  {
   "cell_type": "markdown",
   "metadata": {},
   "source": [
    "#### 2. Practice Prescribing Data\n",
    "This is a very large file (1.4 GB) which contains information on all medicines, dressings and appliances prescribed by all practices in England and dispensed in the community in April 2018."
   ]
  },
  {
   "cell_type": "code",
   "execution_count": 502,
   "metadata": {},
   "outputs": [
    {
     "data": {
      "text/html": [
       "<div>\n",
       "<style scoped>\n",
       "    .dataframe tbody tr th:only-of-type {\n",
       "        vertical-align: middle;\n",
       "    }\n",
       "\n",
       "    .dataframe tbody tr th {\n",
       "        vertical-align: top;\n",
       "    }\n",
       "\n",
       "    .dataframe thead th {\n",
       "        text-align: right;\n",
       "    }\n",
       "</style>\n",
       "<table border=\"1\" class=\"dataframe\">\n",
       "  <thead>\n",
       "    <tr style=\"text-align: right;\">\n",
       "      <th></th>\n",
       "      <th>sha</th>\n",
       "      <th>pct</th>\n",
       "      <th>practice_code</th>\n",
       "      <th>bnf_code</th>\n",
       "      <th>bnf_name</th>\n",
       "      <th>items</th>\n",
       "      <th>nic</th>\n",
       "      <th>act_cost</th>\n",
       "      <th>quantity</th>\n",
       "      <th>period</th>\n",
       "    </tr>\n",
       "  </thead>\n",
       "  <tbody>\n",
       "    <tr>\n",
       "      <th>0</th>\n",
       "      <td>Q44</td>\n",
       "      <td>RTV</td>\n",
       "      <td>Y04937</td>\n",
       "      <td>0401010Z0AAAAAA</td>\n",
       "      <td>Zopiclone_Tab 7.5mg</td>\n",
       "      <td>6</td>\n",
       "      <td>1.56</td>\n",
       "      <td>2.12</td>\n",
       "      <td>63</td>\n",
       "      <td>201804</td>\n",
       "    </tr>\n",
       "    <tr>\n",
       "      <th>1</th>\n",
       "      <td>Q44</td>\n",
       "      <td>RTV</td>\n",
       "      <td>Y04937</td>\n",
       "      <td>0401020K0AAAHAH</td>\n",
       "      <td>Diazepam_Tab 2mg</td>\n",
       "      <td>4</td>\n",
       "      <td>0.87</td>\n",
       "      <td>1.15</td>\n",
       "      <td>73</td>\n",
       "      <td>201804</td>\n",
       "    </tr>\n",
       "    <tr>\n",
       "      <th>2</th>\n",
       "      <td>Q44</td>\n",
       "      <td>RTV</td>\n",
       "      <td>Y04937</td>\n",
       "      <td>0401020K0AAAIAI</td>\n",
       "      <td>Diazepam_Tab 5mg</td>\n",
       "      <td>2</td>\n",
       "      <td>0.46</td>\n",
       "      <td>0.56</td>\n",
       "      <td>35</td>\n",
       "      <td>201804</td>\n",
       "    </tr>\n",
       "    <tr>\n",
       "      <th>3</th>\n",
       "      <td>Q44</td>\n",
       "      <td>RTV</td>\n",
       "      <td>Y04937</td>\n",
       "      <td>0402010ABAAABAB</td>\n",
       "      <td>Quetiapine_Tab 25mg</td>\n",
       "      <td>1</td>\n",
       "      <td>2.60</td>\n",
       "      <td>2.52</td>\n",
       "      <td>14</td>\n",
       "      <td>201804</td>\n",
       "    </tr>\n",
       "    <tr>\n",
       "      <th>4</th>\n",
       "      <td>Q44</td>\n",
       "      <td>RTV</td>\n",
       "      <td>Y04937</td>\n",
       "      <td>0402010ADAAAAAA</td>\n",
       "      <td>Aripiprazole_Tab 10mg</td>\n",
       "      <td>1</td>\n",
       "      <td>1.53</td>\n",
       "      <td>1.53</td>\n",
       "      <td>14</td>\n",
       "      <td>201804</td>\n",
       "    </tr>\n",
       "  </tbody>\n",
       "</table>\n",
       "</div>"
      ],
      "text/plain": [
       "   sha  pct practice_code         bnf_code  \\\n",
       "0  Q44  RTV        Y04937  0401010Z0AAAAAA   \n",
       "1  Q44  RTV        Y04937  0401020K0AAAHAH   \n",
       "2  Q44  RTV        Y04937  0401020K0AAAIAI   \n",
       "3  Q44  RTV        Y04937  0402010ABAAABAB   \n",
       "4  Q44  RTV        Y04937  0402010ADAAAAAA   \n",
       "\n",
       "                                   bnf_name  items   nic  act_cost  quantity  \\\n",
       "0  Zopiclone_Tab 7.5mg                           6  1.56      2.12        63   \n",
       "1  Diazepam_Tab 2mg                              4  0.87      1.15        73   \n",
       "2  Diazepam_Tab 5mg                              2  0.46      0.56        35   \n",
       "3  Quetiapine_Tab 25mg                           1  2.60      2.52        14   \n",
       "4  Aripiprazole_Tab 10mg                         1  1.53      1.53        14   \n",
       "\n",
       "   period  \n",
       "0  201804  \n",
       "1  201804  \n",
       "2  201804  \n",
       "3  201804  \n",
       "4  201804  "
      ]
     },
     "execution_count": 502,
     "metadata": {},
     "output_type": "execute_result"
    }
   ],
   "source": [
    "#set file and column names to import NHS Digital GP Practice Prescribing dataset\n",
    "path = 'http://datagov.ic.nhs.uk/presentation/2018_04_April/'\n",
    "prescribing_file = 'T201804PDPI+BNFT.CSV'\n",
    "prescribing_cols = ['sha', 'pct', 'practice_code', 'bnf_code', 'bnf_name', 'items', 'nic', 'act_cost', 'quantity', 'period']\n",
    "\n",
    "#try importing local file, if not, download and import\n",
    "try:\n",
    "    prescribing_df = pd.read_csv(prescribing_file, names=prescribing_cols, skiprows=1, index_col= False)\n",
    "except FileNotFoundError:\n",
    "    prescribing_df = pd.read_csv(path + prescribing_file, names=prescribing_cols, skiprows=1, index_col= False)\n",
    "prescribing_df.head()"
   ]
  },
  {
   "cell_type": "markdown",
   "metadata": {},
   "source": [
    "A detailed glossary of terms can be found on the NHS website above.  Here I have given a summary of the data fields:\n",
    "- sha: code of the Strategic Health Authority in which the practice resides\n",
    "- pct: code of the Primary Care Trust in which the practice resides\n",
    "- practice code:  this is the GP practice code which can be used to linked to other data\n",
    "- bnf_code: BNF code for each drug (characters 1 and 2 show the BNF chapter,3 and 4 show the BNF section)\n",
    "- bnf_name:  individual preparation name, which may be proprietary or generic, followed by form and strength\n",
    "- items: the number of items for this presentation that were dispensed in April. ie number of prescriptions\n",
    "- nic: Net ingredient cost. This is the basic cost of a drug (list price excluding VAT)\n",
    "- act_cost: the actual cost charged back to practices from all dispensed prescriptions\n",
    "- quantity: The quantity of a drug dispensed for all prescriptions (measured in units depending on the formulation of the product: a number for tablets, capsules, ampoules, vials etc; millilitres for liquids; grams for solids (such as cream, gel, ointment))\n",
    "- period: This period is April 2018"
   ]
  },
  {
   "cell_type": "markdown",
   "metadata": {},
   "source": [
    "<p>The prescription processing activity is internally audited to 97.5% accuracy (meaning at least 97.5% of prescriptions are recorded accurately)</p>"
   ]
  },
  {
   "cell_type": "code",
   "execution_count": 821,
   "metadata": {},
   "outputs": [],
   "source": [
    "#Strip white space from data in all columns of type object (ie strings)\n",
    "for column in prescribing_df.columns:\n",
    "    if prescribing_df[column].dtype == 'object':\n",
    "        prescribing_df[column] = prescribing_df[column].str.strip()"
   ]
  },
  {
   "cell_type": "markdown",
   "metadata": {},
   "source": [
    "#### 3. Practice codes, names and addresses"
   ]
  },
  {
   "cell_type": "code",
   "execution_count": 504,
   "metadata": {
    "scrolled": true
   },
   "outputs": [
    {
     "data": {
      "text/html": [
       "<div>\n",
       "<style scoped>\n",
       "    .dataframe tbody tr th:only-of-type {\n",
       "        vertical-align: middle;\n",
       "    }\n",
       "\n",
       "    .dataframe tbody tr th {\n",
       "        vertical-align: top;\n",
       "    }\n",
       "\n",
       "    .dataframe thead th {\n",
       "        text-align: right;\n",
       "    }\n",
       "</style>\n",
       "<table border=\"1\" class=\"dataframe\">\n",
       "  <thead>\n",
       "    <tr style=\"text-align: right;\">\n",
       "      <th></th>\n",
       "      <th>time_period</th>\n",
       "      <th>practice_code</th>\n",
       "      <th>practice_name</th>\n",
       "      <th>practice_organization</th>\n",
       "      <th>street</th>\n",
       "      <th>city</th>\n",
       "      <th>area</th>\n",
       "      <th>postcode</th>\n",
       "    </tr>\n",
       "  </thead>\n",
       "  <tbody>\n",
       "    <tr>\n",
       "      <th>0</th>\n",
       "      <td>201804</td>\n",
       "      <td>A81001</td>\n",
       "      <td>THE DENSHAM SURGERY</td>\n",
       "      <td>THE HEALTH CENTRE</td>\n",
       "      <td>LAWSON STREET</td>\n",
       "      <td>STOCKTON-ON-TEES</td>\n",
       "      <td>CLEVELAND</td>\n",
       "      <td>TS18 1HU</td>\n",
       "    </tr>\n",
       "    <tr>\n",
       "      <th>1</th>\n",
       "      <td>201804</td>\n",
       "      <td>A81002</td>\n",
       "      <td>QUEENS PARK MEDICAL CENTRE</td>\n",
       "      <td>QUEENS PARK MEDICAL CTR</td>\n",
       "      <td>FARRER STREET</td>\n",
       "      <td>STOCKTON ON TEES</td>\n",
       "      <td>CLEVELAND</td>\n",
       "      <td>TS18 2AW</td>\n",
       "    </tr>\n",
       "    <tr>\n",
       "      <th>2</th>\n",
       "      <td>201804</td>\n",
       "      <td>A81004</td>\n",
       "      <td>BLUEBELL MEDICAL CENTRE</td>\n",
       "      <td>TRIMDON AVENUE</td>\n",
       "      <td>ACKLAM</td>\n",
       "      <td>MIDDLESBROUGH</td>\n",
       "      <td></td>\n",
       "      <td>TS5 8SB</td>\n",
       "    </tr>\n",
       "    <tr>\n",
       "      <th>3</th>\n",
       "      <td>201804</td>\n",
       "      <td>A81005</td>\n",
       "      <td>SPRINGWOOD SURGERY</td>\n",
       "      <td>SPRINGWOOD SURGERY</td>\n",
       "      <td>RECTORY LANE</td>\n",
       "      <td>GUISBOROUGH</td>\n",
       "      <td></td>\n",
       "      <td>TS14 7DJ</td>\n",
       "    </tr>\n",
       "    <tr>\n",
       "      <th>4</th>\n",
       "      <td>201804</td>\n",
       "      <td>A81006</td>\n",
       "      <td>TENNANT STREET MEDICAL PRACTICE</td>\n",
       "      <td>TENNANT ST MEDICAL PRACT</td>\n",
       "      <td>TENNANT STREET</td>\n",
       "      <td>STOCKTON-ON-TEES</td>\n",
       "      <td>CLEVELAND</td>\n",
       "      <td>TS18 2AT</td>\n",
       "    </tr>\n",
       "  </tbody>\n",
       "</table>\n",
       "</div>"
      ],
      "text/plain": [
       "   time_period practice_code                             practice_name  \\\n",
       "0       201804        A81001  THE DENSHAM SURGERY                        \n",
       "1       201804        A81002  QUEENS PARK MEDICAL CENTRE                 \n",
       "2       201804        A81004  BLUEBELL MEDICAL CENTRE                    \n",
       "3       201804        A81005  SPRINGWOOD SURGERY                         \n",
       "4       201804        A81006  TENNANT STREET MEDICAL PRACTICE            \n",
       "\n",
       "       practice_organization                     street  \\\n",
       "0  THE HEALTH CENTRE          LAWSON STREET               \n",
       "1  QUEENS PARK MEDICAL CTR    FARRER STREET               \n",
       "2  TRIMDON AVENUE             ACKLAM                      \n",
       "3  SPRINGWOOD SURGERY         RECTORY LANE                \n",
       "4  TENNANT ST MEDICAL PRACT   TENNANT STREET              \n",
       "\n",
       "                        city                       area  postcode  \n",
       "0  STOCKTON-ON-TEES           CLEVELAND                  TS18 1HU  \n",
       "1  STOCKTON ON TEES           CLEVELAND                  TS18 2AW  \n",
       "2  MIDDLESBROUGH                                         TS5 8SB   \n",
       "3  GUISBOROUGH                                           TS14 7DJ  \n",
       "4  STOCKTON-ON-TEES           CLEVELAND                  TS18 2AT  "
      ]
     },
     "execution_count": 504,
     "metadata": {},
     "output_type": "execute_result"
    }
   ],
   "source": [
    "#Import the NHS Digital 'GP Practice codes, names and addresses' dataset\n",
    "#set file name and column names to import\n",
    "practice_file = 'T201804ADDR+BNFT.CSV'\n",
    "practice_cols = ['time_period', 'practice_code', 'practice_name', 'practice_organization', 'street', 'city', \n",
    "    'area', 'postcode']\n",
    "\n",
    "#try importing local file, if not, download and import\n",
    "try:\n",
    "    practice_df = pd.read_csv(practice_file, header=None, names=practice_cols, index_col=False)\n",
    "except FileNotFoundError:\n",
    "    practice_df = pd.read_csv(url + practice_file, header=None, names=practice_cols, index_col=False)\n",
    "practice_df.head()"
   ]
  },
  {
   "cell_type": "markdown",
   "metadata": {},
   "source": [
    "This data set contains the name and address for each practice in England.  It links to the other data sets with the 'practice_code' field.\n",
    "There are some missing and misplaced values.  Where a practice does not supply a practice name the first line of the address is used. The file is arranged so the final column is usually the postcode even if this requires other parts of the address to be repeated or left blank to achieve this.  For example, the row at index 2: Bluebell Medical Centre has no area, and the street is recorded as 'Acklam' which is a town."
   ]
  },
  {
   "cell_type": "markdown",
   "metadata": {
    "scrolled": true
   },
   "source": [
    "Additionally, the strings in some columns are formatted with extra white space:"
   ]
  },
  {
   "cell_type": "code",
   "execution_count": 506,
   "metadata": {},
   "outputs": [
    {
     "data": {
      "text/plain": [
       "'HARTLEPOOL               '"
      ]
     },
     "execution_count": 506,
     "metadata": {},
     "output_type": "execute_result"
    }
   ],
   "source": [
    "#inspect a sample string\n",
    "practice_df['city'][50]"
   ]
  },
  {
   "cell_type": "markdown",
   "metadata": {},
   "source": [
    "This data set needs cleaning to remove the white space from these columns (I also did this with the prescribing_df):"
   ]
  },
  {
   "cell_type": "code",
   "execution_count": 520,
   "metadata": {
    "scrolled": true
   },
   "outputs": [
    {
     "data": {
      "text/html": [
       "<div>\n",
       "<style scoped>\n",
       "    .dataframe tbody tr th:only-of-type {\n",
       "        vertical-align: middle;\n",
       "    }\n",
       "\n",
       "    .dataframe tbody tr th {\n",
       "        vertical-align: top;\n",
       "    }\n",
       "\n",
       "    .dataframe thead th {\n",
       "        text-align: right;\n",
       "    }\n",
       "</style>\n",
       "<table border=\"1\" class=\"dataframe\">\n",
       "  <thead>\n",
       "    <tr style=\"text-align: right;\">\n",
       "      <th></th>\n",
       "      <th>time_period</th>\n",
       "      <th>practice_code</th>\n",
       "      <th>practice_name</th>\n",
       "      <th>practice_organization</th>\n",
       "      <th>street</th>\n",
       "      <th>city</th>\n",
       "      <th>area</th>\n",
       "      <th>postcode</th>\n",
       "    </tr>\n",
       "  </thead>\n",
       "  <tbody>\n",
       "    <tr>\n",
       "      <th>0</th>\n",
       "      <td>201804</td>\n",
       "      <td>A81001</td>\n",
       "      <td>The Densham Surgery</td>\n",
       "      <td>The Health Centre</td>\n",
       "      <td>Lawson Street</td>\n",
       "      <td>Stockton-On-Tees</td>\n",
       "      <td>Cleveland</td>\n",
       "      <td>TS18 1HU</td>\n",
       "    </tr>\n",
       "    <tr>\n",
       "      <th>1</th>\n",
       "      <td>201804</td>\n",
       "      <td>A81002</td>\n",
       "      <td>Queens Park Medical Centre</td>\n",
       "      <td>Queens Park Medical Ctr</td>\n",
       "      <td>Farrer Street</td>\n",
       "      <td>Stockton On Tees</td>\n",
       "      <td>Cleveland</td>\n",
       "      <td>TS18 2AW</td>\n",
       "    </tr>\n",
       "    <tr>\n",
       "      <th>2</th>\n",
       "      <td>201804</td>\n",
       "      <td>A81004</td>\n",
       "      <td>Bluebell Medical Centre</td>\n",
       "      <td>Trimdon Avenue</td>\n",
       "      <td>Acklam</td>\n",
       "      <td>Middlesbrough</td>\n",
       "      <td></td>\n",
       "      <td>TS5 8SB</td>\n",
       "    </tr>\n",
       "    <tr>\n",
       "      <th>3</th>\n",
       "      <td>201804</td>\n",
       "      <td>A81005</td>\n",
       "      <td>Springwood Surgery</td>\n",
       "      <td>Springwood Surgery</td>\n",
       "      <td>Rectory Lane</td>\n",
       "      <td>Guisborough</td>\n",
       "      <td></td>\n",
       "      <td>TS14 7DJ</td>\n",
       "    </tr>\n",
       "    <tr>\n",
       "      <th>4</th>\n",
       "      <td>201804</td>\n",
       "      <td>A81006</td>\n",
       "      <td>Tennant Street Medical Practice</td>\n",
       "      <td>Tennant St Medical Pract</td>\n",
       "      <td>Tennant Street</td>\n",
       "      <td>Stockton-On-Tees</td>\n",
       "      <td>Cleveland</td>\n",
       "      <td>TS18 2AT</td>\n",
       "    </tr>\n",
       "  </tbody>\n",
       "</table>\n",
       "</div>"
      ],
      "text/plain": [
       "   time_period practice_code                    practice_name  \\\n",
       "0       201804        A81001              The Densham Surgery   \n",
       "1       201804        A81002       Queens Park Medical Centre   \n",
       "2       201804        A81004          Bluebell Medical Centre   \n",
       "3       201804        A81005               Springwood Surgery   \n",
       "4       201804        A81006  Tennant Street Medical Practice   \n",
       "\n",
       "      practice_organization          street              city       area  \\\n",
       "0         The Health Centre   Lawson Street  Stockton-On-Tees  Cleveland   \n",
       "1   Queens Park Medical Ctr   Farrer Street  Stockton On Tees  Cleveland   \n",
       "2            Trimdon Avenue          Acklam     Middlesbrough              \n",
       "3        Springwood Surgery    Rectory Lane       Guisborough              \n",
       "4  Tennant St Medical Pract  Tennant Street  Stockton-On-Tees  Cleveland   \n",
       "\n",
       "   postcode  \n",
       "0  TS18 1HU  \n",
       "1  TS18 2AW  \n",
       "2   TS5 8SB  \n",
       "3  TS14 7DJ  \n",
       "4  TS18 2AT  "
      ]
     },
     "execution_count": 520,
     "metadata": {},
     "output_type": "execute_result"
    }
   ],
   "source": [
    "#Strip white space from data in all columns of type object (ie strings), standardize case\n",
    "for column in practice_df.columns:\n",
    "    if practice_df[column].dtype == 'object':\n",
    "        practice_df[column] = practice_df[column].str.strip()\n",
    "        if practice_df[column].name == 'postcode':\n",
    "            practice_df[column] = practice_df[column].str.upper()\n",
    "        else:\n",
    "            practice_df[column] = practice_df[column].str.title()\n",
    "practice_df.head()"
   ]
  },
  {
   "cell_type": "code",
   "execution_count": 529,
   "metadata": {
    "scrolled": true
   },
   "outputs": [
    {
     "data": {
      "text/plain": [
       "(9578, 8)"
      ]
     },
     "execution_count": 529,
     "metadata": {},
     "output_type": "execute_result"
    }
   ],
   "source": [
    "practice_df.shape"
   ]
  },
  {
   "cell_type": "markdown",
   "metadata": {},
   "source": [
    "There are over 2000 more practices in the address dataset than there are practices in the registration dataset. I have looked up the practices with missing demographic information. Some of these are not GP practices, they are emergency care centres.  Other practicess, for example <a href='http://www.linthorpesurgery.com/'>\"Oakfield Medical Practice'</a> have multiple sites, so they have several practice codes, but patients are only registered to one practice.  Although I can't check all 2000 practices individually, this exploration reassures me that the registration information is correct and I do not need to worry about this 'missing' information."
   ]
  },
  {
   "cell_type": "code",
   "execution_count": 555,
   "metadata": {
    "scrolled": false
   },
   "outputs": [
    {
     "data": {
      "text/html": [
       "<div>\n",
       "<style scoped>\n",
       "    .dataframe tbody tr th:only-of-type {\n",
       "        vertical-align: middle;\n",
       "    }\n",
       "\n",
       "    .dataframe tbody tr th {\n",
       "        vertical-align: top;\n",
       "    }\n",
       "\n",
       "    .dataframe thead th {\n",
       "        text-align: right;\n",
       "    }\n",
       "</style>\n",
       "<table border=\"1\" class=\"dataframe\">\n",
       "  <thead>\n",
       "    <tr style=\"text-align: right;\">\n",
       "      <th></th>\n",
       "      <th>time_period</th>\n",
       "      <th>practice_code</th>\n",
       "      <th>practice_name</th>\n",
       "      <th>practice_organization</th>\n",
       "      <th>street</th>\n",
       "      <th>city</th>\n",
       "      <th>area</th>\n",
       "      <th>postcode</th>\n",
       "    </tr>\n",
       "  </thead>\n",
       "  <tbody>\n",
       "    <tr>\n",
       "      <th>27</th>\n",
       "      <td>201804</td>\n",
       "      <td>A81033</td>\n",
       "      <td>Oakfield Medical Practice</td>\n",
       "      <td>378 Linthorpe Road</td>\n",
       "      <td></td>\n",
       "      <td>Middlesbrough</td>\n",
       "      <td>Cleveland</td>\n",
       "      <td>TS5 6HA</td>\n",
       "    </tr>\n",
       "    <tr>\n",
       "      <th>354</th>\n",
       "      <td>201804</td>\n",
       "      <td>A89014</td>\n",
       "      <td>Drs Gellia &amp; Balaraman</td>\n",
       "      <td>Monkwearmouth Hth Ctr</td>\n",
       "      <td>Dundas Street</td>\n",
       "      <td>Sunderland</td>\n",
       "      <td>Tyne &amp; Wear</td>\n",
       "      <td>SR6 0AB</td>\n",
       "    </tr>\n",
       "    <tr>\n",
       "      <th>369</th>\n",
       "      <td>201804</td>\n",
       "      <td>A89029</td>\n",
       "      <td>Springwell House</td>\n",
       "      <td>3 Swiss Cottages</td>\n",
       "      <td>Vigo Lane</td>\n",
       "      <td>Washington</td>\n",
       "      <td>Tyne &amp; Wear</td>\n",
       "      <td>NE38 9AB</td>\n",
       "    </tr>\n",
       "    <tr>\n",
       "      <th>625</th>\n",
       "      <td>201804</td>\n",
       "      <td>B83069</td>\n",
       "      <td>Picton At Whetley Medical Centre</td>\n",
       "      <td>Whetley Medical Centre</td>\n",
       "      <td>2 Saplin Street</td>\n",
       "      <td>Bradford</td>\n",
       "      <td>West Yorkshire</td>\n",
       "      <td>BD8 9DW</td>\n",
       "    </tr>\n",
       "    <tr>\n",
       "      <th>626</th>\n",
       "      <td>201804</td>\n",
       "      <td>B83070</td>\n",
       "      <td>Mughal Medical Centre</td>\n",
       "      <td>Kensington Street Hth.Ctr</td>\n",
       "      <td>Whitefield Place</td>\n",
       "      <td>Bradford</td>\n",
       "      <td>West Yorkshire</td>\n",
       "      <td>BD8 9LB</td>\n",
       "    </tr>\n",
       "  </tbody>\n",
       "</table>\n",
       "</div>"
      ],
      "text/plain": [
       "     time_period practice_code                     practice_name  \\\n",
       "27        201804        A81033         Oakfield Medical Practice   \n",
       "354       201804        A89014            Drs Gellia & Balaraman   \n",
       "369       201804        A89029                  Springwell House   \n",
       "625       201804        B83069  Picton At Whetley Medical Centre   \n",
       "626       201804        B83070             Mughal Medical Centre   \n",
       "\n",
       "         practice_organization            street           city  \\\n",
       "27          378 Linthorpe Road                    Middlesbrough   \n",
       "354      Monkwearmouth Hth Ctr     Dundas Street     Sunderland   \n",
       "369           3 Swiss Cottages         Vigo Lane     Washington   \n",
       "625     Whetley Medical Centre   2 Saplin Street       Bradford   \n",
       "626  Kensington Street Hth.Ctr  Whitefield Place       Bradford   \n",
       "\n",
       "               area  postcode  \n",
       "27        Cleveland   TS5 6HA  \n",
       "354     Tyne & Wear   SR6 0AB  \n",
       "369     Tyne & Wear  NE38 9AB  \n",
       "625  West Yorkshire   BD8 9DW  \n",
       "626  West Yorkshire   BD8 9LB  "
      ]
     },
     "execution_count": 555,
     "metadata": {},
     "output_type": "execute_result"
    }
   ],
   "source": [
    "#Find practices which have an address but no patient registration information\n",
    "missing_practices = practice_df[~(practice_df['practice_code'].isin(registrations_df['practice_code']))]\n",
    "missing_practices.head()"
   ]
  },
  {
   "cell_type": "code",
   "execution_count": 556,
   "metadata": {
    "scrolled": true
   },
   "outputs": [
    {
     "data": {
      "text/html": [
       "<div>\n",
       "<style scoped>\n",
       "    .dataframe tbody tr th:only-of-type {\n",
       "        vertical-align: middle;\n",
       "    }\n",
       "\n",
       "    .dataframe tbody tr th {\n",
       "        vertical-align: top;\n",
       "    }\n",
       "\n",
       "    .dataframe thead th {\n",
       "        text-align: right;\n",
       "    }\n",
       "</style>\n",
       "<table border=\"1\" class=\"dataframe\">\n",
       "  <thead>\n",
       "    <tr style=\"text-align: right;\">\n",
       "      <th></th>\n",
       "      <th>publication</th>\n",
       "      <th>extract_date</th>\n",
       "      <th>type</th>\n",
       "      <th>ccg_code</th>\n",
       "      <th>ons_ccg_code</th>\n",
       "      <th>practice_code</th>\n",
       "      <th>postcode</th>\n",
       "      <th>sex</th>\n",
       "      <th>age</th>\n",
       "      <th>number_of_patients</th>\n",
       "    </tr>\n",
       "  </thead>\n",
       "  <tbody>\n",
       "    <tr>\n",
       "      <th>169</th>\n",
       "      <td>GP_PRAC_PAT_LIST</td>\n",
       "      <td>01APR2018</td>\n",
       "      <td>GP</td>\n",
       "      <td>00M</td>\n",
       "      <td>E38000162</td>\n",
       "      <td>A81026</td>\n",
       "      <td>TS5 6HA</td>\n",
       "      <td>ALL</td>\n",
       "      <td>ALL</td>\n",
       "      <td>18438</td>\n",
       "    </tr>\n",
       "  </tbody>\n",
       "</table>\n",
       "</div>"
      ],
      "text/plain": [
       "          publication extract_date type ccg_code ons_ccg_code practice_code  \\\n",
       "169  GP_PRAC_PAT_LIST    01APR2018   GP      00M    E38000162        A81026   \n",
       "\n",
       "    postcode  sex  age  number_of_patients  \n",
       "169  TS5 6HA  ALL  ALL               18438  "
      ]
     },
     "execution_count": 556,
     "metadata": {},
     "output_type": "execute_result"
    }
   ],
   "source": [
    "# Explore to see if other practices have patients registered at the same address as Oakfield Medical Practice\n",
    "registrations_df[registrations_df['postcode']=='TS5 6HA']"
   ]
  },
  {
   "cell_type": "code",
   "execution_count": 557,
   "metadata": {},
   "outputs": [
    {
     "data": {
      "text/html": [
       "<div>\n",
       "<style scoped>\n",
       "    .dataframe tbody tr th:only-of-type {\n",
       "        vertical-align: middle;\n",
       "    }\n",
       "\n",
       "    .dataframe tbody tr th {\n",
       "        vertical-align: top;\n",
       "    }\n",
       "\n",
       "    .dataframe thead th {\n",
       "        text-align: right;\n",
       "    }\n",
       "</style>\n",
       "<table border=\"1\" class=\"dataframe\">\n",
       "  <thead>\n",
       "    <tr style=\"text-align: right;\">\n",
       "      <th></th>\n",
       "      <th>time_period</th>\n",
       "      <th>practice_code</th>\n",
       "      <th>practice_name</th>\n",
       "      <th>practice_organization</th>\n",
       "      <th>street</th>\n",
       "      <th>city</th>\n",
       "      <th>area</th>\n",
       "      <th>postcode</th>\n",
       "    </tr>\n",
       "  </thead>\n",
       "  <tbody>\n",
       "    <tr>\n",
       "      <th>21</th>\n",
       "      <td>201804</td>\n",
       "      <td>A81026</td>\n",
       "      <td>The Linthorpe Surgery</td>\n",
       "      <td>378 Linthorpe Road</td>\n",
       "      <td></td>\n",
       "      <td>Middlesbrough</td>\n",
       "      <td>Cleveland</td>\n",
       "      <td>TS5 6HA</td>\n",
       "    </tr>\n",
       "  </tbody>\n",
       "</table>\n",
       "</div>"
      ],
      "text/plain": [
       "    time_period practice_code          practice_name practice_organization  \\\n",
       "21       201804        A81026  The Linthorpe Surgery    378 Linthorpe Road   \n",
       "\n",
       "   street           city       area postcode  \n",
       "21         Middlesbrough  Cleveland  TS5 6HA  "
      ]
     },
     "execution_count": 557,
     "metadata": {},
     "output_type": "execute_result"
    }
   ],
   "source": [
    "#Find addres information on the practice found at the same address\n",
    "practice_df[practice_df['practice_code']=='A81026']"
   ]
  },
  {
   "cell_type": "markdown",
   "metadata": {},
   "source": [
    "### Question 1\n",
    "\n",
    "To identify all GP practices located in London, I will use the Practice Code, Name and Address dataset.  Since I know that there is some variation in this dataset from earlier exploration, I will search for London recorded in 'city', 'area' and 'street'."
   ]
  },
  {
   "cell_type": "code",
   "execution_count": 570,
   "metadata": {},
   "outputs": [
    {
     "data": {
      "text/plain": [
       "(930, 8)"
      ]
     },
     "execution_count": 570,
     "metadata": {},
     "output_type": "execute_result"
    }
   ],
   "source": [
    "#Create a subset of the practice_df for london practices\n",
    "london_practice_df = practice_df[(practice_df['city']==\"London\")|(practice_df['area']==\"London\")|(practice_df['street']==\"London\")]\n",
    "london_practice_df.shape"
   ]
  },
  {
   "cell_type": "code",
   "execution_count": 571,
   "metadata": {},
   "outputs": [
    {
     "data": {
      "text/plain": [
       "(747, 10)"
      ]
     },
     "execution_count": 571,
     "metadata": {},
     "output_type": "execute_result"
    }
   ],
   "source": [
    "#Create a subset of the registrations_df where practice_code is in london\n",
    "london_registrations_df = registrations_df[registrations_df['practice_code'].isin(london_practice_df['practice_code'])]\n",
    "london_registrations_df.shape"
   ]
  },
  {
   "cell_type": "code",
   "execution_count": 572,
   "metadata": {},
   "outputs": [
    {
     "data": {
      "text/plain": [
       "5841956"
      ]
     },
     "execution_count": 572,
     "metadata": {},
     "output_type": "execute_result"
    }
   ],
   "source": [
    "#Calculate total number of patients registered in London\n",
    "num_london_registrations = london_registrations_df['number_of_patients'].sum()\n",
    "num_london_registrations"
   ]
  },
  {
   "cell_type": "markdown",
   "metadata": {},
   "source": [
    "I have identified 930 practices in London, of which 747 have patients registered.  There are 5,841,956 patients registered in total.  Next I will look at the number of prescriptions in london:"
   ]
  },
  {
   "cell_type": "code",
   "execution_count": 585,
   "metadata": {
    "scrolled": true
   },
   "outputs": [
    {
     "data": {
      "text/html": [
       "<div>\n",
       "<style scoped>\n",
       "    .dataframe tbody tr th:only-of-type {\n",
       "        vertical-align: middle;\n",
       "    }\n",
       "\n",
       "    .dataframe tbody tr th {\n",
       "        vertical-align: top;\n",
       "    }\n",
       "\n",
       "    .dataframe thead th {\n",
       "        text-align: right;\n",
       "    }\n",
       "</style>\n",
       "<table border=\"1\" class=\"dataframe\">\n",
       "  <thead>\n",
       "    <tr style=\"text-align: right;\">\n",
       "      <th></th>\n",
       "      <th>sha</th>\n",
       "      <th>pct</th>\n",
       "      <th>practice_code</th>\n",
       "      <th>bnf_code</th>\n",
       "      <th>bnf_name</th>\n",
       "      <th>items</th>\n",
       "      <th>nic</th>\n",
       "      <th>act_cost</th>\n",
       "      <th>quantity</th>\n",
       "      <th>period</th>\n",
       "    </tr>\n",
       "  </thead>\n",
       "  <tbody>\n",
       "    <tr>\n",
       "      <th>5336654</th>\n",
       "      <td>Q58</td>\n",
       "      <td>06N</td>\n",
       "      <td>Y04681</td>\n",
       "      <td>0101021B0BEADAJ</td>\n",
       "      <td>Gaviscon Infant_Sach 2g (Dual Pack) S/F</td>\n",
       "      <td>1</td>\n",
       "      <td>4.82</td>\n",
       "      <td>4.48</td>\n",
       "      <td>15</td>\n",
       "      <td>201804</td>\n",
       "    </tr>\n",
       "    <tr>\n",
       "      <th>5336655</th>\n",
       "      <td>Q58</td>\n",
       "      <td>06N</td>\n",
       "      <td>Y04681</td>\n",
       "      <td>0106040M0BBAAAA</td>\n",
       "      <td>Movicol_Pdr Sach 13.8g (Lem &amp; Lim)</td>\n",
       "      <td>1</td>\n",
       "      <td>5.41</td>\n",
       "      <td>5.13</td>\n",
       "      <td>20</td>\n",
       "      <td>201804</td>\n",
       "    </tr>\n",
       "    <tr>\n",
       "      <th>5336656</th>\n",
       "      <td>Q58</td>\n",
       "      <td>06N</td>\n",
       "      <td>Y04681</td>\n",
       "      <td>0106040M0BBAJAB</td>\n",
       "      <td>Movicol_Paed Pdr Sach 6.9g (Choc)</td>\n",
       "      <td>1</td>\n",
       "      <td>4.38</td>\n",
       "      <td>4.07</td>\n",
       "      <td>30</td>\n",
       "      <td>201804</td>\n",
       "    </tr>\n",
       "    <tr>\n",
       "      <th>5336657</th>\n",
       "      <td>Q58</td>\n",
       "      <td>06N</td>\n",
       "      <td>Y04681</td>\n",
       "      <td>0106040N0AAABAB</td>\n",
       "      <td>Phos Enem_(For B) 128ml Stnd Tube</td>\n",
       "      <td>1</td>\n",
       "      <td>39.80</td>\n",
       "      <td>36.92</td>\n",
       "      <td>10</td>\n",
       "      <td>201804</td>\n",
       "    </tr>\n",
       "    <tr>\n",
       "      <th>5336658</th>\n",
       "      <td>Q58</td>\n",
       "      <td>06N</td>\n",
       "      <td>Y04681</td>\n",
       "      <td>0106040R0BBAAAF</td>\n",
       "      <td>Micralax_Micro-Enem 5ml</td>\n",
       "      <td>1</td>\n",
       "      <td>4.06</td>\n",
       "      <td>3.88</td>\n",
       "      <td>10</td>\n",
       "      <td>201804</td>\n",
       "    </tr>\n",
       "  </tbody>\n",
       "</table>\n",
       "</div>"
      ],
      "text/plain": [
       "         sha  pct practice_code         bnf_code  \\\n",
       "5336654  Q58  06N        Y04681  0101021B0BEADAJ   \n",
       "5336655  Q58  06N        Y04681  0106040M0BBAAAA   \n",
       "5336656  Q58  06N        Y04681  0106040M0BBAJAB   \n",
       "5336657  Q58  06N        Y04681  0106040N0AAABAB   \n",
       "5336658  Q58  06N        Y04681  0106040R0BBAAAF   \n",
       "\n",
       "                                         bnf_name  items    nic  act_cost  \\\n",
       "5336654  Gaviscon Infant_Sach 2g (Dual Pack) S/F       1   4.82      4.48   \n",
       "5336655  Movicol_Pdr Sach 13.8g (Lem & Lim)            1   5.41      5.13   \n",
       "5336656  Movicol_Paed Pdr Sach 6.9g (Choc)             1   4.38      4.07   \n",
       "5336657  Phos Enem_(For B) 128ml Stnd Tube             1  39.80     36.92   \n",
       "5336658  Micralax_Micro-Enem 5ml                       1   4.06      3.88   \n",
       "\n",
       "         quantity  period  \n",
       "5336654        15  201804  \n",
       "5336655        20  201804  \n",
       "5336656        30  201804  \n",
       "5336657        10  201804  \n",
       "5336658        10  201804  "
      ]
     },
     "execution_count": 585,
     "metadata": {},
     "output_type": "execute_result"
    }
   ],
   "source": [
    "# Create a subset of the prescribing_df for london practices\n",
    "london_prescribing_df = prescribing_df[prescribing_df['practice_code'].isin(london_practice_df['practice_code'])]\n",
    "london_prescribing_df.head()"
   ]
  },
  {
   "cell_type": "code",
   "execution_count": 576,
   "metadata": {},
   "outputs": [
    {
     "data": {
      "text/plain": [
       "5881715"
      ]
     },
     "execution_count": 576,
     "metadata": {},
     "output_type": "execute_result"
    }
   ],
   "source": [
    "#Add up all the prescriptions (ie. items)\n",
    "num_london_prescriptions = london_prescribing_df['items'].sum()\n",
    "num_london_prescriptions"
   ]
  },
  {
   "cell_type": "code",
   "execution_count": 579,
   "metadata": {},
   "outputs": [
    {
     "data": {
      "text/plain": [
       "43326121.52"
      ]
     },
     "execution_count": 579,
     "metadata": {},
     "output_type": "execute_result"
    }
   ],
   "source": [
    "#Add up the actual cost of all these prescriptions\n",
    "act_cost_london = london_prescribing_df['act_cost'].sum()\n",
    "act_cost_london"
   ]
  },
  {
   "cell_type": "markdown",
   "metadata": {},
   "source": [
    "5,881,715 prescriptions have been dispesed in London in April 2018, with an actual cost of £43,326,121.52"
   ]
  },
  {
   "cell_type": "markdown",
   "metadata": {},
   "source": [
    "I will now calculate the most frequently prescribed medicines across all London practices.  I have chosen to group by 'bnf_name' as some drugs appear in multiple sections of the BNF."
   ]
  },
  {
   "cell_type": "code",
   "execution_count": 815,
   "metadata": {
    "scrolled": true
   },
   "outputs": [
    {
     "data": {
      "text/html": [
       "<div>\n",
       "<style scoped>\n",
       "    .dataframe tbody tr th:only-of-type {\n",
       "        vertical-align: middle;\n",
       "    }\n",
       "\n",
       "    .dataframe tbody tr th {\n",
       "        vertical-align: top;\n",
       "    }\n",
       "\n",
       "    .dataframe thead th {\n",
       "        text-align: right;\n",
       "    }\n",
       "</style>\n",
       "<table border=\"1\" class=\"dataframe\">\n",
       "  <thead>\n",
       "    <tr style=\"text-align: right;\">\n",
       "      <th></th>\n",
       "      <th>bnf_name</th>\n",
       "      <th>items</th>\n",
       "      <th>act_cost</th>\n",
       "    </tr>\n",
       "  </thead>\n",
       "  <tbody>\n",
       "    <tr>\n",
       "      <th>8329</th>\n",
       "      <td>Omeprazole_Cap E/C 20mg</td>\n",
       "      <td>123312</td>\n",
       "      <td>98763.40</td>\n",
       "    </tr>\n",
       "    <tr>\n",
       "      <th>7411</th>\n",
       "      <td>Metformin HCl_Tab 500mg</td>\n",
       "      <td>121065</td>\n",
       "      <td>353103.89</td>\n",
       "    </tr>\n",
       "    <tr>\n",
       "      <th>654</th>\n",
       "      <td>Amlodipine_Tab 5mg</td>\n",
       "      <td>103369</td>\n",
       "      <td>181903.01</td>\n",
       "    </tr>\n",
       "    <tr>\n",
       "      <th>922</th>\n",
       "      <td>Atorvastatin_Tab 20mg</td>\n",
       "      <td>100067</td>\n",
       "      <td>90920.31</td>\n",
       "    </tr>\n",
       "    <tr>\n",
       "      <th>653</th>\n",
       "      <td>Amlodipine_Tab 10mg</td>\n",
       "      <td>95714</td>\n",
       "      <td>178897.43</td>\n",
       "    </tr>\n",
       "    <tr>\n",
       "      <th>924</th>\n",
       "      <td>Atorvastatin_Tab 40mg</td>\n",
       "      <td>91246</td>\n",
       "      <td>92597.56</td>\n",
       "    </tr>\n",
       "    <tr>\n",
       "      <th>6493</th>\n",
       "      <td>Lansoprazole_Cap 30mg (E/C Gran)</td>\n",
       "      <td>88291</td>\n",
       "      <td>80041.80</td>\n",
       "    </tr>\n",
       "    <tr>\n",
       "      <th>895</th>\n",
       "      <td>Aspirin Disper_Tab 75mg</td>\n",
       "      <td>87996</td>\n",
       "      <td>31884.08</td>\n",
       "    </tr>\n",
       "    <tr>\n",
       "      <th>9901</th>\n",
       "      <td>Salbutamol_Inha 100mcg (200 D) CFF</td>\n",
       "      <td>80887</td>\n",
       "      <td>161999.55</td>\n",
       "    </tr>\n",
       "    <tr>\n",
       "      <th>8711</th>\n",
       "      <td>Paracet_Tab 500mg</td>\n",
       "      <td>74463</td>\n",
       "      <td>72891.70</td>\n",
       "    </tr>\n",
       "  </tbody>\n",
       "</table>\n",
       "</div>"
      ],
      "text/plain": [
       "                                      bnf_name   items   act_cost\n",
       "8329  Omeprazole_Cap E/C 20mg                   123312   98763.40\n",
       "7411  Metformin HCl_Tab 500mg                   121065  353103.89\n",
       "654   Amlodipine_Tab 5mg                        103369  181903.01\n",
       "922   Atorvastatin_Tab 20mg                     100067   90920.31\n",
       "653   Amlodipine_Tab 10mg                        95714  178897.43\n",
       "924   Atorvastatin_Tab 40mg                      91246   92597.56\n",
       "6493  Lansoprazole_Cap 30mg (E/C Gran)           88291   80041.80\n",
       "895   Aspirin Disper_Tab 75mg                    87996   31884.08\n",
       "9901  Salbutamol_Inha 100mcg (200 D) CFF         80887  161999.55\n",
       "8711  Paracet_Tab 500mg                          74463   72891.70"
      ]
     },
     "execution_count": 815,
     "metadata": {},
     "output_type": "execute_result"
    }
   ],
   "source": [
    "# Create a dataframe just with columns of interest\n",
    "london_totals = london_prescribing_df[['bnf_name','items','act_cost']]\n",
    "\n",
    "# Calculate total items\n",
    "london_totals = london_totals.groupby(['bnf_name']).sum().reset_index()\n",
    "\n",
    "#sort by total items\n",
    "london_totals = london_totals.sort_values(by='items',ascending=False)\n",
    "london_totals.head(10)"
   ]
  },
  {
   "cell_type": "code",
   "execution_count": 619,
   "metadata": {},
   "outputs": [
    {
     "data": {
      "text/html": [
       "<div>\n",
       "<style scoped>\n",
       "    .dataframe tbody tr th:only-of-type {\n",
       "        vertical-align: middle;\n",
       "    }\n",
       "\n",
       "    .dataframe tbody tr th {\n",
       "        vertical-align: top;\n",
       "    }\n",
       "\n",
       "    .dataframe thead th {\n",
       "        text-align: right;\n",
       "    }\n",
       "</style>\n",
       "<table border=\"1\" class=\"dataframe\">\n",
       "  <thead>\n",
       "    <tr style=\"text-align: right;\">\n",
       "      <th></th>\n",
       "      <th>bnf_name</th>\n",
       "      <th>items</th>\n",
       "      <th>act_cost</th>\n",
       "    </tr>\n",
       "  </thead>\n",
       "  <tbody>\n",
       "    <tr>\n",
       "      <th>6668</th>\n",
       "      <td>Liq-10_Oral Syrup 50mg/5ml</td>\n",
       "      <td>1</td>\n",
       "      <td>853.21</td>\n",
       "    </tr>\n",
       "    <tr>\n",
       "      <th>6682</th>\n",
       "      <td>Lisinopril_Liq Spec 2.5mg/5ml</td>\n",
       "      <td>1</td>\n",
       "      <td>343.15</td>\n",
       "    </tr>\n",
       "    <tr>\n",
       "      <th>6683</th>\n",
       "      <td>Lisinopril_Oral Soln 20mg/5ml</td>\n",
       "      <td>1</td>\n",
       "      <td>164.05</td>\n",
       "    </tr>\n",
       "    <tr>\n",
       "      <th>6685</th>\n",
       "      <td>Lisinopril_Oral Susp 20mg/5ml</td>\n",
       "      <td>1</td>\n",
       "      <td>88.96</td>\n",
       "    </tr>\n",
       "    <tr>\n",
       "      <th>6695</th>\n",
       "      <td>Lithium Cit_Oral Soln 1.018g/5ml</td>\n",
       "      <td>1</td>\n",
       "      <td>10.75</td>\n",
       "    </tr>\n",
       "    <tr>\n",
       "      <th>6698</th>\n",
       "      <td>LittleVit_Multivit Dps</td>\n",
       "      <td>1</td>\n",
       "      <td>2.53</td>\n",
       "    </tr>\n",
       "    <tr>\n",
       "      <th>6700</th>\n",
       "      <td>Livwell_G/F W/F Flat Bread</td>\n",
       "      <td>1</td>\n",
       "      <td>5.58</td>\n",
       "    </tr>\n",
       "    <tr>\n",
       "      <th>6701</th>\n",
       "      <td>Livwell_G/F W/F M/Grain Bread (Cut)</td>\n",
       "      <td>1</td>\n",
       "      <td>16.71</td>\n",
       "    </tr>\n",
       "    <tr>\n",
       "      <th>6707</th>\n",
       "      <td>Lloyds_Multivit Tab</td>\n",
       "      <td>1</td>\n",
       "      <td>0.33</td>\n",
       "    </tr>\n",
       "    <tr>\n",
       "      <th>12268</th>\n",
       "      <td>varicase Class 2 Thigh Open Toe Slc Band</td>\n",
       "      <td>1</td>\n",
       "      <td>24.63</td>\n",
       "    </tr>\n",
       "  </tbody>\n",
       "</table>\n",
       "</div>"
      ],
      "text/plain": [
       "                                       bnf_name  items  act_cost\n",
       "6668   Liq-10_Oral Syrup 50mg/5ml                    1    853.21\n",
       "6682   Lisinopril_Liq Spec 2.5mg/5ml                 1    343.15\n",
       "6683   Lisinopril_Oral Soln 20mg/5ml                 1    164.05\n",
       "6685   Lisinopril_Oral Susp 20mg/5ml                 1     88.96\n",
       "6695   Lithium Cit_Oral Soln 1.018g/5ml              1     10.75\n",
       "6698   LittleVit_Multivit Dps                        1      2.53\n",
       "6700   Livwell_G/F W/F Flat Bread                    1      5.58\n",
       "6701   Livwell_G/F W/F M/Grain Bread (Cut)           1     16.71\n",
       "6707   Lloyds_Multivit Tab                           1      0.33\n",
       "12268  varicase Class 2 Thigh Open Toe Slc Band      1     24.63"
      ]
     },
     "execution_count": 619,
     "metadata": {},
     "output_type": "execute_result"
    }
   ],
   "source": [
    "london_totals.tail(10)"
   ]
  },
  {
   "cell_type": "code",
   "execution_count": 616,
   "metadata": {
    "scrolled": true
   },
   "outputs": [
    {
     "data": {
      "text/plain": [
       "(2098, 3)"
      ]
     },
     "execution_count": 616,
     "metadata": {},
     "output_type": "execute_result"
    }
   ],
   "source": [
    "london_totals[london_totals['items']==1].shape"
   ]
  },
  {
   "cell_type": "markdown",
   "metadata": {},
   "source": [
    "The most commonly prescribed medicines are Omeprazole 20mg, Metformin 500mg, Amlodipine 5mg , Atorvastatin 20mg, Amlodipine 10mg, Atorvastatin 40mg, Lansoprazole 30mg,\tAspirin 75mg, Salbutamol 100mcg Paracetamol 500mg.  This seems true to my clinical experience, and reflects the most common medical conditions.  "
   ]
  },
  {
   "cell_type": "markdown",
   "metadata": {},
   "source": [
    "Although I have printed off a list of 10 unfrequently prescribed medicines, there are almost 3000 with only 1 prescription across London in April.  Therefore it would not be meaningful to list ten at random."
   ]
  },
  {
   "cell_type": "markdown",
   "metadata": {},
   "source": [
    "### Question 2\n",
    "I will now repeat the above analysis for the city of Cambridge."
   ]
  },
  {
   "cell_type": "code",
   "execution_count": 633,
   "metadata": {},
   "outputs": [],
   "source": [
    "#Create a subset of the practice_df for Cambridge practices\n",
    "camb_practice_df = practice_df[(practice_df['city']==\"Cambridge\")|(practice_df['area']==\"Cambridge\")|\\\n",
    "                               (practice_df['street']==\"Cambridge\")]"
   ]
  },
  {
   "cell_type": "code",
   "execution_count": 621,
   "metadata": {},
   "outputs": [
    {
     "data": {
      "text/plain": [
       "(31, 10)"
      ]
     },
     "execution_count": 621,
     "metadata": {},
     "output_type": "execute_result"
    }
   ],
   "source": [
    "#Create a subset of the registrations_df where practice_code is in Cambridge\n",
    "camb_registrations_df = registrations_df[registrations_df['practice_code'].isin(camb_practice_df['practice_code'])]\n",
    "camb_registrations_df.shape"
   ]
  },
  {
   "cell_type": "code",
   "execution_count": 622,
   "metadata": {},
   "outputs": [
    {
     "data": {
      "text/plain": [
       "311579"
      ]
     },
     "execution_count": 622,
     "metadata": {},
     "output_type": "execute_result"
    }
   ],
   "source": [
    "#Calculate total number of patients registered in Cambridge\n",
    "num_camb_registrations = camb_registrations_df['number_of_patients'].sum()\n",
    "num_camb_registrations"
   ]
  },
  {
   "cell_type": "code",
   "execution_count": 624,
   "metadata": {
    "scrolled": true
   },
   "outputs": [],
   "source": [
    "# Create a subset of the prescribing_df for Cambridge practices\n",
    "camb_prescribing_df = prescribing_df[prescribing_df['practice_code'].isin(camb_practice_df['practice_code'])]"
   ]
  },
  {
   "cell_type": "code",
   "execution_count": 625,
   "metadata": {},
   "outputs": [
    {
     "data": {
      "text/plain": [
       "345532"
      ]
     },
     "execution_count": 625,
     "metadata": {},
     "output_type": "execute_result"
    }
   ],
   "source": [
    "#Add up all the prescriptions (ie. items)\n",
    "num_camb_prescriptions = camb_prescribing_df['items'].sum()\n",
    "num_camb_prescriptions"
   ]
  },
  {
   "cell_type": "code",
   "execution_count": 626,
   "metadata": {},
   "outputs": [
    {
     "data": {
      "text/plain": [
       "2434403.94"
      ]
     },
     "execution_count": 626,
     "metadata": {},
     "output_type": "execute_result"
    }
   ],
   "source": [
    "#Add up the actual cost of all these prescriptions\n",
    "act_cost_camb = camb_prescribing_df['act_cost'].sum()\n",
    "act_cost_camb"
   ]
  },
  {
   "cell_type": "markdown",
   "metadata": {},
   "source": [
    "There are fewer people in Cabridge, with 311,579 patients registered at 31 practices. 345532 prescriptions have been dispensed in Cambridge in April 2018, with an actual cost of £2,434,403.94.  In order to make comparisons on prescribing patterns, it will be interesting to know prescriptions per person, and money spent per person."
   ]
  },
  {
   "cell_type": "code",
   "execution_count": 628,
   "metadata": {},
   "outputs": [
    {
     "data": {
      "text/plain": [
       "1.0068057684789136"
      ]
     },
     "execution_count": 628,
     "metadata": {},
     "output_type": "execute_result"
    }
   ],
   "source": [
    "#calculate prescriptions per person registered in london\n",
    "london_prescriptions_pp = num_london_prescriptions/num_london_registrations\n",
    "london_prescriptions_pp"
   ]
  },
  {
   "cell_type": "code",
   "execution_count": 632,
   "metadata": {},
   "outputs": [
    {
     "data": {
      "text/plain": [
       "1.1089707586198043"
      ]
     },
     "execution_count": 632,
     "metadata": {},
     "output_type": "execute_result"
    }
   ],
   "source": [
    "#calculate prescriptions per person registered in cambridge\n",
    "camb_prescriptions_pp= num_camb_prescriptions/num_camb_registrations\n",
    "camb_prescriptions_pp"
   ]
  },
  {
   "cell_type": "code",
   "execution_count": 630,
   "metadata": {},
   "outputs": [
    {
     "data": {
      "text/plain": [
       "7.416372447858218"
      ]
     },
     "execution_count": 630,
     "metadata": {},
     "output_type": "execute_result"
    }
   ],
   "source": [
    "#calculate cost per person registered in london\n",
    "london_cost_pp = act_cost_london/num_london_registrations\n",
    "london_cost_pp"
   ]
  },
  {
   "cell_type": "code",
   "execution_count": 631,
   "metadata": {},
   "outputs": [
    {
     "data": {
      "text/plain": [
       "7.81311943359469"
      ]
     },
     "execution_count": 631,
     "metadata": {},
     "output_type": "execute_result"
    }
   ],
   "source": [
    "#calculate cost per person registered in Cambridge\n",
    "camb_cost_pp = act_cost_camb/num_camb_registrations\n",
    "camb_cost_pp"
   ]
  },
  {
   "cell_type": "markdown",
   "metadata": {},
   "source": [
    "Cambridge has slightly more prescriptions per person than London (1.1 compared to 1.0) and spends 40p more per person (£7.81 compared to £7.41).  This may reflect that Cambridge has a slightly older population, which could be checked by downloading the age-grouped practice registration information (But I will not do that in this analysis)"
   ]
  },
  {
   "cell_type": "code",
   "execution_count": 634,
   "metadata": {
    "scrolled": true
   },
   "outputs": [
    {
     "data": {
      "text/html": [
       "<div>\n",
       "<style scoped>\n",
       "    .dataframe tbody tr th:only-of-type {\n",
       "        vertical-align: middle;\n",
       "    }\n",
       "\n",
       "    .dataframe tbody tr th {\n",
       "        vertical-align: top;\n",
       "    }\n",
       "\n",
       "    .dataframe thead th {\n",
       "        text-align: right;\n",
       "    }\n",
       "</style>\n",
       "<table border=\"1\" class=\"dataframe\">\n",
       "  <thead>\n",
       "    <tr style=\"text-align: right;\">\n",
       "      <th></th>\n",
       "      <th>bnf_name</th>\n",
       "      <th>items</th>\n",
       "      <th>act_cost</th>\n",
       "    </tr>\n",
       "  </thead>\n",
       "  <tbody>\n",
       "    <tr>\n",
       "      <th>3823</th>\n",
       "      <td>Omeprazole_Cap E/C 20mg</td>\n",
       "      <td>11688</td>\n",
       "      <td>9128.05</td>\n",
       "    </tr>\n",
       "    <tr>\n",
       "      <th>355</th>\n",
       "      <td>Atorvastatin_Tab 20mg</td>\n",
       "      <td>6416</td>\n",
       "      <td>5181.29</td>\n",
       "    </tr>\n",
       "    <tr>\n",
       "      <th>334</th>\n",
       "      <td>Aspirin Disper_Tab 75mg</td>\n",
       "      <td>5737</td>\n",
       "      <td>2009.05</td>\n",
       "    </tr>\n",
       "    <tr>\n",
       "      <th>246</th>\n",
       "      <td>Amlodipine_Tab 5mg</td>\n",
       "      <td>5463</td>\n",
       "      <td>8515.08</td>\n",
       "    </tr>\n",
       "    <tr>\n",
       "      <th>3996</th>\n",
       "      <td>Paracet_Tab 500mg</td>\n",
       "      <td>4565</td>\n",
       "      <td>6012.26</td>\n",
       "    </tr>\n",
       "    <tr>\n",
       "      <th>4592</th>\n",
       "      <td>Salbutamol_Inha 100mcg (200 D) CFF</td>\n",
       "      <td>4341</td>\n",
       "      <td>7405.24</td>\n",
       "    </tr>\n",
       "    <tr>\n",
       "      <th>2968</th>\n",
       "      <td>Levothyrox Sod_Tab 100mcg</td>\n",
       "      <td>3897</td>\n",
       "      <td>4443.61</td>\n",
       "    </tr>\n",
       "    <tr>\n",
       "      <th>240</th>\n",
       "      <td>Amitriptyline HCl_Tab 10mg</td>\n",
       "      <td>3855</td>\n",
       "      <td>6423.29</td>\n",
       "    </tr>\n",
       "    <tr>\n",
       "      <th>4756</th>\n",
       "      <td>Simvastatin_Tab 40mg</td>\n",
       "      <td>3799</td>\n",
       "      <td>2698.13</td>\n",
       "    </tr>\n",
       "    <tr>\n",
       "      <th>2970</th>\n",
       "      <td>Levothyrox Sod_Tab 25mcg</td>\n",
       "      <td>3795</td>\n",
       "      <td>8424.95</td>\n",
       "    </tr>\n",
       "  </tbody>\n",
       "</table>\n",
       "</div>"
      ],
      "text/plain": [
       "                                bnf_name  items  act_cost\n",
       "3823             Omeprazole_Cap E/C 20mg  11688   9128.05\n",
       "355                Atorvastatin_Tab 20mg   6416   5181.29\n",
       "334              Aspirin Disper_Tab 75mg   5737   2009.05\n",
       "246                   Amlodipine_Tab 5mg   5463   8515.08\n",
       "3996                   Paracet_Tab 500mg   4565   6012.26\n",
       "4592  Salbutamol_Inha 100mcg (200 D) CFF   4341   7405.24\n",
       "2968           Levothyrox Sod_Tab 100mcg   3897   4443.61\n",
       "240           Amitriptyline HCl_Tab 10mg   3855   6423.29\n",
       "4756                Simvastatin_Tab 40mg   3799   2698.13\n",
       "2970            Levothyrox Sod_Tab 25mcg   3795   8424.95"
      ]
     },
     "execution_count": 634,
     "metadata": {},
     "output_type": "execute_result"
    }
   ],
   "source": [
    "# Create a dataframe just with columns of interest\n",
    "camb_totals = camb_prescribing_df[['bnf_name','items','act_cost']]\n",
    "\n",
    "# Calculate total items\n",
    "camb_totals = camb_totals.groupby(['bnf_name']).sum().reset_index()\n",
    "\n",
    "#sort by total items\n",
    "camb_totals = camb_totals.sort_values(by='items',ascending=False)\n",
    "camb_totals.head(10)"
   ]
  },
  {
   "cell_type": "code",
   "execution_count": 635,
   "metadata": {},
   "outputs": [
    {
     "data": {
      "text/html": [
       "<div>\n",
       "<style scoped>\n",
       "    .dataframe tbody tr th:only-of-type {\n",
       "        vertical-align: middle;\n",
       "    }\n",
       "\n",
       "    .dataframe tbody tr th {\n",
       "        vertical-align: top;\n",
       "    }\n",
       "\n",
       "    .dataframe thead th {\n",
       "        text-align: right;\n",
       "    }\n",
       "</style>\n",
       "<table border=\"1\" class=\"dataframe\">\n",
       "  <thead>\n",
       "    <tr style=\"text-align: right;\">\n",
       "      <th></th>\n",
       "      <th>bnf_name</th>\n",
       "      <th>items</th>\n",
       "      <th>act_cost</th>\n",
       "    </tr>\n",
       "  </thead>\n",
       "  <tbody>\n",
       "    <tr>\n",
       "      <th>2386</th>\n",
       "      <td>HBvaxPRO_Vac 40mcg/ml 1ml Vl</td>\n",
       "      <td>1</td>\n",
       "      <td>25.60</td>\n",
       "    </tr>\n",
       "    <tr>\n",
       "      <th>2387</th>\n",
       "      <td>HPV (Type 6 11 16 18)_Vac 0.5ml Pfs</td>\n",
       "      <td>1</td>\n",
       "      <td>80.22</td>\n",
       "    </tr>\n",
       "    <tr>\n",
       "      <th>2388</th>\n",
       "      <td>Haddenham Acc For Veni MTO 5cm Strong Pl</td>\n",
       "      <td>1</td>\n",
       "      <td>0.00</td>\n",
       "    </tr>\n",
       "    <tr>\n",
       "      <th>2389</th>\n",
       "      <td>Haddenham Acc For Veni MTO Non-Stnd Colr</td>\n",
       "      <td>1</td>\n",
       "      <td>0.00</td>\n",
       "    </tr>\n",
       "    <tr>\n",
       "      <th>4406</th>\n",
       "      <td>Regurin_Tab 20mg</td>\n",
       "      <td>1</td>\n",
       "      <td>24.12</td>\n",
       "    </tr>\n",
       "    <tr>\n",
       "      <th>2390</th>\n",
       "      <td>Haddenham Acc For Veni MTO Short Foot</td>\n",
       "      <td>1</td>\n",
       "      <td>0.00</td>\n",
       "    </tr>\n",
       "    <tr>\n",
       "      <th>2391</th>\n",
       "      <td>Haddenham Acc For Veni MTO Short Leg</td>\n",
       "      <td>1</td>\n",
       "      <td>0.00</td>\n",
       "    </tr>\n",
       "    <tr>\n",
       "      <th>2392</th>\n",
       "      <td>Haddenham Custom Goldpunkt L/Limb Acc Sl</td>\n",
       "      <td>1</td>\n",
       "      <td>28.97</td>\n",
       "    </tr>\n",
       "    <tr>\n",
       "      <th>2395</th>\n",
       "      <td>Haddenham Custom Pertex L/Limb Acc Slc G</td>\n",
       "      <td>1</td>\n",
       "      <td>28.97</td>\n",
       "    </tr>\n",
       "    <tr>\n",
       "      <th>0</th>\n",
       "      <td>365 Strips Skin Closure Strips Ster Surg</td>\n",
       "      <td>1</td>\n",
       "      <td>4.85</td>\n",
       "    </tr>\n",
       "  </tbody>\n",
       "</table>\n",
       "</div>"
      ],
      "text/plain": [
       "                                      bnf_name  items  act_cost\n",
       "2386              HBvaxPRO_Vac 40mcg/ml 1ml Vl      1     25.60\n",
       "2387       HPV (Type 6 11 16 18)_Vac 0.5ml Pfs      1     80.22\n",
       "2388  Haddenham Acc For Veni MTO 5cm Strong Pl      1      0.00\n",
       "2389  Haddenham Acc For Veni MTO Non-Stnd Colr      1      0.00\n",
       "4406                          Regurin_Tab 20mg      1     24.12\n",
       "2390     Haddenham Acc For Veni MTO Short Foot      1      0.00\n",
       "2391      Haddenham Acc For Veni MTO Short Leg      1      0.00\n",
       "2392  Haddenham Custom Goldpunkt L/Limb Acc Sl      1     28.97\n",
       "2395  Haddenham Custom Pertex L/Limb Acc Slc G      1     28.97\n",
       "0     365 Strips Skin Closure Strips Ster Surg      1      4.85"
      ]
     },
     "execution_count": 635,
     "metadata": {},
     "output_type": "execute_result"
    }
   ],
   "source": [
    "camb_totals.tail(10)"
   ]
  },
  {
   "cell_type": "code",
   "execution_count": 637,
   "metadata": {
    "scrolled": true
   },
   "outputs": [
    {
     "data": {
      "text/plain": [
       "(1434, 3)"
      ]
     },
     "execution_count": 637,
     "metadata": {},
     "output_type": "execute_result"
    }
   ],
   "source": [
    "camb_totals[camb_totals['items']==1].shape"
   ]
  },
  {
   "cell_type": "markdown",
   "metadata": {},
   "source": [
    "Cambridge has a very similar list of medicines in the top 10 most frequently prescribed as London.  Interestingly, levothyroxine appears twice in the top 10, which may reflect a higher prevalence of hypothyroidism than in London."
   ]
  },
  {
   "cell_type": "markdown",
   "metadata": {},
   "source": [
    "If I were to do this analysis again, it would make sense to define a function to extract the information for a city, so that the analysis can easily be repeated for many cities."
   ]
  },
  {
   "cell_type": "markdown",
   "metadata": {},
   "source": [
    "### Question 3\n",
    "I will now look at the total number of prescriptions and actual cost for all practices for cardiovascular disease drugs (BNF Chapter 02) and antidepressants (BNF Chapter 4, Section 3)"
   ]
  },
  {
   "cell_type": "code",
   "execution_count": 638,
   "metadata": {},
   "outputs": [],
   "source": [
    "#function to return prescribing data for a chapter/section of the BNF\n",
    "def prescriptions_by_bnf(chapter):\n",
    "    \"\"\"chapter as a string of numbers representing chapter then section\"\"\"\n",
    "    global prescribing_df\n",
    "    chapter_df = prescribing_df[prescribing_df['bnf_code'].str.startswith(chapter)]\n",
    "    return chapter_df"
   ]
  },
  {
   "cell_type": "code",
   "execution_count": 818,
   "metadata": {},
   "outputs": [
    {
     "data": {
      "text/html": [
       "<div>\n",
       "<style scoped>\n",
       "    .dataframe tbody tr th:only-of-type {\n",
       "        vertical-align: middle;\n",
       "    }\n",
       "\n",
       "    .dataframe tbody tr th {\n",
       "        vertical-align: top;\n",
       "    }\n",
       "\n",
       "    .dataframe thead th {\n",
       "        text-align: right;\n",
       "    }\n",
       "</style>\n",
       "<table border=\"1\" class=\"dataframe\">\n",
       "  <thead>\n",
       "    <tr style=\"text-align: right;\">\n",
       "      <th></th>\n",
       "      <th>sha</th>\n",
       "      <th>pct</th>\n",
       "      <th>practice_code</th>\n",
       "      <th>bnf_code</th>\n",
       "      <th>bnf_name</th>\n",
       "      <th>items</th>\n",
       "      <th>nic</th>\n",
       "      <th>act_cost</th>\n",
       "      <th>quantity</th>\n",
       "      <th>period</th>\n",
       "    </tr>\n",
       "  </thead>\n",
       "  <tbody>\n",
       "    <tr>\n",
       "      <th>28</th>\n",
       "      <td>Q44</td>\n",
       "      <td>RTV</td>\n",
       "      <td>Y05294</td>\n",
       "      <td>0204000R0AAAHAH</td>\n",
       "      <td>Propranolol HCl_Tab 10mg</td>\n",
       "      <td>4</td>\n",
       "      <td>7.12</td>\n",
       "      <td>6.65</td>\n",
       "      <td>224</td>\n",
       "      <td>201804</td>\n",
       "    </tr>\n",
       "    <tr>\n",
       "      <th>29</th>\n",
       "      <td>Q44</td>\n",
       "      <td>RTV</td>\n",
       "      <td>Y05294</td>\n",
       "      <td>0204000R0AAAJAJ</td>\n",
       "      <td>Propranolol HCl_Tab 40mg</td>\n",
       "      <td>3</td>\n",
       "      <td>1.35</td>\n",
       "      <td>1.59</td>\n",
       "      <td>42</td>\n",
       "      <td>201804</td>\n",
       "    </tr>\n",
       "    <tr>\n",
       "      <th>337</th>\n",
       "      <td>Q44</td>\n",
       "      <td>RXA</td>\n",
       "      <td>Y00327</td>\n",
       "      <td>0202020D0AAAEAE</td>\n",
       "      <td>Bumetanide_Tab 1mg</td>\n",
       "      <td>1</td>\n",
       "      <td>0.26</td>\n",
       "      <td>0.35</td>\n",
       "      <td>6</td>\n",
       "      <td>201804</td>\n",
       "    </tr>\n",
       "    <tr>\n",
       "      <th>338</th>\n",
       "      <td>Q44</td>\n",
       "      <td>RXA</td>\n",
       "      <td>Y00327</td>\n",
       "      <td>0202020L0AABBBB</td>\n",
       "      <td>Furosemide_Tab 20mg</td>\n",
       "      <td>1</td>\n",
       "      <td>0.13</td>\n",
       "      <td>0.23</td>\n",
       "      <td>10</td>\n",
       "      <td>201804</td>\n",
       "    </tr>\n",
       "    <tr>\n",
       "      <th>339</th>\n",
       "      <td>Q44</td>\n",
       "      <td>RXA</td>\n",
       "      <td>Y00327</td>\n",
       "      <td>0202020L0AABDBD</td>\n",
       "      <td>Furosemide_Tab 40mg</td>\n",
       "      <td>1</td>\n",
       "      <td>0.17</td>\n",
       "      <td>0.27</td>\n",
       "      <td>14</td>\n",
       "      <td>201804</td>\n",
       "    </tr>\n",
       "  </tbody>\n",
       "</table>\n",
       "</div>"
      ],
      "text/plain": [
       "     sha  pct practice_code         bnf_code                  bnf_name  items  \\\n",
       "28   Q44  RTV        Y05294  0204000R0AAAHAH  Propranolol HCl_Tab 10mg      4   \n",
       "29   Q44  RTV        Y05294  0204000R0AAAJAJ  Propranolol HCl_Tab 40mg      3   \n",
       "337  Q44  RXA        Y00327  0202020D0AAAEAE        Bumetanide_Tab 1mg      1   \n",
       "338  Q44  RXA        Y00327  0202020L0AABBBB       Furosemide_Tab 20mg      1   \n",
       "339  Q44  RXA        Y00327  0202020L0AABDBD       Furosemide_Tab 40mg      1   \n",
       "\n",
       "      nic  act_cost  quantity  period  \n",
       "28   7.12      6.65       224  201804  \n",
       "29   1.35      1.59        42  201804  \n",
       "337  0.26      0.35         6  201804  \n",
       "338  0.13      0.23        10  201804  \n",
       "339  0.17      0.27        14  201804  "
      ]
     },
     "execution_count": 818,
     "metadata": {},
     "output_type": "execute_result"
    }
   ],
   "source": [
    "#find all prescriptions for Cardiovascular drugs (Chapter 2)\n",
    "cvd_prescriptions_df = prescriptions_by_bnf('02')\n",
    "cvd_prescriptions_df.head()"
   ]
  },
  {
   "cell_type": "code",
   "execution_count": 819,
   "metadata": {},
   "outputs": [
    {
     "data": {
      "text/html": [
       "<div>\n",
       "<style scoped>\n",
       "    .dataframe tbody tr th:only-of-type {\n",
       "        vertical-align: middle;\n",
       "    }\n",
       "\n",
       "    .dataframe tbody tr th {\n",
       "        vertical-align: top;\n",
       "    }\n",
       "\n",
       "    .dataframe thead th {\n",
       "        text-align: right;\n",
       "    }\n",
       "</style>\n",
       "<table border=\"1\" class=\"dataframe\">\n",
       "  <thead>\n",
       "    <tr style=\"text-align: right;\">\n",
       "      <th></th>\n",
       "      <th>sha</th>\n",
       "      <th>pct</th>\n",
       "      <th>practice_code</th>\n",
       "      <th>bnf_code</th>\n",
       "      <th>bnf_name</th>\n",
       "      <th>items</th>\n",
       "      <th>nic</th>\n",
       "      <th>act_cost</th>\n",
       "      <th>quantity</th>\n",
       "      <th>period</th>\n",
       "    </tr>\n",
       "  </thead>\n",
       "  <tbody>\n",
       "    <tr>\n",
       "      <th>9</th>\n",
       "      <td>Q44</td>\n",
       "      <td>RTV</td>\n",
       "      <td>Y04937</td>\n",
       "      <td>0403010X0AAAAAA</td>\n",
       "      <td>Trazodone HCl_Cap 50mg</td>\n",
       "      <td>1</td>\n",
       "      <td>1.19</td>\n",
       "      <td>1.22</td>\n",
       "      <td>14</td>\n",
       "      <td>201804</td>\n",
       "    </tr>\n",
       "    <tr>\n",
       "      <th>10</th>\n",
       "      <td>Q44</td>\n",
       "      <td>RTV</td>\n",
       "      <td>Y04937</td>\n",
       "      <td>0403030D0AAAAAA</td>\n",
       "      <td>Citalopram Hydrob_Tab 20mg</td>\n",
       "      <td>1</td>\n",
       "      <td>1.17</td>\n",
       "      <td>1.20</td>\n",
       "      <td>14</td>\n",
       "      <td>201804</td>\n",
       "    </tr>\n",
       "    <tr>\n",
       "      <th>11</th>\n",
       "      <td>Q44</td>\n",
       "      <td>RTV</td>\n",
       "      <td>Y04937</td>\n",
       "      <td>0403030D0AAABAB</td>\n",
       "      <td>Citalopram Hydrob_Tab 10mg</td>\n",
       "      <td>1</td>\n",
       "      <td>0.76</td>\n",
       "      <td>0.82</td>\n",
       "      <td>14</td>\n",
       "      <td>201804</td>\n",
       "    </tr>\n",
       "    <tr>\n",
       "      <th>12</th>\n",
       "      <td>Q44</td>\n",
       "      <td>RTV</td>\n",
       "      <td>Y04937</td>\n",
       "      <td>0403030P0AAAGAG</td>\n",
       "      <td>Paroxetine HCl_Oral Soln 10mg/5ml S/F</td>\n",
       "      <td>1</td>\n",
       "      <td>15.99</td>\n",
       "      <td>14.94</td>\n",
       "      <td>263</td>\n",
       "      <td>201804</td>\n",
       "    </tr>\n",
       "    <tr>\n",
       "      <th>13</th>\n",
       "      <td>Q44</td>\n",
       "      <td>RTV</td>\n",
       "      <td>Y04937</td>\n",
       "      <td>0403030P0AAAKAK</td>\n",
       "      <td>Paroxetine HCl_Tab 10mg</td>\n",
       "      <td>1</td>\n",
       "      <td>16.50</td>\n",
       "      <td>15.41</td>\n",
       "      <td>49</td>\n",
       "      <td>201804</td>\n",
       "    </tr>\n",
       "  </tbody>\n",
       "</table>\n",
       "</div>"
      ],
      "text/plain": [
       "    sha  pct practice_code         bnf_code  \\\n",
       "9   Q44  RTV        Y04937  0403010X0AAAAAA   \n",
       "10  Q44  RTV        Y04937  0403030D0AAAAAA   \n",
       "11  Q44  RTV        Y04937  0403030D0AAABAB   \n",
       "12  Q44  RTV        Y04937  0403030P0AAAGAG   \n",
       "13  Q44  RTV        Y04937  0403030P0AAAKAK   \n",
       "\n",
       "                                 bnf_name  items    nic  act_cost  quantity  \\\n",
       "9                  Trazodone HCl_Cap 50mg      1   1.19      1.22        14   \n",
       "10             Citalopram Hydrob_Tab 20mg      1   1.17      1.20        14   \n",
       "11             Citalopram Hydrob_Tab 10mg      1   0.76      0.82        14   \n",
       "12  Paroxetine HCl_Oral Soln 10mg/5ml S/F      1  15.99     14.94       263   \n",
       "13                Paroxetine HCl_Tab 10mg      1  16.50     15.41        49   \n",
       "\n",
       "    period  \n",
       "9   201804  \n",
       "10  201804  \n",
       "11  201804  \n",
       "12  201804  \n",
       "13  201804  "
      ]
     },
     "execution_count": 819,
     "metadata": {},
     "output_type": "execute_result"
    }
   ],
   "source": [
    "#find all prescriptions for Anti-depressant drugs (Chapter 4, Section 3)\n",
    "ad_prescriptions_df = prescriptions_by_bnf('0403')\n",
    "ad_prescriptions_df.head()"
   ]
  },
  {
   "cell_type": "code",
   "execution_count": 816,
   "metadata": {},
   "outputs": [],
   "source": [
    "#Count the total number of prescriptions (items)\n",
    "num_cvd_prescriptions = cvd_prescriptions_df['items'].sum()\n",
    "num_ad_prescriptions = ad_prescriptions_df['items'].sum()"
   ]
  },
  {
   "cell_type": "code",
   "execution_count": 817,
   "metadata": {
    "scrolled": true
   },
   "outputs": [],
   "source": [
    "#Sum the total cost\n",
    "cost_cvd_prescriptions = cvd_prescriptions_df['act_cost'].sum()\n",
    "cost_ad_prescriptions = ad_prescriptions_df['act_cost'].sum()"
   ]
  },
  {
   "cell_type": "code",
   "execution_count": 677,
   "metadata": {},
   "outputs": [
    {
     "data": {
      "text/html": [
       "<div>\n",
       "<style scoped>\n",
       "    .dataframe tbody tr th:only-of-type {\n",
       "        vertical-align: middle;\n",
       "    }\n",
       "\n",
       "    .dataframe tbody tr th {\n",
       "        vertical-align: top;\n",
       "    }\n",
       "\n",
       "    .dataframe thead th {\n",
       "        text-align: right;\n",
       "    }\n",
       "</style>\n",
       "<table border=\"1\" class=\"dataframe\">\n",
       "  <thead>\n",
       "    <tr style=\"text-align: right;\">\n",
       "      <th></th>\n",
       "      <th>num_prescriptions</th>\n",
       "      <th>cost</th>\n",
       "      <th>cost_per_prescription</th>\n",
       "    </tr>\n",
       "  </thead>\n",
       "  <tbody>\n",
       "    <tr>\n",
       "      <th>Cardiovascular disease drugs</th>\n",
       "      <td>26449832</td>\n",
       "      <td>90193834.02</td>\n",
       "      <td>3.409996</td>\n",
       "    </tr>\n",
       "    <tr>\n",
       "      <th>Anti-depressants</th>\n",
       "      <td>5715873</td>\n",
       "      <td>16853470.86</td>\n",
       "      <td>2.948538</td>\n",
       "    </tr>\n",
       "  </tbody>\n",
       "</table>\n",
       "</div>"
      ],
      "text/plain": [
       "                              num_prescriptions         cost  \\\n",
       "Cardiovascular disease drugs           26449832  90193834.02   \n",
       "Anti-depressants                        5715873  16853470.86   \n",
       "\n",
       "                              cost_per_prescription  \n",
       "Cardiovascular disease drugs               3.409996  \n",
       "Anti-depressants                           2.948538  "
      ]
     },
     "execution_count": 677,
     "metadata": {},
     "output_type": "execute_result"
    }
   ],
   "source": [
    "# Create a table to diplay this information and calculate cost-per-precription\n",
    "prescriptions = pd.DataFrame({'num_prescriptions':[num_cvd_prescriptions,num_ad_prescriptions],\n",
    "                             'cost':[cost_cvd_prescriptions,cost_ad_prescriptions]}, \\\n",
    "                             index=['Cardiovascular disease drugs','Anti-depressants'])\n",
    "prescriptions['cost_per_prescription']=prescriptions['cost']/prescriptions['num_prescriptions']\n",
    "prescriptions"
   ]
  },
  {
   "cell_type": "code",
   "execution_count": 670,
   "metadata": {},
   "outputs": [
    {
     "data": {
      "text/plain": [
       "4.6274352141833806"
      ]
     },
     "execution_count": 670,
     "metadata": {},
     "output_type": "execute_result"
    }
   ],
   "source": [
    "num_cvd_prescriptions/num_ad_prescriptions"
   ]
  },
  {
   "cell_type": "code",
   "execution_count": 672,
   "metadata": {},
   "outputs": [
    {
     "data": {
      "text/plain": [
       "5.3516474303264046"
      ]
     },
     "execution_count": 672,
     "metadata": {},
     "output_type": "execute_result"
    }
   ],
   "source": [
    "cost_cvd_prescriptions/cost_ad_prescriptions"
   ]
  },
  {
   "cell_type": "markdown",
   "metadata": {},
   "source": [
    "Across all practices in England, there are almost 4.6 times as many prescriptions for cardiovascular disease drugs compared to anti-depressants.  These precriptions tend to be more expensive per prescription (£3.41 vs £2.94), and so the total spending on cardiovascular disease drugs is 5.35 times higher than for anti-depressants."
   ]
  },
  {
   "cell_type": "code",
   "execution_count": 822,
   "metadata": {},
   "outputs": [
    {
     "data": {
      "image/png": "[encoded data removed]",
      "text/plain": [
       "<Figure size 864x288 with 2 Axes>"
      ]
     },
     "metadata": {
      "needs_background": "light"
     },
     "output_type": "display_data"
    }
   ],
   "source": [
    "#Plot this information to show it visually\n",
    "fig = plt.figure(figsize=(12,4))\n",
    "plt1 = fig.add_subplot(121)\n",
    "plt2 = fig.add_subplot(122)\n",
    "\n",
    "# plotting points on each subplot\n",
    "plt1.bar(prescriptions.index, prescriptions['num_prescriptions'],color=['blue','orange'])\n",
    "plt1.set_title('Number of prescriptions')\n",
    "plt1.set_ylabel('Number')\n",
    " \n",
    "plt2.bar(prescriptions.index, prescriptions['cost'],color=['blue','orange'])\n",
    "plt2.set_title('Cost of prescriptions')\n",
    "plt2.set_ylabel('Cost (£)')\n",
    "\n",
    "# adjusting space between subplots\n",
    "fig.subplots_adjust(hspace=.5,wspace=0.5)\n",
    "\n",
    "plt.show()\n",
    "plt.close()"
   ]
  },
  {
   "cell_type": "markdown",
   "metadata": {},
   "source": [
    "## Question 4\n",
    "I will now look at total spending and the relatives cost per patient across all practices in England.  First I will create a data frame with the total actual cost and number of registered patients per practice, then I will plot the information in a scatter plot."
   ]
  },
  {
   "cell_type": "code",
   "execution_count": 723,
   "metadata": {
    "scrolled": true
   },
   "outputs": [
    {
     "data": {
      "text/html": [
       "<div>\n",
       "<style scoped>\n",
       "    .dataframe tbody tr th:only-of-type {\n",
       "        vertical-align: middle;\n",
       "    }\n",
       "\n",
       "    .dataframe tbody tr th {\n",
       "        vertical-align: top;\n",
       "    }\n",
       "\n",
       "    .dataframe thead th {\n",
       "        text-align: right;\n",
       "    }\n",
       "</style>\n",
       "<table border=\"1\" class=\"dataframe\">\n",
       "  <thead>\n",
       "    <tr style=\"text-align: right;\">\n",
       "      <th></th>\n",
       "      <th>practice_code</th>\n",
       "      <th>act_cost</th>\n",
       "      <th>number_of_patients</th>\n",
       "    </tr>\n",
       "  </thead>\n",
       "  <tbody>\n",
       "    <tr>\n",
       "      <th>0</th>\n",
       "      <td>A81001</td>\n",
       "      <td>52194.63</td>\n",
       "      <td>4086</td>\n",
       "    </tr>\n",
       "    <tr>\n",
       "      <th>1</th>\n",
       "      <td>A81002</td>\n",
       "      <td>268607.26</td>\n",
       "      <td>19906</td>\n",
       "    </tr>\n",
       "    <tr>\n",
       "      <th>2</th>\n",
       "      <td>A81004</td>\n",
       "      <td>139115.40</td>\n",
       "      <td>10165</td>\n",
       "    </tr>\n",
       "    <tr>\n",
       "      <th>3</th>\n",
       "      <td>A81005</td>\n",
       "      <td>102914.06</td>\n",
       "      <td>8016</td>\n",
       "    </tr>\n",
       "    <tr>\n",
       "      <th>4</th>\n",
       "      <td>A81006</td>\n",
       "      <td>183226.79</td>\n",
       "      <td>14497</td>\n",
       "    </tr>\n",
       "  </tbody>\n",
       "</table>\n",
       "</div>"
      ],
      "text/plain": [
       "  practice_code   act_cost  number_of_patients\n",
       "0        A81001   52194.63                4086\n",
       "1        A81002  268607.26               19906\n",
       "2        A81004  139115.40               10165\n",
       "3        A81005  102914.06                8016\n",
       "4        A81006  183226.79               14497"
      ]
     },
     "execution_count": 723,
     "metadata": {},
     "output_type": "execute_result"
    }
   ],
   "source": [
    "# Create database of practices and total act_cost\n",
    "practice_prescribing_df = prescribing_df[['practice_code','act_cost']].groupby('practice_code').sum().reset_index()\n",
    "#Add column of number of patients\n",
    "practice_prescribing_df = pd.merge(practice_prescribing_df, registrations_df[['practice_code','number_of_patients']],\\\n",
    "                                   on='practice_code')\n",
    "practice_prescribing_df.head()"
   ]
  },
  {
   "cell_type": "code",
   "execution_count": 726,
   "metadata": {},
   "outputs": [
    {
     "data": {
      "image/png": "[encoded data removed]",
      "text/plain": [
       "<Figure size 432x288 with 1 Axes>"
      ]
     },
     "metadata": {
      "needs_background": "light"
     },
     "output_type": "display_data"
    }
   ],
   "source": [
    "#Set x and y values\n",
    "x = practice_prescribing_df['number_of_patients']\n",
    "y = practice_prescribing_df['act_cost']\n",
    "#create a plot\n",
    "plt.scatter(x,y)\n",
    "#label the plot\n",
    "plt.title('Spending for all practices in April 2018')\n",
    "plt.xlabel('Number of patients')\n",
    "plt.ylabel('Total Spending (£)')\n",
    "#add a trend line\n",
    "fit = np.polyfit(x, y, deg=1)\n",
    "plt.plot(x, fit[0] * x + fit[1], color='red')\n",
    "plt.show()"
   ]
  },
  {
   "cell_type": "markdown",
   "metadata": {},
   "source": [
    "There is a positive association between number of patients and total spending at a GP practice.  Most practices have less than 300,000 people and spend less than £400,000/month.  There is considerable spread of practices around the trend line.  Next I will calculate the relative spending (ie. spending per patient) and plot this."
   ]
  },
  {
   "cell_type": "code",
   "execution_count": 730,
   "metadata": {},
   "outputs": [
    {
     "data": {
      "text/html": [
       "<div>\n",
       "<style scoped>\n",
       "    .dataframe tbody tr th:only-of-type {\n",
       "        vertical-align: middle;\n",
       "    }\n",
       "\n",
       "    .dataframe tbody tr th {\n",
       "        vertical-align: top;\n",
       "    }\n",
       "\n",
       "    .dataframe thead th {\n",
       "        text-align: right;\n",
       "    }\n",
       "</style>\n",
       "<table border=\"1\" class=\"dataframe\">\n",
       "  <thead>\n",
       "    <tr style=\"text-align: right;\">\n",
       "      <th></th>\n",
       "      <th>act_cost</th>\n",
       "      <th>number_of_patients</th>\n",
       "      <th>relative_spending</th>\n",
       "    </tr>\n",
       "  </thead>\n",
       "  <tbody>\n",
       "    <tr>\n",
       "      <th>count</th>\n",
       "      <td>7191.000000</td>\n",
       "      <td>7191.000000</td>\n",
       "      <td>7191.000000</td>\n",
       "    </tr>\n",
       "    <tr>\n",
       "      <th>mean</th>\n",
       "      <td>87842.769907</td>\n",
       "      <td>8207.557224</td>\n",
       "      <td>11.606497</td>\n",
       "    </tr>\n",
       "    <tr>\n",
       "      <th>std</th>\n",
       "      <td>59133.286587</td>\n",
       "      <td>5161.846053</td>\n",
       "      <td>38.868946</td>\n",
       "    </tr>\n",
       "    <tr>\n",
       "      <th>min</th>\n",
       "      <td>3.250000</td>\n",
       "      <td>3.000000</td>\n",
       "      <td>0.001724</td>\n",
       "    </tr>\n",
       "    <tr>\n",
       "      <th>25%</th>\n",
       "      <td>45118.630000</td>\n",
       "      <td>4557.000000</td>\n",
       "      <td>8.875578</td>\n",
       "    </tr>\n",
       "    <tr>\n",
       "      <th>50%</th>\n",
       "      <td>76206.840000</td>\n",
       "      <td>7278.000000</td>\n",
       "      <td>10.914659</td>\n",
       "    </tr>\n",
       "    <tr>\n",
       "      <th>75%</th>\n",
       "      <td>117871.110000</td>\n",
       "      <td>10742.500000</td>\n",
       "      <td>12.690038</td>\n",
       "    </tr>\n",
       "    <tr>\n",
       "      <th>max</th>\n",
       "      <td>842838.180000</td>\n",
       "      <td>72227.000000</td>\n",
       "      <td>2830.020000</td>\n",
       "    </tr>\n",
       "  </tbody>\n",
       "</table>\n",
       "</div>"
      ],
      "text/plain": [
       "            act_cost  number_of_patients  relative_spending\n",
       "count    7191.000000         7191.000000        7191.000000\n",
       "mean    87842.769907         8207.557224          11.606497\n",
       "std     59133.286587         5161.846053          38.868946\n",
       "min         3.250000            3.000000           0.001724\n",
       "25%     45118.630000         4557.000000           8.875578\n",
       "50%     76206.840000         7278.000000          10.914659\n",
       "75%    117871.110000        10742.500000          12.690038\n",
       "max    842838.180000        72227.000000        2830.020000"
      ]
     },
     "execution_count": 730,
     "metadata": {},
     "output_type": "execute_result"
    }
   ],
   "source": [
    "#Calculate relative spending\n",
    "practice_prescribing_df['relative_spending']= practice_prescribing_df['act_cost']/\\\n",
    "practice_prescribing_df['number_of_patients']\n",
    "\n",
    "#Look at some secriptive stats\n",
    "practice_prescribing_df.describe()"
   ]
  },
  {
   "cell_type": "markdown",
   "metadata": {},
   "source": [
    "There are some extreme outliers which will distort the data, so I have decided to remove the top and bottom 0.05% of GP practices for spending per patients, leaving practices with £1 - £21/patient"
   ]
  },
  {
   "cell_type": "code",
   "execution_count": 762,
   "metadata": {},
   "outputs": [
    {
     "data": {
      "text/plain": [
       "(1, 21)"
      ]
     },
     "execution_count": 762,
     "metadata": {},
     "output_type": "execute_result"
    }
   ],
   "source": [
    "#remove outliers\n",
    "min_x = math.floor(practice_prescribing_df['relative_spending'].quantile(.005))\n",
    "max_x = math.floor(practice_prescribing_df['relative_spending'].quantile(.995))\n",
    "practice_prescribing_limited = practice_prescribing_df[practice_prescribing_df['relative_spending'].between(min_x,max_x)]\n",
    "min_x,max_x"
   ]
  },
  {
   "cell_type": "code",
   "execution_count": 770,
   "metadata": {},
   "outputs": [
    {
     "data": {
      "image/png": "[encoded data removed]",
      "text/plain": [
       "<Figure size 432x288 with 1 Axes>"
      ]
     },
     "metadata": {
      "needs_background": "light"
     },
     "output_type": "display_data"
    }
   ],
   "source": [
    "# Use the data without extreme outliers\n",
    "data = practice_prescribing_limited['relative_spending']\n",
    "\n",
    "# Calculate mean and standard deviation for the data\n",
    "mu, std = norm.fit(data)\n",
    "\n",
    "# Plot the histogram.\n",
    "plt.hist(data, bins=20, density=True)\n",
    "\n",
    "# Plot the PDF.\n",
    "xmin, xmax = plt.xlim()\n",
    "x = np.linspace(xmin, xmax, 100)\n",
    "p = norm.pdf(x, mu, std)\n",
    "plt.plot(x, p, 'k', linewidth=2)\n",
    "plt.title(\"GP Practice Relative Spending April 2018 (mean = %.2f std = %.2f)\" % (mu, std))\n",
    "plt.xlabel(\"Prescription spending per patient (£/pt)\")\n",
    "plt.ylabel(\"Frequency\")\n",
    "\n",
    "plt.show()"
   ]
  },
  {
   "cell_type": "markdown",
   "metadata": {},
   "source": [
    "Spending per patients is normally distributed amongst GP Practices.  In order to target efforts to make efficiency savings, GP practices who have both high total expenditure and high spending per patient can be identified."
   ]
  },
  {
   "cell_type": "markdown",
   "metadata": {},
   "source": [
    "## Assignment B"
   ]
  },
  {
   "cell_type": "markdown",
   "metadata": {},
   "source": [
    "#### Introduction\n",
    "In this section of the analysis I will be using data from the World Health Organization (avaliable <a href ='https://www.who.int/healthinfo/statistics/mortality_rawdata/en/'>here</a>.  I will be using the same standard modules as in the previous analysis.  I will start by loading the data and inspecting it."
   ]
  },
  {
   "cell_type": "code",
   "execution_count": 217,
   "metadata": {},
   "outputs": [],
   "source": [
    "#Load WHO dataframes\n",
    "pop_df = pd.read_csv('https://www.who.int/healthinfo/Pop.zip?ua=1', compression='zip', index_col=False, \\\n",
    "                     na_values=[\"NaN\"])\n",
    "mort_df = pd.read_csv('https://www.who.int/healthinfo/statistics/Morticd10_part1.zip?ua=1',compression='zip',\\\n",
    "                      na_values=[\"NaN\"],low_memory=False)\n",
    "mort_df = mort_df.append(pd.read_csv('https://www.who.int/healthinfo/statistics/Morticd10_part2.zip?ua=1',compression='zip',\\\n",
    "                       na_values=[\"NaN\"],low_memory=False))\n",
    "country_codes_df = pd.read_csv('https://www.who.int/healthinfo/statistics/country_codes.zip?ua=1',compression='zip')"
   ]
  },
  {
   "cell_type": "code",
   "execution_count": 220,
   "metadata": {},
   "outputs": [
    {
     "data": {
      "text/html": [
       "<div>\n",
       "<style scoped>\n",
       "    .dataframe tbody tr th:only-of-type {\n",
       "        vertical-align: middle;\n",
       "    }\n",
       "\n",
       "    .dataframe tbody tr th {\n",
       "        vertical-align: top;\n",
       "    }\n",
       "\n",
       "    .dataframe thead th {\n",
       "        text-align: right;\n",
       "    }\n",
       "</style>\n",
       "<table border=\"1\" class=\"dataframe\">\n",
       "  <thead>\n",
       "    <tr style=\"text-align: right;\">\n",
       "      <th></th>\n",
       "      <th>Country</th>\n",
       "      <th>Admin1</th>\n",
       "      <th>SubDiv</th>\n",
       "      <th>Year</th>\n",
       "      <th>Sex</th>\n",
       "      <th>Frmat</th>\n",
       "      <th>Pop1</th>\n",
       "      <th>Pop2</th>\n",
       "      <th>Pop3</th>\n",
       "      <th>Pop4</th>\n",
       "      <th>...</th>\n",
       "      <th>Pop18</th>\n",
       "      <th>Pop19</th>\n",
       "      <th>Pop20</th>\n",
       "      <th>Pop21</th>\n",
       "      <th>Pop22</th>\n",
       "      <th>Pop23</th>\n",
       "      <th>Pop24</th>\n",
       "      <th>Pop25</th>\n",
       "      <th>Pop26</th>\n",
       "      <th>Lb</th>\n",
       "    </tr>\n",
       "  </thead>\n",
       "  <tbody>\n",
       "    <tr>\n",
       "      <th>0</th>\n",
       "      <td>1060</td>\n",
       "      <td>NaN</td>\n",
       "      <td>NaN</td>\n",
       "      <td>1980</td>\n",
       "      <td>1</td>\n",
       "      <td>7</td>\n",
       "      <td>137100.0</td>\n",
       "      <td>3400.0</td>\n",
       "      <td>15800.0</td>\n",
       "      <td>NaN</td>\n",
       "      <td>...</td>\n",
       "      <td>NaN</td>\n",
       "      <td>5300.0</td>\n",
       "      <td>NaN</td>\n",
       "      <td>2900.0</td>\n",
       "      <td>NaN</td>\n",
       "      <td>NaN</td>\n",
       "      <td>NaN</td>\n",
       "      <td>NaN</td>\n",
       "      <td>6500.0</td>\n",
       "      <td>5000.0</td>\n",
       "    </tr>\n",
       "    <tr>\n",
       "      <th>1</th>\n",
       "      <td>1060</td>\n",
       "      <td>NaN</td>\n",
       "      <td>NaN</td>\n",
       "      <td>1980</td>\n",
       "      <td>2</td>\n",
       "      <td>7</td>\n",
       "      <td>159000.0</td>\n",
       "      <td>4000.0</td>\n",
       "      <td>18400.0</td>\n",
       "      <td>NaN</td>\n",
       "      <td>...</td>\n",
       "      <td>NaN</td>\n",
       "      <td>6200.0</td>\n",
       "      <td>NaN</td>\n",
       "      <td>3400.0</td>\n",
       "      <td>NaN</td>\n",
       "      <td>NaN</td>\n",
       "      <td>NaN</td>\n",
       "      <td>NaN</td>\n",
       "      <td>7500.0</td>\n",
       "      <td>6000.0</td>\n",
       "    </tr>\n",
       "    <tr>\n",
       "      <th>2</th>\n",
       "      <td>1125</td>\n",
       "      <td>NaN</td>\n",
       "      <td>NaN</td>\n",
       "      <td>1955</td>\n",
       "      <td>1</td>\n",
       "      <td>2</td>\n",
       "      <td>5051500.0</td>\n",
       "      <td>150300.0</td>\n",
       "      <td>543400.0</td>\n",
       "      <td>NaN</td>\n",
       "      <td>...</td>\n",
       "      <td>110200.0</td>\n",
       "      <td>51100.0</td>\n",
       "      <td>41600.0</td>\n",
       "      <td>14300.0</td>\n",
       "      <td>11800.0</td>\n",
       "      <td>25300.0</td>\n",
       "      <td>NaN</td>\n",
       "      <td>NaN</td>\n",
       "      <td>0.0</td>\n",
       "      <td>253329.0</td>\n",
       "    </tr>\n",
       "    <tr>\n",
       "      <th>3</th>\n",
       "      <td>1125</td>\n",
       "      <td>NaN</td>\n",
       "      <td>NaN</td>\n",
       "      <td>1955</td>\n",
       "      <td>2</td>\n",
       "      <td>2</td>\n",
       "      <td>5049400.0</td>\n",
       "      <td>145200.0</td>\n",
       "      <td>551000.0</td>\n",
       "      <td>NaN</td>\n",
       "      <td>...</td>\n",
       "      <td>122100.0</td>\n",
       "      <td>51100.0</td>\n",
       "      <td>50700.0</td>\n",
       "      <td>15800.0</td>\n",
       "      <td>18000.0</td>\n",
       "      <td>28500.0</td>\n",
       "      <td>NaN</td>\n",
       "      <td>NaN</td>\n",
       "      <td>0.0</td>\n",
       "      <td>237901.0</td>\n",
       "    </tr>\n",
       "    <tr>\n",
       "      <th>4</th>\n",
       "      <td>1125</td>\n",
       "      <td>NaN</td>\n",
       "      <td>NaN</td>\n",
       "      <td>1956</td>\n",
       "      <td>1</td>\n",
       "      <td>2</td>\n",
       "      <td>5353700.0</td>\n",
       "      <td>158700.0</td>\n",
       "      <td>576600.0</td>\n",
       "      <td>NaN</td>\n",
       "      <td>...</td>\n",
       "      <td>116900.0</td>\n",
       "      <td>54100.0</td>\n",
       "      <td>44000.0</td>\n",
       "      <td>14900.0</td>\n",
       "      <td>12400.0</td>\n",
       "      <td>26600.0</td>\n",
       "      <td>NaN</td>\n",
       "      <td>NaN</td>\n",
       "      <td>0.0</td>\n",
       "      <td>250022.0</td>\n",
       "    </tr>\n",
       "  </tbody>\n",
       "</table>\n",
       "<p>5 rows × 33 columns</p>\n",
       "</div>"
      ],
      "text/plain": [
       "   Country  Admin1 SubDiv  Year  Sex  Frmat       Pop1      Pop2      Pop3  \\\n",
       "0     1060     NaN    NaN  1980    1      7   137100.0    3400.0   15800.0   \n",
       "1     1060     NaN    NaN  1980    2      7   159000.0    4000.0   18400.0   \n",
       "2     1125     NaN    NaN  1955    1      2  5051500.0  150300.0  543400.0   \n",
       "3     1125     NaN    NaN  1955    2      2  5049400.0  145200.0  551000.0   \n",
       "4     1125     NaN    NaN  1956    1      2  5353700.0  158700.0  576600.0   \n",
       "\n",
       "   Pop4    ...        Pop18    Pop19    Pop20    Pop21    Pop22    Pop23  \\\n",
       "0   NaN    ...          NaN   5300.0      NaN   2900.0      NaN      NaN   \n",
       "1   NaN    ...          NaN   6200.0      NaN   3400.0      NaN      NaN   \n",
       "2   NaN    ...     110200.0  51100.0  41600.0  14300.0  11800.0  25300.0   \n",
       "3   NaN    ...     122100.0  51100.0  50700.0  15800.0  18000.0  28500.0   \n",
       "4   NaN    ...     116900.0  54100.0  44000.0  14900.0  12400.0  26600.0   \n",
       "\n",
       "   Pop24  Pop25   Pop26        Lb  \n",
       "0    NaN    NaN  6500.0    5000.0  \n",
       "1    NaN    NaN  7500.0    6000.0  \n",
       "2    NaN    NaN     0.0  253329.0  \n",
       "3    NaN    NaN     0.0  237901.0  \n",
       "4    NaN    NaN     0.0  250022.0  \n",
       "\n",
       "[5 rows x 33 columns]"
      ]
     },
     "execution_count": 220,
     "metadata": {},
     "output_type": "execute_result"
    }
   ],
   "source": [
    "#Inspect data frames\n",
    "pop_df.head()"
   ]
  },
  {
   "cell_type": "code",
   "execution_count": 221,
   "metadata": {},
   "outputs": [
    {
     "data": {
      "text/html": [
       "<div>\n",
       "<style scoped>\n",
       "    .dataframe tbody tr th:only-of-type {\n",
       "        vertical-align: middle;\n",
       "    }\n",
       "\n",
       "    .dataframe tbody tr th {\n",
       "        vertical-align: top;\n",
       "    }\n",
       "\n",
       "    .dataframe thead th {\n",
       "        text-align: right;\n",
       "    }\n",
       "</style>\n",
       "<table border=\"1\" class=\"dataframe\">\n",
       "  <thead>\n",
       "    <tr style=\"text-align: right;\">\n",
       "      <th></th>\n",
       "      <th>Country</th>\n",
       "      <th>Admin1</th>\n",
       "      <th>SubDiv</th>\n",
       "      <th>Year</th>\n",
       "      <th>List</th>\n",
       "      <th>Cause</th>\n",
       "      <th>Sex</th>\n",
       "      <th>Frmat</th>\n",
       "      <th>IM_Frmat</th>\n",
       "      <th>Deaths1</th>\n",
       "      <th>...</th>\n",
       "      <th>Deaths21</th>\n",
       "      <th>Deaths22</th>\n",
       "      <th>Deaths23</th>\n",
       "      <th>Deaths24</th>\n",
       "      <th>Deaths25</th>\n",
       "      <th>Deaths26</th>\n",
       "      <th>IM_Deaths1</th>\n",
       "      <th>IM_Deaths2</th>\n",
       "      <th>IM_Deaths3</th>\n",
       "      <th>IM_Deaths4</th>\n",
       "    </tr>\n",
       "  </thead>\n",
       "  <tbody>\n",
       "    <tr>\n",
       "      <th>0</th>\n",
       "      <td>1400</td>\n",
       "      <td>NaN</td>\n",
       "      <td>NaN</td>\n",
       "      <td>2001</td>\n",
       "      <td>101</td>\n",
       "      <td>1000</td>\n",
       "      <td>1</td>\n",
       "      <td>7</td>\n",
       "      <td>8</td>\n",
       "      <td>332</td>\n",
       "      <td>...</td>\n",
       "      <td>95.0</td>\n",
       "      <td>NaN</td>\n",
       "      <td>NaN</td>\n",
       "      <td>NaN</td>\n",
       "      <td>NaN</td>\n",
       "      <td>0.0</td>\n",
       "      <td>8.0</td>\n",
       "      <td>NaN</td>\n",
       "      <td>NaN</td>\n",
       "      <td>NaN</td>\n",
       "    </tr>\n",
       "    <tr>\n",
       "      <th>1</th>\n",
       "      <td>1400</td>\n",
       "      <td>NaN</td>\n",
       "      <td>NaN</td>\n",
       "      <td>2001</td>\n",
       "      <td>101</td>\n",
       "      <td>1000</td>\n",
       "      <td>2</td>\n",
       "      <td>7</td>\n",
       "      <td>8</td>\n",
       "      <td>222</td>\n",
       "      <td>...</td>\n",
       "      <td>112.0</td>\n",
       "      <td>NaN</td>\n",
       "      <td>NaN</td>\n",
       "      <td>NaN</td>\n",
       "      <td>NaN</td>\n",
       "      <td>0.0</td>\n",
       "      <td>11.0</td>\n",
       "      <td>NaN</td>\n",
       "      <td>NaN</td>\n",
       "      <td>NaN</td>\n",
       "    </tr>\n",
       "    <tr>\n",
       "      <th>2</th>\n",
       "      <td>1400</td>\n",
       "      <td>NaN</td>\n",
       "      <td>NaN</td>\n",
       "      <td>2001</td>\n",
       "      <td>101</td>\n",
       "      <td>1001</td>\n",
       "      <td>1</td>\n",
       "      <td>7</td>\n",
       "      <td>8</td>\n",
       "      <td>24</td>\n",
       "      <td>...</td>\n",
       "      <td>5.0</td>\n",
       "      <td>NaN</td>\n",
       "      <td>NaN</td>\n",
       "      <td>NaN</td>\n",
       "      <td>NaN</td>\n",
       "      <td>0.0</td>\n",
       "      <td>0.0</td>\n",
       "      <td>NaN</td>\n",
       "      <td>NaN</td>\n",
       "      <td>NaN</td>\n",
       "    </tr>\n",
       "    <tr>\n",
       "      <th>3</th>\n",
       "      <td>1400</td>\n",
       "      <td>NaN</td>\n",
       "      <td>NaN</td>\n",
       "      <td>2001</td>\n",
       "      <td>101</td>\n",
       "      <td>1001</td>\n",
       "      <td>2</td>\n",
       "      <td>7</td>\n",
       "      <td>8</td>\n",
       "      <td>14</td>\n",
       "      <td>...</td>\n",
       "      <td>6.0</td>\n",
       "      <td>NaN</td>\n",
       "      <td>NaN</td>\n",
       "      <td>NaN</td>\n",
       "      <td>NaN</td>\n",
       "      <td>0.0</td>\n",
       "      <td>0.0</td>\n",
       "      <td>NaN</td>\n",
       "      <td>NaN</td>\n",
       "      <td>NaN</td>\n",
       "    </tr>\n",
       "    <tr>\n",
       "      <th>4</th>\n",
       "      <td>1400</td>\n",
       "      <td>NaN</td>\n",
       "      <td>NaN</td>\n",
       "      <td>2001</td>\n",
       "      <td>101</td>\n",
       "      <td>1002</td>\n",
       "      <td>1</td>\n",
       "      <td>7</td>\n",
       "      <td>8</td>\n",
       "      <td>0</td>\n",
       "      <td>...</td>\n",
       "      <td>0.0</td>\n",
       "      <td>NaN</td>\n",
       "      <td>NaN</td>\n",
       "      <td>NaN</td>\n",
       "      <td>NaN</td>\n",
       "      <td>0.0</td>\n",
       "      <td>0.0</td>\n",
       "      <td>NaN</td>\n",
       "      <td>NaN</td>\n",
       "      <td>NaN</td>\n",
       "    </tr>\n",
       "  </tbody>\n",
       "</table>\n",
       "<p>5 rows × 39 columns</p>\n",
       "</div>"
      ],
      "text/plain": [
       "   Country  Admin1 SubDiv  Year List Cause  Sex  Frmat  IM_Frmat  Deaths1  \\\n",
       "0     1400     NaN    NaN  2001  101  1000    1      7         8      332   \n",
       "1     1400     NaN    NaN  2001  101  1000    2      7         8      222   \n",
       "2     1400     NaN    NaN  2001  101  1001    1      7         8       24   \n",
       "3     1400     NaN    NaN  2001  101  1001    2      7         8       14   \n",
       "4     1400     NaN    NaN  2001  101  1002    1      7         8        0   \n",
       "\n",
       "      ...      Deaths21  Deaths22  Deaths23  Deaths24  Deaths25  Deaths26  \\\n",
       "0     ...          95.0       NaN       NaN       NaN       NaN       0.0   \n",
       "1     ...         112.0       NaN       NaN       NaN       NaN       0.0   \n",
       "2     ...           5.0       NaN       NaN       NaN       NaN       0.0   \n",
       "3     ...           6.0       NaN       NaN       NaN       NaN       0.0   \n",
       "4     ...           0.0       NaN       NaN       NaN       NaN       0.0   \n",
       "\n",
       "   IM_Deaths1  IM_Deaths2  IM_Deaths3  IM_Deaths4  \n",
       "0         8.0         NaN         NaN         NaN  \n",
       "1        11.0         NaN         NaN         NaN  \n",
       "2         0.0         NaN         NaN         NaN  \n",
       "3         0.0         NaN         NaN         NaN  \n",
       "4         0.0         NaN         NaN         NaN  \n",
       "\n",
       "[5 rows x 39 columns]"
      ]
     },
     "execution_count": 221,
     "metadata": {},
     "output_type": "execute_result"
    }
   ],
   "source": [
    "mort_df.head()"
   ]
  },
  {
   "cell_type": "markdown",
   "metadata": {},
   "source": [
    "Population and Mortality dataframes contain data for population and mortality, stratified by Country, Year, Cause and Gender.  Figures are given across all ages (Pop1 and Deaths1), as well as in separate age groups:\n",
    "- Group2-6 are 1 year age brackets from 'age 0 year' to 'age 5 years'\n",
    "- Group7-24 are 5 year age brackets from 'age 5-9 years' to 'age 90-94 years'\n",
    "- Group25 are 'age 95 years and above'\n",
    "- Group26 are 'age unspecified'"
   ]
  },
  {
   "cell_type": "markdown",
   "metadata": {},
   "source": [
    "There is also information for live births and further information on infant mortality at age 0."
   ]
  },
  {
   "cell_type": "markdown",
   "metadata": {},
   "source": [
    "Countries are identified by a code, and so the final dataframe can identify the code from the country name"
   ]
  },
  {
   "cell_type": "code",
   "execution_count": 224,
   "metadata": {},
   "outputs": [
    {
     "data": {
      "text/html": [
       "<div>\n",
       "<style scoped>\n",
       "    .dataframe tbody tr th:only-of-type {\n",
       "        vertical-align: middle;\n",
       "    }\n",
       "\n",
       "    .dataframe tbody tr th {\n",
       "        vertical-align: top;\n",
       "    }\n",
       "\n",
       "    .dataframe thead th {\n",
       "        text-align: right;\n",
       "    }\n",
       "</style>\n",
       "<table border=\"1\" class=\"dataframe\">\n",
       "  <thead>\n",
       "    <tr style=\"text-align: right;\">\n",
       "      <th></th>\n",
       "      <th>Country</th>\n",
       "      <th>Name</th>\n",
       "    </tr>\n",
       "  </thead>\n",
       "  <tbody>\n",
       "    <tr>\n",
       "      <th>0</th>\n",
       "      <td>1010</td>\n",
       "      <td>Algeria</td>\n",
       "    </tr>\n",
       "    <tr>\n",
       "      <th>1</th>\n",
       "      <td>1020</td>\n",
       "      <td>Angola</td>\n",
       "    </tr>\n",
       "    <tr>\n",
       "      <th>2</th>\n",
       "      <td>1025</td>\n",
       "      <td>Benin</td>\n",
       "    </tr>\n",
       "    <tr>\n",
       "      <th>3</th>\n",
       "      <td>1030</td>\n",
       "      <td>Botswana</td>\n",
       "    </tr>\n",
       "    <tr>\n",
       "      <th>4</th>\n",
       "      <td>1035</td>\n",
       "      <td>Burkina Faso</td>\n",
       "    </tr>\n",
       "  </tbody>\n",
       "</table>\n",
       "</div>"
      ],
      "text/plain": [
       "   Country          Name\n",
       "0     1010       Algeria\n",
       "1     1020        Angola\n",
       "2     1025         Benin\n",
       "3     1030      Botswana\n",
       "4     1035  Burkina Faso"
      ]
     },
     "execution_count": 224,
     "metadata": {},
     "output_type": "execute_result"
    }
   ],
   "source": [
    "country_codes_df.columns = ['Country','Name']\n",
    "country_codes_df.head()"
   ]
  },
  {
   "cell_type": "markdown",
   "metadata": {},
   "source": [
    "### Question 1\n",
    "I will first look at some population and death data for Iceland, Italy and New Zealand.  I will define some functions to extract the information I need in a table."
   ]
  },
  {
   "cell_type": "code",
   "execution_count": 228,
   "metadata": {},
   "outputs": [],
   "source": [
    "#define a function that will return a subset of the country codes data frame for any number of countries\n",
    "def country_code(*args):\n",
    "    \"\"\"Function to return list of country codes. arguments = list of countries as strings\"\"\"\n",
    "    global country_codes_df\n",
    "#   convert arguments to a list of countries (with standardized capitalisation)\n",
    "    countries = [a.title() for a in args]\n",
    "    return country_codes_df[country_codes_df['Name'].isin(countries)]"
   ]
  },
  {
   "cell_type": "code",
   "execution_count": 229,
   "metadata": {},
   "outputs": [],
   "source": [
    "#define a function that will return a subset of population or mortality data frame for a year\n",
    "def year_totals(year,df):\n",
    "    \"\"\"parameters: year=int, df=pop_df or mort_df, return: dateset filtered by year and grouped by Country\"\"\"\n",
    "    #must be grouped as dataset contains separate rows for males and females\n",
    "    return df[df['Year']==year].groupby('Country').sum().reset_index()\n",
    "    "
   ]
  },
  {
   "cell_type": "code",
   "execution_count": 233,
   "metadata": {},
   "outputs": [],
   "source": [
    "#create dataframe mapping Iceland,Italy and New Zealand to their country codes\n",
    "q1_countries = country_code('Iceland','Italy','New Zealand')\n",
    "\n",
    "#create a dataframes of all countries population and mortality for 2010\n",
    "pop_2010 = year_totals(2010, pop_df)[['Country','Pop1']]\n",
    "mort_2010 = year_totals(2010, mort_df)[['Country','Deaths1']]\n",
    "\n",
    "#merge dataframes left join on only the countries we are interested in\n",
    "q1_countries_2010 = pd.merge(q1_countries, pop_2010, on='Country')\n",
    "q1_countries_2010 = pd.merge(q1_countries_2010, mort_2010, on='Country')\n",
    "q1_countries_2010.rename(columns = {'Pop1':'Total_Population','Deaths1':'Total_Deaths'}, inplace = True)"
   ]
  },
  {
   "cell_type": "code",
   "execution_count": 779,
   "metadata": {},
   "outputs": [
    {
     "data": {
      "text/html": [
       "<div>\n",
       "<style scoped>\n",
       "    .dataframe tbody tr th:only-of-type {\n",
       "        vertical-align: middle;\n",
       "    }\n",
       "\n",
       "    .dataframe tbody tr th {\n",
       "        vertical-align: top;\n",
       "    }\n",
       "\n",
       "    .dataframe thead th {\n",
       "        text-align: right;\n",
       "    }\n",
       "</style>\n",
       "<table border=\"1\" class=\"dataframe\">\n",
       "  <thead>\n",
       "    <tr style=\"text-align: right;\">\n",
       "      <th></th>\n",
       "      <th>Country</th>\n",
       "      <th>Name</th>\n",
       "      <th>Total_Population</th>\n",
       "      <th>Total_Deaths</th>\n",
       "    </tr>\n",
       "  </thead>\n",
       "  <tbody>\n",
       "    <tr>\n",
       "      <th>0</th>\n",
       "      <td>4160</td>\n",
       "      <td>Iceland</td>\n",
       "      <td>318041.0</td>\n",
       "      <td>4038</td>\n",
       "    </tr>\n",
       "    <tr>\n",
       "      <th>1</th>\n",
       "      <td>4180</td>\n",
       "      <td>Italy</td>\n",
       "      <td>60483386.0</td>\n",
       "      <td>1169230</td>\n",
       "    </tr>\n",
       "    <tr>\n",
       "      <th>2</th>\n",
       "      <td>5150</td>\n",
       "      <td>New Zealand</td>\n",
       "      <td>4367360.0</td>\n",
       "      <td>57298</td>\n",
       "    </tr>\n",
       "  </tbody>\n",
       "</table>\n",
       "</div>"
      ],
      "text/plain": [
       "   Country         Name  Total_Population  Total_Deaths\n",
       "0     4160      Iceland          318041.0          4038\n",
       "1     4180        Italy        60483386.0       1169230\n",
       "2     5150  New Zealand         4367360.0         57298"
      ]
     },
     "execution_count": 779,
     "metadata": {},
     "output_type": "execute_result"
    }
   ],
   "source": [
    "q1_countries_2010"
   ]
  },
  {
   "cell_type": "markdown",
   "metadata": {},
   "source": [
    "Italy had the largest population of these 3 countries in 2010 at 60.5 million.  New Zealand has 4.37 million and Iceland 318,000.  The total number of deaths are in the same order: 1.17 million in Italy, 57,300 in New Zealand and 4040 in Iceland. (Answers given to 3 significant figures)."
   ]
  },
  {
   "cell_type": "markdown",
   "metadata": {},
   "source": [
    "### Question 2\n",
    "I will now focus on Italy, and look at the mortality data stratified by age group. Data will be combined for all causes, years and genders."
   ]
  },
  {
   "cell_type": "code",
   "execution_count": 780,
   "metadata": {},
   "outputs": [],
   "source": [
    "#create a subset of mortality data frame for italy\n",
    "italy_mort_df = mort_df[mort_df['Country'] == 4180]\n",
    "\n",
    "#create a series of totals for each age group\n",
    "italy_ages_mortality = italy_mort_df.iloc[:,10:34].sum()"
   ]
  },
  {
   "cell_type": "code",
   "execution_count": 781,
   "metadata": {},
   "outputs": [],
   "source": [
    "#create list of descriptions of content for Deaths2-25\n",
    "age_groups = ['Deaths at age 0 year',\n",
    "              'Deaths at age 1 year',\n",
    "              'Deaths at age 2 years',\n",
    "              'Deaths at age 3 years',\n",
    "              'Deaths at age 4 years',\n",
    "              'Deaths at age 5-9 years',\n",
    "              'Deaths at age 10-14 years',\n",
    "              'Deaths at age 15-19 years',\n",
    "              'Deaths at age 20-24 years',        \n",
    "              'Deaths at age 25-29 years',\n",
    "              'Deaths at age 30-34 years',          \n",
    "              'Deaths at age 35-39 years',\n",
    "              'Deaths at age 40-44 years',\n",
    "              'Deaths at age 45-49 years',          \n",
    "              'Deaths at age 50-54 years',\n",
    "              'Deaths at age 55-59 years',         \n",
    "              'Deaths at age 60-64 years',\n",
    "              'Deaths at age 65-69 years',  \n",
    "              'Deaths at age 70-74 years',\n",
    "              'Deaths at age 75-79 years',  \n",
    "              'Deaths at age 80-84 years',\n",
    "              'Deaths at age 85-89 years',           \n",
    "              'Deaths at age 90-94 years',\n",
    "              'Deaths at age 95 years and above '\n",
    "             ]"
   ]
  },
  {
   "cell_type": "code",
   "execution_count": 268,
   "metadata": {},
   "outputs": [
    {
     "data": {
      "image/png": "[encoded data removed]",
      "text/plain": [
       "<Figure size 432x288 with 1 Axes>"
      ]
     },
     "metadata": {
      "needs_background": "light"
     },
     "output_type": "display_data"
    }
   ],
   "source": [
    "#Plot a bar chart of the number of deaths\n",
    "plt.bar(age_groups,italy_ages_mortality.values)\n",
    "plt.xticks(age_groups, rotation='vertical')\n",
    "plt.xlabel('Age')\n",
    "plt.ylabel('Number of Deaths')\n",
    "plt.title('Number of deaths across age groups in Italy for all years and all causes')\n",
    "plt.show()"
   ]
  },
  {
   "cell_type": "markdown",
   "metadata": {},
   "source": [
    "The histogram gives a good visualization of the number of deaths increasing exponentially up to age 80-84.  After this point, the total number of deaths per age group decreases (since there are fewer people left at this age).  There is also a small but notable number of infant deaths at age 0 year."
   ]
  },
  {
   "cell_type": "markdown",
   "metadata": {},
   "source": [
    "### Question 3\n",
    "I will now look in more detail at causes of death in Italy, specifically for *Neoplasms*.  ICD-10 codes C00 to D48 cover neoplasms.  In the mortality data set, these are sometimes coded with a condensed code (1026-1047), so I should search for both."
   ]
  },
  {
   "cell_type": "code",
   "execution_count": 793,
   "metadata": {},
   "outputs": [
    {
     "data": {
      "text/html": [
       "<div>\n",
       "<style scoped>\n",
       "    .dataframe tbody tr th:only-of-type {\n",
       "        vertical-align: middle;\n",
       "    }\n",
       "\n",
       "    .dataframe tbody tr th {\n",
       "        vertical-align: top;\n",
       "    }\n",
       "\n",
       "    .dataframe thead th {\n",
       "        text-align: right;\n",
       "    }\n",
       "</style>\n",
       "<table border=\"1\" class=\"dataframe\">\n",
       "  <thead>\n",
       "    <tr style=\"text-align: right;\">\n",
       "      <th></th>\n",
       "      <th>Total Deaths</th>\n",
       "      <th>Proportion</th>\n",
       "    </tr>\n",
       "    <tr>\n",
       "      <th>Cause</th>\n",
       "      <th></th>\n",
       "      <th></th>\n",
       "    </tr>\n",
       "  </thead>\n",
       "  <tbody>\n",
       "    <tr>\n",
       "      <th>C349</th>\n",
       "      <td>426451</td>\n",
       "      <td>19.041893</td>\n",
       "    </tr>\n",
       "    <tr>\n",
       "      <th>C509</th>\n",
       "      <td>155895</td>\n",
       "      <td>6.961025</td>\n",
       "    </tr>\n",
       "    <tr>\n",
       "      <th>C189</th>\n",
       "      <td>143188</td>\n",
       "      <td>6.393632</td>\n",
       "    </tr>\n",
       "    <tr>\n",
       "      <th>C169</th>\n",
       "      <td>125679</td>\n",
       "      <td>5.611820</td>\n",
       "    </tr>\n",
       "    <tr>\n",
       "      <th>C259</th>\n",
       "      <td>120070</td>\n",
       "      <td>5.361366</td>\n",
       "    </tr>\n",
       "  </tbody>\n",
       "</table>\n",
       "</div>"
      ],
      "text/plain": [
       "       Total Deaths  Proportion\n",
       "Cause                          \n",
       "C349         426451   19.041893\n",
       "C509         155895    6.961025\n",
       "C189         143188    6.393632\n",
       "C169         125679    5.611820\n",
       "C259         120070    5.361366"
      ]
     },
     "execution_count": 793,
     "metadata": {},
     "output_type": "execute_result"
    }
   ],
   "source": [
    "#Create a subset of the Italy mortality database for cancer\n",
    "italy_neoplasms = italy_mort_df[(italy_mort_df['Cause'].between('C00','D48'))|\\\n",
    "                               (italy_mort_df['Cause'].between('1026','1047'))]\n",
    "\n",
    "#Group data by 'Cause' for all years and sexes.  Sum remaining columns, show total deaths as 'Deaths1'\n",
    "italy_neoplasms = italy_neoplasms.groupby('Cause').sum()[['Deaths1']]\n",
    "italy_neoplasms.columns = ['Total Deaths']\n",
    "\n",
    "#Calculate the total number of deaths due to neoplasms\n",
    "total_neoplasm_deaths = italy_neoplasms['Total Deaths'].sum()\n",
    "\n",
    "#Create a new column: proportion of deaths (%)\n",
    "italy_neoplasms['Proportion'] = italy_neoplasms['Total Deaths']/total_neoplasm_deaths*100\n",
    "\n",
    "#Sort the dataset\n",
    "italy_neoplasms = italy_neoplasms.sort_values(by=['Total Deaths'], ascending=False)\n",
    "\n",
    "#Create a dataset of the top 5\n",
    "italy_neoplasms_top5 = italy_neoplasms.iloc[0:5]\n",
    "italy_neoplasms_top5"
   ]
  },
  {
   "cell_type": "code",
   "execution_count": 789,
   "metadata": {},
   "outputs": [],
   "source": [
    "# Create a dictionary of the causes\n",
    "neoplasm_dict = {'C349': 'Malignant neoplasm: Bronchus or lung, unspecified',\n",
    "                 'C509': 'Malignant neoplasm: Breast, unspecified ',\n",
    "                 'C189': 'Malignant neoplasm: Colon, unspecified',\n",
    "                 'C169': 'Malignant neoplasm of Stomach, unspecified',\n",
    "                 'C259': 'Malignant neoplasm: Pancreas, unspecified  '}"
   ]
  },
  {
   "cell_type": "code",
   "execution_count": 796,
   "metadata": {
    "scrolled": true
   },
   "outputs": [],
   "source": [
    "#Create a data set for the remaining causes - group as 'Other'\n",
    "other_neoplasms = italy_neoplasms.iloc[5:].reset_index()\n",
    "other_neoplasms['Cause'] = 'Other'\n",
    "other_neoplasms = other_neoplasms.groupby('Cause').sum()"
   ]
  },
  {
   "cell_type": "code",
   "execution_count": 794,
   "metadata": {},
   "outputs": [],
   "source": [
    "#Add other to the top 5 causes\n",
    "italy_neoplasms_top5 = italy_neoplasms_top5.append(other_neoplasms)\n",
    "italy_neoplasms_top5.rename(index=neoplasm_dict, inplace=True)"
   ]
  },
  {
   "cell_type": "code",
   "execution_count": 797,
   "metadata": {},
   "outputs": [
    {
     "data": {
      "text/plain": [
       "Text(0.5, 1.0, 'Top causes of death in Italy (all years) for neoplasms')"
      ]
     },
     "execution_count": 797,
     "metadata": {},
     "output_type": "execute_result"
    },
    {
     "data": {
      "image/png": "[encoded data removed]",
      "text/plain": [
       "<Figure size 432x288 with 1 Axes>"
      ]
     },
     "metadata": {},
     "output_type": "display_data"
    }
   ],
   "source": [
    "#Create a pie chart of the top causes of death for neoplasms\n",
    "ax = italy_neoplasms_top5.plot.pie('Proportion')\n",
    "ax.set_title('Top causes of death in Italy (all years) for neoplasms')"
   ]
  },
  {
   "cell_type": "markdown",
   "metadata": {},
   "source": [
    "## Question 4\n",
    "I will now switch to looking at Australia, and identify the top five age groups dying with a *Neoplasms* cause of death."
   ]
  },
  {
   "cell_type": "code",
   "execution_count": 308,
   "metadata": {
    "scrolled": true
   },
   "outputs": [
    {
     "data": {
      "text/html": [
       "<div>\n",
       "<style scoped>\n",
       "    .dataframe tbody tr th:only-of-type {\n",
       "        vertical-align: middle;\n",
       "    }\n",
       "\n",
       "    .dataframe tbody tr th {\n",
       "        vertical-align: top;\n",
       "    }\n",
       "\n",
       "    .dataframe thead th {\n",
       "        text-align: right;\n",
       "    }\n",
       "</style>\n",
       "<table border=\"1\" class=\"dataframe\">\n",
       "  <thead>\n",
       "    <tr style=\"text-align: right;\">\n",
       "      <th></th>\n",
       "      <th>Country</th>\n",
       "      <th>Name</th>\n",
       "    </tr>\n",
       "  </thead>\n",
       "  <tbody>\n",
       "    <tr>\n",
       "      <th>211</th>\n",
       "      <td>5020</td>\n",
       "      <td>Australia</td>\n",
       "    </tr>\n",
       "  </tbody>\n",
       "</table>\n",
       "</div>"
      ],
      "text/plain": [
       "     Country       Name\n",
       "211     5020  Australia"
      ]
     },
     "execution_count": 308,
     "metadata": {},
     "output_type": "execute_result"
    }
   ],
   "source": [
    "#Find country code for australia\n",
    "aus = country_code('Australia')\n",
    "aus"
   ]
  },
  {
   "cell_type": "code",
   "execution_count": 472,
   "metadata": {
    "scrolled": true
   },
   "outputs": [
    {
     "data": {
      "text/html": [
       "<div>\n",
       "<style scoped>\n",
       "    .dataframe tbody tr th:only-of-type {\n",
       "        vertical-align: middle;\n",
       "    }\n",
       "\n",
       "    .dataframe tbody tr th {\n",
       "        vertical-align: top;\n",
       "    }\n",
       "\n",
       "    .dataframe thead th {\n",
       "        text-align: right;\n",
       "    }\n",
       "</style>\n",
       "<table border=\"1\" class=\"dataframe\">\n",
       "  <thead>\n",
       "    <tr style=\"text-align: right;\">\n",
       "      <th></th>\n",
       "      <th>Country</th>\n",
       "      <th>Admin1</th>\n",
       "      <th>SubDiv</th>\n",
       "      <th>Year</th>\n",
       "      <th>List</th>\n",
       "      <th>Cause</th>\n",
       "      <th>Sex</th>\n",
       "      <th>Frmat</th>\n",
       "      <th>IM_Frmat</th>\n",
       "      <th>Deaths1</th>\n",
       "      <th>...</th>\n",
       "      <th>Deaths21</th>\n",
       "      <th>Deaths22</th>\n",
       "      <th>Deaths23</th>\n",
       "      <th>Deaths24</th>\n",
       "      <th>Deaths25</th>\n",
       "      <th>Deaths26</th>\n",
       "      <th>IM_Deaths1</th>\n",
       "      <th>IM_Deaths2</th>\n",
       "      <th>IM_Deaths3</th>\n",
       "      <th>IM_Deaths4</th>\n",
       "    </tr>\n",
       "  </thead>\n",
       "  <tbody>\n",
       "    <tr>\n",
       "      <th>2259359</th>\n",
       "      <td>5020</td>\n",
       "      <td>NaN</td>\n",
       "      <td>NaN</td>\n",
       "      <td>2010</td>\n",
       "      <td>104</td>\n",
       "      <td>C001</td>\n",
       "      <td>1</td>\n",
       "      <td>0</td>\n",
       "      <td>1</td>\n",
       "      <td>2</td>\n",
       "      <td>...</td>\n",
       "      <td>0.0</td>\n",
       "      <td>1.0</td>\n",
       "      <td>0.0</td>\n",
       "      <td>0.0</td>\n",
       "      <td>0.0</td>\n",
       "      <td>0.0</td>\n",
       "      <td>0.0</td>\n",
       "      <td>0.0</td>\n",
       "      <td>0.0</td>\n",
       "      <td>0.0</td>\n",
       "    </tr>\n",
       "    <tr>\n",
       "      <th>2259360</th>\n",
       "      <td>5020</td>\n",
       "      <td>NaN</td>\n",
       "      <td>NaN</td>\n",
       "      <td>2010</td>\n",
       "      <td>104</td>\n",
       "      <td>C001</td>\n",
       "      <td>2</td>\n",
       "      <td>0</td>\n",
       "      <td>1</td>\n",
       "      <td>2</td>\n",
       "      <td>...</td>\n",
       "      <td>0.0</td>\n",
       "      <td>1.0</td>\n",
       "      <td>0.0</td>\n",
       "      <td>0.0</td>\n",
       "      <td>0.0</td>\n",
       "      <td>0.0</td>\n",
       "      <td>0.0</td>\n",
       "      <td>0.0</td>\n",
       "      <td>0.0</td>\n",
       "      <td>0.0</td>\n",
       "    </tr>\n",
       "    <tr>\n",
       "      <th>2259361</th>\n",
       "      <td>5020</td>\n",
       "      <td>NaN</td>\n",
       "      <td>NaN</td>\n",
       "      <td>2010</td>\n",
       "      <td>104</td>\n",
       "      <td>C009</td>\n",
       "      <td>1</td>\n",
       "      <td>0</td>\n",
       "      <td>1</td>\n",
       "      <td>2</td>\n",
       "      <td>...</td>\n",
       "      <td>0.0</td>\n",
       "      <td>1.0</td>\n",
       "      <td>0.0</td>\n",
       "      <td>0.0</td>\n",
       "      <td>0.0</td>\n",
       "      <td>0.0</td>\n",
       "      <td>0.0</td>\n",
       "      <td>0.0</td>\n",
       "      <td>0.0</td>\n",
       "      <td>0.0</td>\n",
       "    </tr>\n",
       "    <tr>\n",
       "      <th>2259362</th>\n",
       "      <td>5020</td>\n",
       "      <td>NaN</td>\n",
       "      <td>NaN</td>\n",
       "      <td>2010</td>\n",
       "      <td>104</td>\n",
       "      <td>C009</td>\n",
       "      <td>2</td>\n",
       "      <td>0</td>\n",
       "      <td>1</td>\n",
       "      <td>5</td>\n",
       "      <td>...</td>\n",
       "      <td>2.0</td>\n",
       "      <td>0.0</td>\n",
       "      <td>0.0</td>\n",
       "      <td>1.0</td>\n",
       "      <td>1.0</td>\n",
       "      <td>0.0</td>\n",
       "      <td>0.0</td>\n",
       "      <td>0.0</td>\n",
       "      <td>0.0</td>\n",
       "      <td>0.0</td>\n",
       "    </tr>\n",
       "    <tr>\n",
       "      <th>2259363</th>\n",
       "      <td>5020</td>\n",
       "      <td>NaN</td>\n",
       "      <td>NaN</td>\n",
       "      <td>2010</td>\n",
       "      <td>104</td>\n",
       "      <td>C01</td>\n",
       "      <td>1</td>\n",
       "      <td>0</td>\n",
       "      <td>1</td>\n",
       "      <td>20</td>\n",
       "      <td>...</td>\n",
       "      <td>3.0</td>\n",
       "      <td>0.0</td>\n",
       "      <td>0.0</td>\n",
       "      <td>0.0</td>\n",
       "      <td>0.0</td>\n",
       "      <td>0.0</td>\n",
       "      <td>0.0</td>\n",
       "      <td>0.0</td>\n",
       "      <td>0.0</td>\n",
       "      <td>0.0</td>\n",
       "    </tr>\n",
       "  </tbody>\n",
       "</table>\n",
       "<p>5 rows × 39 columns</p>\n",
       "</div>"
      ],
      "text/plain": [
       "         Country  Admin1 SubDiv  Year List Cause  Sex  Frmat  IM_Frmat  \\\n",
       "2259359     5020     NaN    NaN  2010  104  C001    1      0         1   \n",
       "2259360     5020     NaN    NaN  2010  104  C001    2      0         1   \n",
       "2259361     5020     NaN    NaN  2010  104  C009    1      0         1   \n",
       "2259362     5020     NaN    NaN  2010  104  C009    2      0         1   \n",
       "2259363     5020     NaN    NaN  2010  104   C01    1      0         1   \n",
       "\n",
       "         Deaths1     ...      Deaths21  Deaths22  Deaths23  Deaths24  \\\n",
       "2259359        2     ...           0.0       1.0       0.0       0.0   \n",
       "2259360        2     ...           0.0       1.0       0.0       0.0   \n",
       "2259361        2     ...           0.0       1.0       0.0       0.0   \n",
       "2259362        5     ...           2.0       0.0       0.0       1.0   \n",
       "2259363       20     ...           3.0       0.0       0.0       0.0   \n",
       "\n",
       "         Deaths25  Deaths26  IM_Deaths1  IM_Deaths2  IM_Deaths3  IM_Deaths4  \n",
       "2259359       0.0       0.0         0.0         0.0         0.0         0.0  \n",
       "2259360       0.0       0.0         0.0         0.0         0.0         0.0  \n",
       "2259361       0.0       0.0         0.0         0.0         0.0         0.0  \n",
       "2259362       1.0       0.0         0.0         0.0         0.0         0.0  \n",
       "2259363       0.0       0.0         0.0         0.0         0.0         0.0  \n",
       "\n",
       "[5 rows x 39 columns]"
      ]
     },
     "execution_count": 472,
     "metadata": {},
     "output_type": "execute_result"
    }
   ],
   "source": [
    "#Create a subset of the mortality dataset for 2010\n",
    "all_mort_2010 = mort_df[mort_df['Year'] == 2010]\n",
    "\n",
    "#Create criteria for neoplasms (coded with ICD-10 or condensed WHO code)\n",
    "criteria1 = all_mort_2010['Cause'].between('1026','1047')\n",
    "criteria2 = all_mort_2010['Cause'].between('C00','D48')\n",
    "\n",
    "#Create a subset of mortality 2010 for neoplasms\n",
    "neoplasms_2010 = all_mort_2010[criteria1 | criteria2]\n",
    "\n",
    "#Create a subset for Australia\n",
    "aus_neoplasms = neoplasms_2010[neoplasms_2010['Country']==5020]\n",
    "aus_neoplasms.head()"
   ]
  },
  {
   "cell_type": "code",
   "execution_count": 473,
   "metadata": {},
   "outputs": [
    {
     "name": "stdout",
     "output_type": "stream",
     "text": [
      "Top 5 age groups for death from Neoplasms in Australia 2010:\n"
     ]
    },
    {
     "data": {
      "text/plain": [
       "Deaths at age 80-84 years    7165.0\n",
       "Deaths at age 75-79 years    6281.0\n",
       "Deaths at age 70-74 years    5709.0\n",
       "Deaths at age 85-89 years    5512.0\n",
       "Deaths at age 65-69 years    4765.0\n",
       "dtype: float64"
      ]
     },
     "execution_count": 473,
     "metadata": {},
     "output_type": "execute_result"
    }
   ],
   "source": [
    "#Create a series with the total deaths from neoplasm in Australia 2010 for each age group\n",
    "aus_neoplasms_grouped = aus_neoplasms.iloc[:,10:34].sum()\n",
    "\n",
    "#Rename the index column with descriptive labels\n",
    "aus_neoplasms_grouped.index = age_groups\n",
    "\n",
    "#Sort the groups to identify top 5 age groups in Australia dying with a Neoplasms cause of death\n",
    "print(\"Top 5 age groups for death from Neoplasms in Australia 2010:\")\n",
    "aus_neoplasms_grouped.sort_values(ascending=False)[0:5]"
   ]
  },
  {
   "cell_type": "markdown",
   "metadata": {},
   "source": [
    "Death from *Neoplasms* was most common in 80-84 year olds in Australia in 2010.  The other top 5 age groups are all older people (75-79 year, 70-74 years, 85-89 years and 65-69 years).  This is similar to the distribution of deaths by all causes in Italy that I looked at in Question 2."
   ]
  },
  {
   "cell_type": "markdown",
   "metadata": {},
   "source": [
    "## Question 5\n",
    "Finally, I will compare and contrast the frequency of deaths by *Neoplasms* in Italy and Australia in 2010."
   ]
  },
  {
   "cell_type": "code",
   "execution_count": 474,
   "metadata": {},
   "outputs": [
    {
     "data": {
      "text/html": [
       "<div>\n",
       "<style scoped>\n",
       "    .dataframe tbody tr th:only-of-type {\n",
       "        vertical-align: middle;\n",
       "    }\n",
       "\n",
       "    .dataframe tbody tr th {\n",
       "        vertical-align: top;\n",
       "    }\n",
       "\n",
       "    .dataframe thead th {\n",
       "        text-align: right;\n",
       "    }\n",
       "</style>\n",
       "<table border=\"1\" class=\"dataframe\">\n",
       "  <thead>\n",
       "    <tr style=\"text-align: right;\">\n",
       "      <th></th>\n",
       "      <th>Country</th>\n",
       "      <th>Name</th>\n",
       "      <th>Population</th>\n",
       "      <th>Total Deaths</th>\n",
       "      <th>Death Rate (per 100,000 of population)</th>\n",
       "    </tr>\n",
       "  </thead>\n",
       "  <tbody>\n",
       "    <tr>\n",
       "      <th>0</th>\n",
       "      <td>4180</td>\n",
       "      <td>Italy</td>\n",
       "      <td>60483386.0</td>\n",
       "      <td>174405</td>\n",
       "      <td>288.351912</td>\n",
       "    </tr>\n",
       "    <tr>\n",
       "      <th>1</th>\n",
       "      <td>5020</td>\n",
       "      <td>Australia</td>\n",
       "      <td>22297515.0</td>\n",
       "      <td>43276</td>\n",
       "      <td>194.084408</td>\n",
       "    </tr>\n",
       "  </tbody>\n",
       "</table>\n",
       "</div>"
      ],
      "text/plain": [
       "   Country       Name  Population  Total Deaths  \\\n",
       "0     4180      Italy  60483386.0        174405   \n",
       "1     5020  Australia  22297515.0         43276   \n",
       "\n",
       "   Death Rate (per 100,000 of population)  \n",
       "0                              288.351912  \n",
       "1                              194.084408  "
      ]
     },
     "execution_count": 474,
     "metadata": {},
     "output_type": "execute_result"
    }
   ],
   "source": [
    "#Create a dataframe to compare \n",
    "q5_countries = country_code('Italy','Australia')\n",
    "\n",
    "#Merge with population from population 2010 data frame\n",
    "q5_countries = q5_countries.merge(pop_2010, on='Country')\n",
    "\n",
    "#Create dataframe with total neoplasms for each country\n",
    "neoplasms_grouped = neoplasms_2010.groupby('Country').sum().reset_index()[['Country','Deaths1']]\n",
    "\n",
    "#Add deaths from neoplasms to countries dataset\n",
    "q5_countries = q5_countries.merge(neoplasms_grouped, on='Country')\n",
    "\n",
    "#Calculate crude death rate\n",
    "q5_countries['Death Rate (per 100,000 of population)'] = q5_countries['Deaths1']/q5_countries['Pop1']*100000\n",
    "q5_countries.rename(columns={'Pop1':'Population', 'Deaths1':'Total Deaths'})"
   ]
  },
  {
   "cell_type": "code",
   "execution_count": 808,
   "metadata": {},
   "outputs": [
    {
     "data": {
      "text/plain": [
       "Text(0.5, 0, 'Country')"
      ]
     },
     "execution_count": 808,
     "metadata": {},
     "output_type": "execute_result"
    },
    {
     "data": {
      "image/png": "[encoded data removed]",
      "text/plain": [
       "<Figure size 576x432 with 1 Axes>"
      ]
     },
     "metadata": {
      "needs_background": "light"
     },
     "output_type": "display_data"
    }
   ],
   "source": [
    "ax1 = q5_countries.plot.bar(x='Name', y='Death Rate (per 100,000 of population)',figsize=(8,6),legend=False)\n",
    "ax1.set_title('Crude Death rate from all neoplasms')\n",
    "ax1.set_ylabel('Death rate (per 100,000 of popultion)')\n",
    "ax1.set_xlabel('Country')"
   ]
  },
  {
   "cell_type": "markdown",
   "metadata": {},
   "source": [
    "<p>Italy had a higher total number deaths by Neoplasm than Australia in 2010 (174,405 compared to 43,276).</p>\n",
    "<p>However, the population of Italy is nearly three times the population of Australia, so death rate is a more meaningful statistic.  Calculating death rate (expressed as deaths per 100,000 of the population) shows that Italy has a higher death rate than Australia (288 compared to 194).</p>\n",
    "<p>We have observed in Question 4 that death by Neoplasm is more common in older people.  Therefor, Italy's higher death rate may be due to having an older population.  In order to fairly compare death rates between countries, it is common to standardize the population age structure.  I will do this now."
   ]
  },
  {
   "cell_type": "code",
   "execution_count": 809,
   "metadata": {
    "scrolled": true
   },
   "outputs": [
    {
     "data": {
      "text/html": [
       "<div>\n",
       "<style scoped>\n",
       "    .dataframe tbody tr th:only-of-type {\n",
       "        vertical-align: middle;\n",
       "    }\n",
       "\n",
       "    .dataframe tbody tr th {\n",
       "        vertical-align: top;\n",
       "    }\n",
       "\n",
       "    .dataframe thead th {\n",
       "        text-align: right;\n",
       "    }\n",
       "</style>\n",
       "<table border=\"1\" class=\"dataframe\">\n",
       "  <thead>\n",
       "    <tr style=\"text-align: right;\">\n",
       "      <th></th>\n",
       "      <th>Country</th>\n",
       "      <th>Name</th>\n",
       "      <th>Year</th>\n",
       "      <th>Pop1</th>\n",
       "      <th>Pop2</th>\n",
       "      <th>Pop3</th>\n",
       "      <th>Pop4</th>\n",
       "      <th>Pop5</th>\n",
       "      <th>Pop6</th>\n",
       "      <th>Pop7</th>\n",
       "      <th>...</th>\n",
       "      <th>Rate16</th>\n",
       "      <th>Rate17</th>\n",
       "      <th>Rate18</th>\n",
       "      <th>Rate19</th>\n",
       "      <th>Rate20</th>\n",
       "      <th>Rate21</th>\n",
       "      <th>Rate22</th>\n",
       "      <th>Rate23</th>\n",
       "      <th>Rate24</th>\n",
       "      <th>Rate25</th>\n",
       "    </tr>\n",
       "  </thead>\n",
       "  <tbody>\n",
       "    <tr>\n",
       "      <th>0</th>\n",
       "      <td>4180</td>\n",
       "      <td>Italy</td>\n",
       "      <td>4020</td>\n",
       "      <td>60483386.0</td>\n",
       "      <td>559179.0</td>\n",
       "      <td>571110.0</td>\n",
       "      <td>573359.0</td>\n",
       "      <td>571598.0</td>\n",
       "      <td>570307.0</td>\n",
       "      <td>2838221.0</td>\n",
       "      <td>...</td>\n",
       "      <td>0.001386</td>\n",
       "      <td>0.002298</td>\n",
       "      <td>0.003731</td>\n",
       "      <td>0.005746</td>\n",
       "      <td>0.008209</td>\n",
       "      <td>0.011765</td>\n",
       "      <td>0.016420</td>\n",
       "      <td>0.020414</td>\n",
       "      <td>0.022993</td>\n",
       "      <td>0.021794</td>\n",
       "    </tr>\n",
       "    <tr>\n",
       "      <th>1</th>\n",
       "      <td>5020</td>\n",
       "      <td>Australia</td>\n",
       "      <td>4020</td>\n",
       "      <td>22297515.0</td>\n",
       "      <td>289368.0</td>\n",
       "      <td>297513.0</td>\n",
       "      <td>294321.0</td>\n",
       "      <td>286030.0</td>\n",
       "      <td>282736.0</td>\n",
       "      <td>1365354.0</td>\n",
       "      <td>...</td>\n",
       "      <td>0.001196</td>\n",
       "      <td>0.002031</td>\n",
       "      <td>0.003251</td>\n",
       "      <td>0.005247</td>\n",
       "      <td>0.008040</td>\n",
       "      <td>0.011357</td>\n",
       "      <td>0.016287</td>\n",
       "      <td>0.020774</td>\n",
       "      <td>0.023344</td>\n",
       "      <td>0.025022</td>\n",
       "    </tr>\n",
       "  </tbody>\n",
       "</table>\n",
       "<p>2 rows × 77 columns</p>\n",
       "</div>"
      ],
      "text/plain": [
       "   Country       Name  Year        Pop1      Pop2      Pop3      Pop4  \\\n",
       "0     4180      Italy  4020  60483386.0  559179.0  571110.0  573359.0   \n",
       "1     5020  Australia  4020  22297515.0  289368.0  297513.0  294321.0   \n",
       "\n",
       "       Pop5      Pop6       Pop7    ...       Rate16    Rate17    Rate18  \\\n",
       "0  571598.0  570307.0  2838221.0    ...     0.001386  0.002298  0.003731   \n",
       "1  286030.0  282736.0  1365354.0    ...     0.001196  0.002031  0.003251   \n",
       "\n",
       "     Rate19    Rate20    Rate21    Rate22    Rate23    Rate24    Rate25  \n",
       "0  0.005746  0.008209  0.011765  0.016420  0.020414  0.022993  0.021794  \n",
       "1  0.005247  0.008040  0.011357  0.016287  0.020774  0.023344  0.025022  \n",
       "\n",
       "[2 rows x 77 columns]"
      ]
     },
     "execution_count": 809,
     "metadata": {},
     "output_type": "execute_result"
    }
   ],
   "source": [
    "#Create a new data frame for Italy and Australia in order to calculate age-standarized death rates\n",
    "q5_countries_2 = country_code('italy','australia')\n",
    "\n",
    "#Generate dataframe for population and deaths for all age groups\n",
    "pop_2010_2 = year_totals(2010,pop_df)\n",
    "deaths_2010_2 = neoplasms_2010.groupby('Country').sum().reset_index()\n",
    "\n",
    "#Select Country, Year and Age groups 2-25 \n",
    "col_selection = ['Country','Year']\n",
    "pop_selection = ['Pop'+str(x) for x in range(1,26)]\n",
    "deaths_selection = ['Deaths'+str(x) for x in range(1,26)]\n",
    "\n",
    "#merge to create dataset with column for population and death for each age group\n",
    "q5_countries_2 = q5_countries_2.merge(pop_2010_2[col_selection + pop_selection], on='Country')\n",
    "q5_countries_2 = q5_countries_2.merge(deaths_2010_2[['Country'] + deaths_selection], on='Country')\n",
    "\n",
    "#Create columns for Age-specific Rates\n",
    "for i in range(2,26):\n",
    "    i=str(i)\n",
    "    q5_countries_2['Rate'+i] = q5_countries_2['Deaths'+i]/q5_countries_2['Pop'+i]\n",
    "q5_countries_2"
   ]
  },
  {
   "cell_type": "code",
   "execution_count": 810,
   "metadata": {},
   "outputs": [
    {
     "data": {
      "text/html": [
       "<div>\n",
       "<style scoped>\n",
       "    .dataframe tbody tr th:only-of-type {\n",
       "        vertical-align: middle;\n",
       "    }\n",
       "\n",
       "    .dataframe tbody tr th {\n",
       "        vertical-align: top;\n",
       "    }\n",
       "\n",
       "    .dataframe thead th {\n",
       "        text-align: right;\n",
       "    }\n",
       "</style>\n",
       "<table border=\"1\" class=\"dataframe\">\n",
       "  <thead>\n",
       "    <tr style=\"text-align: right;\">\n",
       "      <th></th>\n",
       "      <th>Country</th>\n",
       "      <th>Year</th>\n",
       "      <th>Pop1</th>\n",
       "      <th>Pop2</th>\n",
       "      <th>Pop3</th>\n",
       "      <th>Pop4</th>\n",
       "      <th>Pop5</th>\n",
       "      <th>Pop6</th>\n",
       "      <th>Pop7</th>\n",
       "      <th>Pop8</th>\n",
       "      <th>...</th>\n",
       "      <th>Pop16</th>\n",
       "      <th>Pop17</th>\n",
       "      <th>Pop18</th>\n",
       "      <th>Pop19</th>\n",
       "      <th>Pop20</th>\n",
       "      <th>Pop21</th>\n",
       "      <th>Pop22</th>\n",
       "      <th>Pop23</th>\n",
       "      <th>Pop24</th>\n",
       "      <th>Pop25</th>\n",
       "    </tr>\n",
       "  </thead>\n",
       "  <tbody>\n",
       "    <tr>\n",
       "      <th>0</th>\n",
       "      <td>4600.0</td>\n",
       "      <td>4020</td>\n",
       "      <td>41390450.5</td>\n",
       "      <td>424273.5</td>\n",
       "      <td>434311.5</td>\n",
       "      <td>433840.0</td>\n",
       "      <td>428814.0</td>\n",
       "      <td>426521.5</td>\n",
       "      <td>2101787.5</td>\n",
       "      <td>2107819.0</td>\n",
       "      <td>...</td>\n",
       "      <td>2781540.5</td>\n",
       "      <td>2520617.5</td>\n",
       "      <td>2484349.0</td>\n",
       "      <td>2007945.5</td>\n",
       "      <td>1889398.0</td>\n",
       "      <td>1542492.5</td>\n",
       "      <td>1175970.5</td>\n",
       "      <td>712402.0</td>\n",
       "      <td>218889.0</td>\n",
       "      <td>82725.0</td>\n",
       "    </tr>\n",
       "  </tbody>\n",
       "</table>\n",
       "<p>1 rows × 27 columns</p>\n",
       "</div>"
      ],
      "text/plain": [
       "   Country  Year        Pop1      Pop2      Pop3      Pop4      Pop5  \\\n",
       "0   4600.0  4020  41390450.5  424273.5  434311.5  433840.0  428814.0   \n",
       "\n",
       "       Pop6       Pop7       Pop8   ...         Pop16      Pop17      Pop18  \\\n",
       "0  426521.5  2101787.5  2107819.0   ...     2781540.5  2520617.5  2484349.0   \n",
       "\n",
       "       Pop19      Pop20      Pop21      Pop22     Pop23     Pop24    Pop25  \n",
       "0  2007945.5  1889398.0  1542492.5  1175970.5  712402.0  218889.0  82725.0  \n",
       "\n",
       "[1 rows x 27 columns]"
      ]
     },
     "execution_count": 810,
     "metadata": {},
     "output_type": "execute_result"
    }
   ],
   "source": [
    "#Create standardised populations for age group based on the mean between italy and australia\n",
    "age_standard = q5_countries_2.groupby('Year').mean().reset_index()[col_selection+pop_selection]\n",
    "age_standard"
   ]
  },
  {
   "cell_type": "code",
   "execution_count": 811,
   "metadata": {},
   "outputs": [
    {
     "data": {
      "text/html": [
       "<div>\n",
       "<style scoped>\n",
       "    .dataframe tbody tr th:only-of-type {\n",
       "        vertical-align: middle;\n",
       "    }\n",
       "\n",
       "    .dataframe tbody tr th {\n",
       "        vertical-align: top;\n",
       "    }\n",
       "\n",
       "    .dataframe thead th {\n",
       "        text-align: right;\n",
       "    }\n",
       "</style>\n",
       "<table border=\"1\" class=\"dataframe\">\n",
       "  <thead>\n",
       "    <tr style=\"text-align: right;\">\n",
       "      <th></th>\n",
       "      <th>Country</th>\n",
       "      <th>Name</th>\n",
       "      <th>Year</th>\n",
       "      <th>Pop1</th>\n",
       "      <th>Pop2</th>\n",
       "      <th>Pop3</th>\n",
       "      <th>Pop4</th>\n",
       "      <th>Pop5</th>\n",
       "      <th>Pop6</th>\n",
       "      <th>Pop7</th>\n",
       "      <th>...</th>\n",
       "      <th>Std_Deaths16</th>\n",
       "      <th>Std_Deaths17</th>\n",
       "      <th>Std_Deaths18</th>\n",
       "      <th>Std_Deaths19</th>\n",
       "      <th>Std_Deaths20</th>\n",
       "      <th>Std_Deaths21</th>\n",
       "      <th>Std_Deaths22</th>\n",
       "      <th>Std_Deaths23</th>\n",
       "      <th>Std_Deaths24</th>\n",
       "      <th>Std_Deaths25</th>\n",
       "    </tr>\n",
       "  </thead>\n",
       "  <tbody>\n",
       "    <tr>\n",
       "      <th>0</th>\n",
       "      <td>4180</td>\n",
       "      <td>Italy</td>\n",
       "      <td>4020</td>\n",
       "      <td>60483386.0</td>\n",
       "      <td>559179.0</td>\n",
       "      <td>571110.0</td>\n",
       "      <td>573359.0</td>\n",
       "      <td>571598.0</td>\n",
       "      <td>570307.0</td>\n",
       "      <td>2838221.0</td>\n",
       "      <td>...</td>\n",
       "      <td>3853.906673</td>\n",
       "      <td>5792.082635</td>\n",
       "      <td>9269.596299</td>\n",
       "      <td>11537.703532</td>\n",
       "      <td>15510.487162</td>\n",
       "      <td>18146.769905</td>\n",
       "      <td>19309.702880</td>\n",
       "      <td>14542.628218</td>\n",
       "      <td>5032.943855</td>\n",
       "      <td>1802.909170</td>\n",
       "    </tr>\n",
       "    <tr>\n",
       "      <th>1</th>\n",
       "      <td>5020</td>\n",
       "      <td>Australia</td>\n",
       "      <td>4020</td>\n",
       "      <td>22297515.0</td>\n",
       "      <td>289368.0</td>\n",
       "      <td>297513.0</td>\n",
       "      <td>294321.0</td>\n",
       "      <td>286030.0</td>\n",
       "      <td>282736.0</td>\n",
       "      <td>1365354.0</td>\n",
       "      <td>...</td>\n",
       "      <td>3327.473553</td>\n",
       "      <td>5120.341615</td>\n",
       "      <td>8077.476106</td>\n",
       "      <td>10535.237412</td>\n",
       "      <td>15191.243996</td>\n",
       "      <td>17517.738323</td>\n",
       "      <td>19153.571835</td>\n",
       "      <td>14799.699330</td>\n",
       "      <td>5109.848476</td>\n",
       "      <td>2069.968122</td>\n",
       "    </tr>\n",
       "  </tbody>\n",
       "</table>\n",
       "<p>2 rows × 101 columns</p>\n",
       "</div>"
      ],
      "text/plain": [
       "   Country       Name  Year        Pop1      Pop2      Pop3      Pop4  \\\n",
       "0     4180      Italy  4020  60483386.0  559179.0  571110.0  573359.0   \n",
       "1     5020  Australia  4020  22297515.0  289368.0  297513.0  294321.0   \n",
       "\n",
       "       Pop5      Pop6       Pop7      ...       Std_Deaths16  Std_Deaths17  \\\n",
       "0  571598.0  570307.0  2838221.0      ...        3853.906673   5792.082635   \n",
       "1  286030.0  282736.0  1365354.0      ...        3327.473553   5120.341615   \n",
       "\n",
       "   Std_Deaths18  Std_Deaths19  Std_Deaths20  Std_Deaths21  Std_Deaths22  \\\n",
       "0   9269.596299  11537.703532  15510.487162  18146.769905  19309.702880   \n",
       "1   8077.476106  10535.237412  15191.243996  17517.738323  19153.571835   \n",
       "\n",
       "   Std_Deaths23  Std_Deaths24  Std_Deaths25  \n",
       "0  14542.628218   5032.943855   1802.909170  \n",
       "1  14799.699330   5109.848476   2069.968122  \n",
       "\n",
       "[2 rows x 101 columns]"
      ]
     },
     "execution_count": 811,
     "metadata": {},
     "output_type": "execute_result"
    }
   ],
   "source": [
    "#Create Age Standardised Deaths based on age-group death rate and standardized population size\n",
    "for i in range(2,26):\n",
    "    i=str(i)\n",
    "    q5_countries_2['Std_Deaths'+i] = q5_countries_2['Rate'+i] * age_standard.loc[0,'Pop'+i]\n",
    "q5_countries_2"
   ]
  },
  {
   "cell_type": "code",
   "execution_count": 812,
   "metadata": {},
   "outputs": [
    {
     "data": {
      "text/html": [
       "<div>\n",
       "<style scoped>\n",
       "    .dataframe tbody tr th:only-of-type {\n",
       "        vertical-align: middle;\n",
       "    }\n",
       "\n",
       "    .dataframe tbody tr th {\n",
       "        vertical-align: top;\n",
       "    }\n",
       "\n",
       "    .dataframe thead th {\n",
       "        text-align: right;\n",
       "    }\n",
       "</style>\n",
       "<table border=\"1\" class=\"dataframe\">\n",
       "  <thead>\n",
       "    <tr style=\"text-align: right;\">\n",
       "      <th></th>\n",
       "      <th>Name</th>\n",
       "      <th>Deaths1</th>\n",
       "      <th>Total_Std_Deaths</th>\n",
       "    </tr>\n",
       "  </thead>\n",
       "  <tbody>\n",
       "    <tr>\n",
       "      <th>0</th>\n",
       "      <td>Italy</td>\n",
       "      <td>174405</td>\n",
       "      <td>109878.655399</td>\n",
       "    </tr>\n",
       "    <tr>\n",
       "      <th>1</th>\n",
       "      <td>Australia</td>\n",
       "      <td>43276</td>\n",
       "      <td>105554.303078</td>\n",
       "    </tr>\n",
       "  </tbody>\n",
       "</table>\n",
       "</div>"
      ],
      "text/plain": [
       "        Name  Deaths1  Total_Std_Deaths\n",
       "0      Italy   174405     109878.655399\n",
       "1  Australia    43276     105554.303078"
      ]
     },
     "execution_count": 812,
     "metadata": {},
     "output_type": "execute_result"
    }
   ],
   "source": [
    "#Create column of sum of total standardised deaths for all age groups (columns 77:101)\n",
    "q5_countries_2['Total_Std_Deaths'] = q5_countries_2[q5_countries_2.columns[77:101]].sum(axis=1)\n",
    "q5_countries_2[['Name','Deaths1','Total_Std_Deaths']]"
   ]
  },
  {
   "cell_type": "code",
   "execution_count": 813,
   "metadata": {},
   "outputs": [
    {
     "data": {
      "text/html": [
       "<div>\n",
       "<style scoped>\n",
       "    .dataframe tbody tr th:only-of-type {\n",
       "        vertical-align: middle;\n",
       "    }\n",
       "\n",
       "    .dataframe tbody tr th {\n",
       "        vertical-align: top;\n",
       "    }\n",
       "\n",
       "    .dataframe thead th {\n",
       "        text-align: right;\n",
       "    }\n",
       "</style>\n",
       "<table border=\"1\" class=\"dataframe\">\n",
       "  <thead>\n",
       "    <tr style=\"text-align: right;\">\n",
       "      <th></th>\n",
       "      <th>Name</th>\n",
       "      <th>Std_Rate</th>\n",
       "    </tr>\n",
       "  </thead>\n",
       "  <tbody>\n",
       "    <tr>\n",
       "      <th>0</th>\n",
       "      <td>Italy</td>\n",
       "      <td>265.468614</td>\n",
       "    </tr>\n",
       "    <tr>\n",
       "      <th>1</th>\n",
       "      <td>Australia</td>\n",
       "      <td>255.020909</td>\n",
       "    </tr>\n",
       "  </tbody>\n",
       "</table>\n",
       "</div>"
      ],
      "text/plain": [
       "        Name    Std_Rate\n",
       "0      Italy  265.468614\n",
       "1  Australia  255.020909"
      ]
     },
     "execution_count": 813,
     "metadata": {},
     "output_type": "execute_result"
    }
   ],
   "source": [
    "#Create column for Age-Standardized death Rate from cancer\n",
    "q5_countries_2['Std_Rate'] = q5_countries_2['Total_Std_Deaths'] / age_standard.loc[0,'Pop1']*100000\n",
    "q5_countries_2[['Name','Std_Rate']]"
   ]
  },
  {
   "cell_type": "code",
   "execution_count": 814,
   "metadata": {},
   "outputs": [
    {
     "data": {
      "text/plain": [
       "Text(0.5, 0, 'Country')"
      ]
     },
     "execution_count": 814,
     "metadata": {},
     "output_type": "execute_result"
    },
    {
     "data": {
      "image/png": "[encoded data removed]",
      "text/plain": [
       "<Figure size 576x432 with 1 Axes>"
      ]
     },
     "metadata": {
      "needs_background": "light"
     },
     "output_type": "display_data"
    }
   ],
   "source": [
    "#plot the age-standardized bar chart\n",
    "ax2 = q5_countries_2.plot.bar(x='Name', y='Std_Rate',figsize=(8,6),legend=False)\n",
    "ax2.set_title('Age-Standardized Death Rate from all Neoplasms')\n",
    "ax2.set_ylabel('Death rate (per 100,000 of popultion)')\n",
    "ax2.set_xlabel('Country')"
   ]
  },
  {
   "cell_type": "markdown",
   "metadata": {},
   "source": [
    "After standardizing the population age structure (taken as the mean between Australia and Italy), the age-standardized death rate is calculated.  This is the death rate if each country had the same death rate within each age group as is observed, but instead had a standard population structure.  This shows that although Italy still has a slightly higher death rate from Neoplasms, it is not as different as in the crude analysis (265 compared to 255 per 100,000 population)."
   ]
  }
 ],
 "metadata": {
  "kernelspec": {
   "display_name": "Python 3",
   "language": "python",
   "name": "python3"
  },
  "language_info": {
   "codemirror_mode": {
    "name": "ipython",
    "version": 3
   },
   "file_extension": ".py",
   "mimetype": "text/x-python",
   "name": "python",
   "nbconvert_exporter": "python",
   "pygments_lexer": "ipython3",
   "version": "3.7.1"
  }
 },
 "nbformat": 4,
 "nbformat_minor": 2
}
